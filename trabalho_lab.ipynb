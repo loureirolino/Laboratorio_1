{
  "nbformat": 4,
  "nbformat_minor": 0,
  "metadata": {
    "colab": {
      "name": "Copy of trabalho_lab.ipynb",
      "provenance": [],
      "collapsed_sections": [
        "yUF-mTeFTN7a",
        "t6nhL_f1TY1q",
        "gSdXSxF71sZy"
      ]
    },
    "kernelspec": {
      "display_name": "Python 3",
      "name": "python3"
    },
    "language_info": {
      "name": "python"
    }
  },
  "cells": [
    {
      "cell_type": "markdown",
      "metadata": {
        "id": "SQFBZnS1SZtI"
      },
      "source": [
        "# Laboratório de Estatística 1\n",
        "\n",
        "## Educação Superior - Subgrupo 1\n",
        "\n",
        "Componentes:\n",
        "* Ailton Patrício dos Santos Júnior - 180011618\n",
        "* Juliana Magalhães Rosa - 180020935\n",
        "* Lucas Loureiro Lino da Costa - 190016566"
      ]
    },
    {
      "cell_type": "markdown",
      "metadata": {
        "id": "yUF-mTeFTN7a"
      },
      "source": [
        "## Pacotes e WD"
      ]
    },
    {
      "cell_type": "code",
      "metadata": {
        "colab": {
          "base_uri": "https://localhost:8080/"
        },
        "id": "5i4wlBHIZJx8",
        "outputId": "64d7d3ef-e470-4eac-f531-c8c58d5d46c8"
      },
      "source": [
        "# Carregando os pacotes:\n",
        "import numpy as np\n",
        "import pandas as pd\n",
        "import matplotlib.pyplot as plt\n",
        "import scipy\n",
        "from scipy import stats\n",
        "import seaborn as sns\n",
        "from tabulate import tabulate\n",
        "import os\n",
        "import re\n",
        "\n",
        "# Pacote para conversão de caracteres UNICODE e ASCII:\n",
        "!pip install unidecode\n",
        "import unidecode\n",
        "\n",
        "# Carregando o google Drive a API\n",
        "from google.colab import drive\n",
        "drive.mount('/content/drive')\n",
        "\n",
        "# Configurando o working directory:\n",
        "wd = \"/content/drive/MyDrive/Datasets\"\n",
        "\n",
        "os.chdir(wd)"
      ],
      "execution_count": 1,
      "outputs": [
        {
          "output_type": "stream",
          "name": "stdout",
          "text": [
            "Collecting unidecode\n",
            "  Downloading Unidecode-1.3.2-py3-none-any.whl (235 kB)\n",
            "\u001b[?25l\r\u001b[K     |█▍                              | 10 kB 23.0 MB/s eta 0:00:01\r\u001b[K     |██▉                             | 20 kB 28.2 MB/s eta 0:00:01\r\u001b[K     |████▏                           | 30 kB 25.7 MB/s eta 0:00:01\r\u001b[K     |█████▋                          | 40 kB 25.9 MB/s eta 0:00:01\r\u001b[K     |███████                         | 51 kB 28.7 MB/s eta 0:00:01\r\u001b[K     |████████▍                       | 61 kB 30.0 MB/s eta 0:00:01\r\u001b[K     |█████████▊                      | 71 kB 30.4 MB/s eta 0:00:01\r\u001b[K     |███████████▏                    | 81 kB 31.5 MB/s eta 0:00:01\r\u001b[K     |████████████▌                   | 92 kB 21.7 MB/s eta 0:00:01\r\u001b[K     |██████████████                  | 102 kB 22.4 MB/s eta 0:00:01\r\u001b[K     |███████████████▎                | 112 kB 22.4 MB/s eta 0:00:01\r\u001b[K     |████████████████▊               | 122 kB 22.4 MB/s eta 0:00:01\r\u001b[K     |██████████████████              | 133 kB 22.4 MB/s eta 0:00:01\r\u001b[K     |███████████████████▌            | 143 kB 22.4 MB/s eta 0:00:01\r\u001b[K     |████████████████████▉           | 153 kB 22.4 MB/s eta 0:00:01\r\u001b[K     |██████████████████████▎         | 163 kB 22.4 MB/s eta 0:00:01\r\u001b[K     |███████████████████████▋        | 174 kB 22.4 MB/s eta 0:00:01\r\u001b[K     |█████████████████████████       | 184 kB 22.4 MB/s eta 0:00:01\r\u001b[K     |██████████████████████████▍     | 194 kB 22.4 MB/s eta 0:00:01\r\u001b[K     |███████████████████████████▉    | 204 kB 22.4 MB/s eta 0:00:01\r\u001b[K     |█████████████████████████████▏  | 215 kB 22.4 MB/s eta 0:00:01\r\u001b[K     |██████████████████████████████▋ | 225 kB 22.4 MB/s eta 0:00:01\r\u001b[K     |████████████████████████████████| 235 kB 22.4 MB/s eta 0:00:01\r\u001b[K     |████████████████████████████████| 235 kB 22.4 MB/s \n",
            "\u001b[?25hInstalling collected packages: unidecode\n",
            "Successfully installed unidecode-1.3.2\n",
            "Mounted at /content/drive\n"
          ]
        }
      ]
    },
    {
      "cell_type": "markdown",
      "metadata": {
        "id": "t6nhL_f1TY1q"
      },
      "source": [
        "## Carregando os DBs,  conferindo integridade,  padronizações e unificação dos dados "
      ]
    },
    {
      "cell_type": "code",
      "metadata": {
        "colab": {
          "base_uri": "https://localhost:8080/"
        },
        "id": "4-ZAoYz2ZRiu",
        "outputId": "aff59890-e4e0-45f0-bbd4-ba4d09e31728"
      },
      "source": [
        "# Filtrando somente os arquivos csv do nosso WD a serem usados:\n",
        "file = []\n",
        "for item in os.listdir():\n",
        "    if item.endswith(\".csv\"):\n",
        "        file.append(item)\n",
        "file.sort()\n",
        "        \n",
        "# Importando os arquivos csv como DB do Pandas:\n",
        "db_sigra = pd.read_csv(file[1],sep = \",\")\n",
        "db_sigaa = pd.read_csv(file[0],sep = \",\")\n",
        "\n",
        "\n",
        "# Conferindo entradas duplicadas, para ambos os DBs:\n",
        "# Como os dois objetos tem a mesma extenção, não temos duplicatas\n",
        "# para ambos os casos\n",
        "print(len(db_sigra) == \\\n",
        "      len(db_sigra[~db_sigra.duplicated()\\\n",
        "                   .groupby(db_sigra['Matrícula']).transform('any')]))\n",
        "print(len(db_sigra))\n",
        "\n",
        "\n",
        "print(len(db_sigaa) == \\\n",
        "      len(db_sigaa[~db_sigaa.duplicated()\\\n",
        "                   .groupby(db_sigaa['Matrícula']).transform('any')]))\n",
        "print(len(db_sigaa))"
      ],
      "execution_count": 3,
      "outputs": [
        {
          "output_type": "stream",
          "name": "stdout",
          "text": [
            "True\n",
            "380426\n",
            "True\n",
            "11375\n"
          ]
        }
      ]
    },
    {
      "cell_type": "code",
      "metadata": {
        "id": "ellOZrhjTXhT"
      },
      "source": [
        "# Removendo acentos dos nomes das colunas e\n",
        "# colocando os mesmos em maiúsculo para ambos os DBs:\n",
        "db_sigra.columns = db_sigra.columns.str.normalize('NFKD')\\\n",
        "       .str.encode('ascii', errors='ignore')\\\n",
        "       .str.decode('utf-8')\\\n",
        "       .str.upper()\n",
        "\n",
        "db_sigaa.columns = db_sigaa.columns.str.normalize('NFKD')\\\n",
        "       .str.encode('ascii', errors='ignore')\\\n",
        "       .str.decode('utf-8')\\\n",
        "       .str.upper()"
      ],
      "execution_count": 4,
      "outputs": []
    },
    {
      "cell_type": "code",
      "metadata": {
        "id": "dhEL20dFgHGP"
      },
      "source": [
        "# Renomeando a coluna SEMESTRE em db_sigra para ter o mesmo nome que em db_sigaa: \n",
        "db_sigra = db_sigra.rename({'SEMESTRE EM QUE CURSOU A DISCIPLINA': 'SEMESTRE'}\\\n",
        "                           , axis=1)"
      ],
      "execution_count": 5,
      "outputs": []
    },
    {
      "cell_type": "code",
      "metadata": {
        "id": "ilEhoYodeWEk"
      },
      "source": [
        "# Removendo acentos  e colocando todas as entradas em maísculo de ambos os DBs:\n",
        "db_sigaa = db_sigaa.astype(str)\n",
        "db_sigra = db_sigra.astype(str)\n",
        "for column in list(db_sigaa.columns):\n",
        "  db_sigaa[column] = db_sigaa[column].apply(unidecode.unidecode)\n",
        "  db_sigaa[column] = db_sigaa[column].apply(str.upper)\n",
        "\n",
        "for column in list(db_sigra.columns):\n",
        "  db_sigra[column] = db_sigra[column].apply(unidecode.unidecode)\n",
        "  db_sigra[column] = db_sigra[column].apply(str.upper)\n"
      ],
      "execution_count": 6,
      "outputs": []
    },
    {
      "cell_type": "code",
      "metadata": {
        "id": "LdNLR8Wmsc5z"
      },
      "source": [
        "# Padronizando os nomes das disciplinas:\n",
        "nomes_disciplinas = []\n",
        "for cod in db_sigra[\"COD. DISCIPLINA\"].unique():\n",
        "  nomes_disciplinas.append(\\\n",
        "                           db_sigra[db_sigra[\"COD. DISCIPLINA\"] == cod]\\\n",
        "                           [\"DISCIPLINA\"].unique()[0])\n",
        "  \n",
        "\n",
        "nomes_cod_disciplinas = []\n",
        "for i in range(len(db_sigra[\"COD. DISCIPLINA\"].unique())):\n",
        "  nomes_cod_disciplinas.append(\\\n",
        "                               (nomes_disciplinas[i],\\\n",
        "                                db_sigra[\"COD. DISCIPLINA\"].unique()[i]))\n",
        "\n",
        "for i in range(len(db_sigra)):\n",
        "  for x in range(len(nomes_cod_disciplinas)):\n",
        "    if db_sigra['COD. DISCIPLINA'][i] in nomes_disciplinas[x][1]:\n",
        "      db_sigra[\"DISCIPLINA\"][i] = nomes_cod_disciplinas[x][0]"
      ],
      "execution_count": 7,
      "outputs": []
    },
    {
      "cell_type": "code",
      "metadata": {
        "id": "Gs_JVyFnXyp7"
      },
      "source": [
        "# lista disciplinas da estatística:\n",
        "disciplinas_estatistica = ['ESTATISTICA APLICADA', 'PROBABILIDADE E ESTATISTICA',\n",
        "       'METODOS ESTATISTICOS 1', 'BIOESTATISTICA',\n",
        "       'INTRODUCAO A PROBABILIDADE', 'INFERENCIA ESTATISTICA',\n",
        "       'ESTATISTICA EXPLORATORIA 1', 'CONTROLE ESTATISTICO DE QUALIDADE',\n",
        "       'DEMOGRAFIA', 'APLICACOES DA ESTATISTICA 1',\n",
        "       'ESTAGIO SUPERVISIONADO EM ESTATISTICA 1',\n",
        "       'TECNICAS DE AMOSTRAGEM', 'PLANEJAMENTO E PESQUISA 1',\n",
        "       'PLANEJAMENTO E PESQUISA 2', 'ANALISE DAS SERIES TEMPORAIS',\n",
        "       'PESQUISA OPERACIONAL 1', 'ANALISE MULTIVARIADA 2',\n",
        "       'METODOS ESTATISTICOS 2',\n",
        "       'ESTAGIO SUPERVISIONADO EM ESTATISTICA 2',\n",
        "       'PESQUISA OPERACIONAL 2', 'MEDIDAS DE INFORMACAO E APLICACOES',\n",
        "       'PROCESSOS ESTOCASTICOS', 'APLICACOES DA ESTATISTICA 2',\n",
        "       'ANALISE DE DADOS CATEGORIZADOS',\n",
        "       'INTRODUCAO A ANALISE DE SOBREVIVENCIA',\n",
        "       'COMPUTACAO EM ESTATISTICA 1',\n",
        "       'DELINEAMENTO E ANALISE DE EXPERIMENTOS 2',\n",
        "       'TRABALHO DE CONCLUSAO DE CURSO 2', 'ANALISE DE SOBREVIVENCIA',\n",
        "       'METODOS APLICADOS', 'DELINEAMENTO E ANALISE DE EXPERIMENTOS',\n",
        "       'ANALISE MULTIVARIADA 1', 'ANALISE DE SERIES TEMPORAIS',\n",
        "       'TRABALHO DE CONCLUSAO DE CURSO 1', 'ESTATISTICA EXPLORATORIA',\n",
        "       'TOPICOS EM ESTATISTICA 2', 'COMPUTACAO EM ESTATISTICA 2',\n",
        "       'ESTATISTICA COMPUTACIONAL', 'TOPICOS EM ESTATISTICA 1',\n",
        "       'INFERENCIA BAYESIANA', 'CONSULTORIA',\n",
        "       'TEORIA DA RESPOSTA AO ITEM', 'LABORATORIO DE ESTATISTICA 1',\n",
        "       'MODELOS LINEARES GENERALIZADOS', 'ESTATISTICA ESPACIAL',\n",
        "       'HISTORIA DA ESTATISTICA', 'PROBABILIDADE E ESTATISTICA 2',\n",
        "       'ANALISE DE SERIES TEMPORAIS 2', \"LABORATORIO DE ESTATISTICA 2\",\n",
        "        \"ESTATISTICA EXPLORATORIA 2\", \"ANALISE DE REGRESSAO LINEAR\"]\n",
        "\n",
        "# lista do semestre correspondente ao cod. disiciplina da estatística:\n",
        "# Para aquelas disciplinas de serviço do departamento, usaremos a nomenclatura\n",
        "# 0, já que elas não fazem parte do ciclo de obrigatórias da graduação\n",
        "disciplinas_estatistica_semestre = [0, 0, 2, 0, 1, 4, 1, 0, 4, 0, 0, 4, 0, 0, 6,\n",
        "                                    4, 0, 3, 0, 0, 0, 5, 0, 6, 0, 1, 0, 8, 0, 0,\n",
        "                                    5, 6, 6, 7,1, 0, 2, 5, 0, 6, 0, 0, 0, 0, 0,\n",
        "                                    0, 0, 0, 0, 0, 5]\n",
        "\n",
        "# lista disciplinas da matemática:\n",
        "disciplinas_matematica = []\n",
        "\n",
        "for i in range(len(db_sigra[\"DISCIPLINA\"].unique())):\n",
        "  if db_sigra[\"DISCIPLINA\"].unique()[i] in disciplinas_estatistica:\n",
        "    pass\n",
        "  else:\n",
        "    disciplinas_matematica.append(db_sigra[\"DISCIPLINA\"].unique()[i])\n",
        "\n",
        "for i in range(len(db_sigaa[\"DISCIPLINA\"].unique())):\n",
        "  if db_sigaa[\"DISCIPLINA\"].unique()[i] in disciplinas_estatistica \\\n",
        "      or db_sigaa[\"DISCIPLINA\"].unique()[i] in disciplinas_matematica:\n",
        "    pass\n",
        "  else:\n",
        "    disciplinas_matematica.append(db_sigra[\"DISCIPLINA\"].unique()[i])\n",
        "\n",
        "# lista do semestre correspondente ao cod. disiciplina da matemática:\n",
        "# Para aquelas disciplinas optativas da MAT, usarei a nomenclatura\n",
        "# 0, já que elas não fazem parte do ciclo de obrigatórias da graduação\n",
        "disciplinas_matematica_semestre = [2, 3, 3, 1, 2, 4, 3]\n",
        "\n",
        "\n",
        "# Criando nova lista, com as listas unificadas da MAT e EST:\n",
        "disciplinas = disciplinas_matematica + disciplinas_estatistica\n",
        "disciplinas_semestre = disciplinas_matematica_semestre + disciplinas_estatistica_semestre"
      ],
      "execution_count": 11,
      "outputs": []
    },
    {
      "cell_type": "code",
      "metadata": {
        "id": "oPpaWyvWAvwy"
      },
      "source": [
        "# Unificando os DBs em um único:\n",
        "# Como os períodos dos dois DBs são diferentes, vamos apenas concatenar os dados\n",
        "# respeitando a série temporal (sendo assim, não temos duplicatas)\n",
        "db = pd.concat([db_sigra, db_sigaa],ignore_index=True, sort=False)\n",
        "\n",
        "\n",
        "# Retirando as colunas não necessárias:\n",
        "db = db.drop([\"COD. DISCIPLINA\", \"HORA INICIO\", \"HORA FIM\", \"FALTAS\", \"HORARIO\",\n",
        "             \"FREQUENCIA\"], axis=1)\n",
        "\n",
        "# Unificando o nome da disciplina ANALISE DE SERIES TEMPORAIS:\n",
        "for i in range(len(db)):\n",
        "  if db.DISCIPLINA.iloc[i] == \"ANALISE DAS SERIES TEMPORAIS\":\n",
        "    db.DISCIPLINA.iloc[i] = \"ANALISE DE SERIES TEMPORAIS\""
      ],
      "execution_count": 12,
      "outputs": []
    },
    {
      "cell_type": "code",
      "metadata": {
        "id": "k2d3WTttveY5"
      },
      "source": [
        "# Removendo as entradas duplicadas de matérias cursadas no mesmo período\n",
        "# pelo mesmo aluno, provavelmente fruto de transferência interna ou dupla habilitação\n",
        "# ou algo do tipo (cursos diferentes):\n",
        "db = db.drop_duplicates(subset=[\"NOME\", \"DISCIPLINA\", \"SEMESTRE\" ], keep='last')\n",
        "\n",
        "# Usando o NOME como indexador:\n",
        "db = db.set_index(\"NOME\")"
      ],
      "execution_count": 13,
      "outputs": []
    },
    {
      "cell_type": "markdown",
      "metadata": {
        "id": "gSdXSxF71sZy"
      },
      "source": [
        "## Criação de variáveis adicionais ao DB unificado"
      ]
    },
    {
      "cell_type": "code",
      "metadata": {
        "id": "7xXsVUdJJo2y"
      },
      "source": [
        "# Criando variável OFERTANTE, baseado em qual departamento ministra\n",
        "# a disciplina:\n",
        "departamento = []\n",
        "for i in range(len(db)):\n",
        "  if db[\"DISCIPLINA\"][i] in disciplinas_estatistica:\n",
        "    departamento.append(\"EST\")\n",
        "  else:\n",
        "    departamento.append(\"MAT\")\n",
        "db[\"OFERTANTE\"] = departamento"
      ],
      "execution_count": 15,
      "outputs": []
    },
    {
      "cell_type": "code",
      "metadata": {
        "id": "7GycKAOWDXBX"
      },
      "source": [
        "# Criando variável SEMESTRE FLUXO, baseado no fluxo da disciplina:\n",
        "# Vide sessão acima, para mais informações.\n",
        "variavel_fluxo = []\n",
        "for i in range(len(db)):\n",
        "  for j in range(len(disciplinas)):\n",
        "    if db[\"DISCIPLINA\"][i]==disciplinas[j]:\n",
        "      variavel_fluxo.append(disciplinas_semestre[j])\n",
        "      break\n",
        "db[\"SEMESTRE FLUXO\"] = variavel_fluxo"
      ],
      "execution_count": 16,
      "outputs": []
    },
    {
      "cell_type": "code",
      "metadata": {
        "id": "FNHHXR5ZlHQx"
      },
      "source": [
        "# Separando a variável SEMESTRE em ANO e PERIODO_ANO:\n",
        "\n",
        "ANO = []\n",
        "PERIODO_ANO = []\n",
        "\n",
        "for i in range(len(db)):\n",
        "  m = re.split(\"([0-9]{1})$\", db.SEMESTRE.iloc[i])\n",
        "  ANO.append(int(m[0]))\n",
        "  PERIODO_ANO.append(int(m[1]))\n",
        "\n",
        "db[\"ANO\"] = ANO\n",
        "db[\"PERIODO_ANO\"] = PERIODO_ANO"
      ],
      "execution_count": 17,
      "outputs": []
    },
    {
      "cell_type": "code",
      "metadata": {
        "id": "5pcAbkL1Nxaa"
      },
      "source": [
        "# Criando variável referente ao ano de entrada e de saída de cada aluno:\n",
        "alunos = list(db.index.unique())\n",
        "ano_entrada = []\n",
        "ano_saida = []\n",
        "for aluno in alunos:\n",
        "  ano_entrada.append(min(list(db[db.index == aluno][\"ANO\"])))\n",
        "  ano_saida.append(max(list(db[db.index == aluno][\"ANO\"])))\n",
        "\n",
        "\n",
        "db = db.merge(pd.DataFrame(data = {\"NOME\" : alunos,\n",
        "                                      \"ANO_ENTRADA\" : ano_entrada,\n",
        "                                      \"ANO_SAIDA\" : ano_saida}),\n",
        "               on=\"NOME\", how = \"left\")"
      ],
      "execution_count": 23,
      "outputs": []
    },
    {
      "cell_type": "code",
      "metadata": {
        "colab": {
          "base_uri": "https://localhost:8080/",
          "height": 674
        },
        "id": "kmzX0vRxJwJi",
        "outputId": "8e620a7a-6c3b-4398-93a5-441637395aba"
      },
      "source": [
        "# criando variável APROVACAO no db, baseado na menção do aluno:\n",
        "conditions = [\n",
        "  (db[\"MENCAO\"] == \"SS\"),\n",
        "  (db[\"MENCAO\"] == \"MS\"),\n",
        "  (db[\"MENCAO\"] == \"MM\"),\n",
        "  (db[\"MENCAO\"] == \"MI\"),\n",
        "  (db[\"MENCAO\"] == \"II\"),\n",
        "  (db[\"MENCAO\"] == \"SR\"),\n",
        "  (db[\"MENCAO\"] == \"TR\"), # tranacamento\n",
        "  (db[\"MENCAO\"] == \"TJ\"), # trancamento justificado\n",
        "  (db[\"MENCAO\"] == \"AP\"), # aprovado por média\n",
        "  (db[\"MENCAO\"] == \"CC\"), # concessão de crédito\n",
        "  (db[\"MENCAO\"] == \"DP\"), # dispensado\n",
        "  (db[\"MENCAO\"] == \"NAN\") # considerando como Not A Number\n",
        "]\n",
        "\n",
        "values = [\"SIM\", \"SIM\", \"SIM\",\n",
        "          \"NAO\", \"NAO\",\"NAO\",\n",
        "          \"NAO_APLICAVEL\",\"NAO_APLICAVEL\", \"SIM\",\n",
        "          \"NAO_APLICAVEL\", \"NAO_APLICAVEL\", \"NAO_APLICAVEL\"]\n",
        "\n",
        "db[\"APROVACAO\"] = np.select(conditions, values)\n",
        "\n",
        "\n",
        "# Usando o NOME como indexador:\n",
        "db = db.set_index(\"NOME\")"
      ],
      "execution_count": 24,
      "outputs": [
        {
          "output_type": "execute_result",
          "data": {
            "text/html": [
              "<div>\n",
              "<style scoped>\n",
              "    .dataframe tbody tr th:only-of-type {\n",
              "        vertical-align: middle;\n",
              "    }\n",
              "\n",
              "    .dataframe tbody tr th {\n",
              "        vertical-align: top;\n",
              "    }\n",
              "\n",
              "    .dataframe thead th {\n",
              "        text-align: right;\n",
              "    }\n",
              "</style>\n",
              "<table border=\"1\" class=\"dataframe\">\n",
              "  <thead>\n",
              "    <tr style=\"text-align: right;\">\n",
              "      <th></th>\n",
              "      <th>MATRICULA</th>\n",
              "      <th>CURSO</th>\n",
              "      <th>DISCIPLINA</th>\n",
              "      <th>SEMESTRE</th>\n",
              "      <th>PROFESSOR</th>\n",
              "      <th>TURMA</th>\n",
              "      <th>MENCAO</th>\n",
              "      <th>OFERTANTE</th>\n",
              "      <th>SEMESTRE FLUXO</th>\n",
              "      <th>ANO</th>\n",
              "      <th>PERIODO_ANO</th>\n",
              "      <th>ANO_ENTRADA</th>\n",
              "      <th>ANO_SAIDA</th>\n",
              "      <th>APROVACAO</th>\n",
              "    </tr>\n",
              "    <tr>\n",
              "      <th>NOME</th>\n",
              "      <th></th>\n",
              "      <th></th>\n",
              "      <th></th>\n",
              "      <th></th>\n",
              "      <th></th>\n",
              "      <th></th>\n",
              "      <th></th>\n",
              "      <th></th>\n",
              "      <th></th>\n",
              "      <th></th>\n",
              "      <th></th>\n",
              "      <th></th>\n",
              "      <th></th>\n",
              "      <th></th>\n",
              "    </tr>\n",
              "  </thead>\n",
              "  <tbody>\n",
              "    <tr>\n",
              "      <th>GHJARFSGMOJFQNGT</th>\n",
              "      <td>^!#@6@$</td>\n",
              "      <td>BIBLIOTECONOMIA</td>\n",
              "      <td>ESTATISTICA APLICADA</td>\n",
              "      <td>19941</td>\n",
              "      <td>PUYKFGTZUTOUFIGXXOPUFHGXHUYG</td>\n",
              "      <td>C</td>\n",
              "      <td>SS</td>\n",
              "      <td>EST</td>\n",
              "      <td>0</td>\n",
              "      <td>1994</td>\n",
              "      <td>1</td>\n",
              "      <td>1994</td>\n",
              "      <td>1994</td>\n",
              "      <td>SIM</td>\n",
              "    </tr>\n",
              "    <tr>\n",
              "      <th>GHKRFXOIGXJUFVOSKTZGFLKXXKZZOFJGFIUYZG</th>\n",
              "      <td>^986$7$</td>\n",
              "      <td>MATEMATICA</td>\n",
              "      <td>CALCULO 2</td>\n",
              "      <td>19941</td>\n",
              "      <td>RAOFFJKFUROBKOXGFGSUXOS</td>\n",
              "      <td>E</td>\n",
              "      <td>MM</td>\n",
              "      <td>MAT</td>\n",
              "      <td>2</td>\n",
              "      <td>1994</td>\n",
              "      <td>1</td>\n",
              "      <td>1994</td>\n",
              "      <td>1995</td>\n",
              "      <td>SIM</td>\n",
              "    </tr>\n",
              "    <tr>\n",
              "      <th>GHKRFXOIGXJUFVOSKTZGFLKXXKZZOFJGFIUYZG</th>\n",
              "      <td>^986$7$</td>\n",
              "      <td>MATEMATICA</td>\n",
              "      <td>PROBABILIDADE E ESTATISTICA</td>\n",
              "      <td>19941</td>\n",
              "      <td>UZGBOUFYOSUKYFHGXHUYGFLORNU</td>\n",
              "      <td>D</td>\n",
              "      <td>II</td>\n",
              "      <td>EST</td>\n",
              "      <td>0</td>\n",
              "      <td>1994</td>\n",
              "      <td>1</td>\n",
              "      <td>1994</td>\n",
              "      <td>1995</td>\n",
              "      <td>NAO</td>\n",
              "    </tr>\n",
              "    <tr>\n",
              "      <th>GHTKXFROSGFJKFUROBKOXG</th>\n",
              "      <td>^96!6^#</td>\n",
              "      <td>ENGENHARIA CIVIL</td>\n",
              "      <td>CALCULO 3</td>\n",
              "      <td>19941</td>\n",
              "      <td>PUYKFGRLXKJUFYORBG</td>\n",
              "      <td>C</td>\n",
              "      <td>SS</td>\n",
              "      <td>MAT</td>\n",
              "      <td>3</td>\n",
              "      <td>1994</td>\n",
              "      <td>1</td>\n",
              "      <td>1994</td>\n",
              "      <td>1994</td>\n",
              "      <td>SIM</td>\n",
              "    </tr>\n",
              "    <tr>\n",
              "      <th>GIOBGRFRUVKYFSUTZKOXU</th>\n",
              "      <td>^87^6%7</td>\n",
              "      <td>ENGENHARIA CIVIL</td>\n",
              "      <td>CALCULO 3</td>\n",
              "      <td>19941</td>\n",
              "      <td>PUYKFGRLXKJUFYORBG</td>\n",
              "      <td>C</td>\n",
              "      <td>II</td>\n",
              "      <td>MAT</td>\n",
              "      <td>3</td>\n",
              "      <td>1994</td>\n",
              "      <td>1</td>\n",
              "      <td>1994</td>\n",
              "      <td>1995</td>\n",
              "      <td>NAO</td>\n",
              "    </tr>\n",
              "    <tr>\n",
              "      <th>...</th>\n",
              "      <td>...</td>\n",
              "      <td>...</td>\n",
              "      <td>...</td>\n",
              "      <td>...</td>\n",
              "      <td>...</td>\n",
              "      <td>...</td>\n",
              "      <td>...</td>\n",
              "      <td>...</td>\n",
              "      <td>...</td>\n",
              "      <td>...</td>\n",
              "      <td>...</td>\n",
              "      <td>...</td>\n",
              "      <td>...</td>\n",
              "      <td>...</td>\n",
              "    </tr>\n",
              "    <tr>\n",
              "      <th>ZNOGMUFLKOZUYGFJKFXKYKTJK</th>\n",
              "      <td>7$66#$%^7</td>\n",
              "      <td>CIENCIAS CONTABEIS</td>\n",
              "      <td>COMPUTACAO EM ESTATISTICA 1</td>\n",
              "      <td>20211</td>\n",
              "      <td>RAOYFMAYZGBUFJUFGSGXGRF1OTNG</td>\n",
              "      <td>02A</td>\n",
              "      <td>TR</td>\n",
              "      <td>EST</td>\n",
              "      <td>1</td>\n",
              "      <td>2021</td>\n",
              "      <td>1</td>\n",
              "      <td>2021</td>\n",
              "      <td>2021</td>\n",
              "      <td>NAO_APLICAVEL</td>\n",
              "    </tr>\n",
              "    <tr>\n",
              "      <th>ZNOGMUFUROBKOXGFRUVKY</th>\n",
              "      <td>8666!9^@7</td>\n",
              "      <td>COMPUTACAO</td>\n",
              "      <td>INTRODUCAO A ALGEBRA LINEAR</td>\n",
              "      <td>20211</td>\n",
              "      <td>KSKXYUTFLKXXKOXGFJKFSKRU</td>\n",
              "      <td>M</td>\n",
              "      <td>TR</td>\n",
              "      <td>MAT</td>\n",
              "      <td>2</td>\n",
              "      <td>2021</td>\n",
              "      <td>1</td>\n",
              "      <td>2020</td>\n",
              "      <td>2021</td>\n",
              "      <td>NAO_APLICAVEL</td>\n",
              "    </tr>\n",
              "    <tr>\n",
              "      <th>ZNOGMUF1ORKRGFJKFSKRU</th>\n",
              "      <td>87768^677</td>\n",
              "      <td>ESTATISTICA</td>\n",
              "      <td>CALCULO 1</td>\n",
              "      <td>20211</td>\n",
              "      <td>SGXIKRUFLKXTGTJKYFLAXZGJU</td>\n",
              "      <td>H</td>\n",
              "      <td>TR</td>\n",
              "      <td>MAT</td>\n",
              "      <td>1</td>\n",
              "      <td>2021</td>\n",
              "      <td>1</td>\n",
              "      <td>2021</td>\n",
              "      <td>2021</td>\n",
              "      <td>NAO_APLICAVEL</td>\n",
              "    </tr>\n",
              "    <tr>\n",
              "      <th>ZNOGMUF1ORKRGFJKFSKRU</th>\n",
              "      <td>87768^677</td>\n",
              "      <td>ESTATISTICA</td>\n",
              "      <td>COMPUTACAO EM ESTATISTICA 1</td>\n",
              "      <td>20211</td>\n",
              "      <td>RAOYFMAYZGBUFJUFGSGXGRF1OTNG</td>\n",
              "      <td>02A</td>\n",
              "      <td>TR</td>\n",
              "      <td>EST</td>\n",
              "      <td>1</td>\n",
              "      <td>2021</td>\n",
              "      <td>1</td>\n",
              "      <td>2021</td>\n",
              "      <td>2021</td>\n",
              "      <td>NAO_APLICAVEL</td>\n",
              "    </tr>\n",
              "    <tr>\n",
              "      <th>ZNOGMUF1ORKRGFJKFSKRU</th>\n",
              "      <td>87768^677</td>\n",
              "      <td>ESTATISTICA</td>\n",
              "      <td>ESTATISTICA EXPLORATORIA</td>\n",
              "      <td>20211</td>\n",
              "      <td>SGXOGFZKXKYGFRKGUFIUYZG</td>\n",
              "      <td>01A</td>\n",
              "      <td>TR</td>\n",
              "      <td>EST</td>\n",
              "      <td>1</td>\n",
              "      <td>2021</td>\n",
              "      <td>1</td>\n",
              "      <td>2021</td>\n",
              "      <td>2021</td>\n",
              "      <td>NAO_APLICAVEL</td>\n",
              "    </tr>\n",
              "  </tbody>\n",
              "</table>\n",
              "<p>257160 rows × 14 columns</p>\n",
              "</div>"
            ],
            "text/plain": [
              "                                        MATRICULA  ...      APROVACAO\n",
              "NOME                                               ...               \n",
              "GHJARFSGMOJFQNGT                          ^!#@6@$  ...            SIM\n",
              "GHKRFXOIGXJUFVOSKTZGFLKXXKZZOFJGFIUYZG    ^986$7$  ...            SIM\n",
              "GHKRFXOIGXJUFVOSKTZGFLKXXKZZOFJGFIUYZG    ^986$7$  ...            NAO\n",
              "GHTKXFROSGFJKFUROBKOXG                    ^96!6^#  ...            SIM\n",
              "GIOBGRFRUVKYFSUTZKOXU                     ^87^6%7  ...            NAO\n",
              "...                                           ...  ...            ...\n",
              "ZNOGMUFLKOZUYGFJKFXKYKTJK               7$66#$%^7  ...  NAO_APLICAVEL\n",
              "ZNOGMUFUROBKOXGFRUVKY                   8666!9^@7  ...  NAO_APLICAVEL\n",
              "ZNOGMUF1ORKRGFJKFSKRU                   87768^677  ...  NAO_APLICAVEL\n",
              "ZNOGMUF1ORKRGFJKFSKRU                   87768^677  ...  NAO_APLICAVEL\n",
              "ZNOGMUF1ORKRGFJKFSKRU                   87768^677  ...  NAO_APLICAVEL\n",
              "\n",
              "[257160 rows x 14 columns]"
            ]
          },
          "metadata": {},
          "execution_count": 24
        }
      ]
    },
    {
      "cell_type": "code",
      "metadata": {
        "id": "LhmUz6YmRuDS"
      },
      "source": [
        "# Caso queiram simplismente criar um arquivo csv com os dados limpos e\n",
        "# as variáveis criadas, usem a opção abaixo (mais rápido,\n",
        "# pois não precisa rodar essa sessão novamente, somente carregar o DB):\n",
        "\n",
        "\n",
        "# ficará disponível no WD configurado na sessão 1 para download assim como no Drive,\n",
        "# o nome ficou assim para não dar conflito com a leitura dos outros DBs\n",
        "db.to_csv(\"w_dados_limpos.csv\")\n"
      ],
      "execution_count": 25,
      "outputs": []
    },
    {
      "cell_type": "markdown",
      "metadata": {
        "id": "o4HCDu80Xrnu"
      },
      "source": [
        "## Início da Análise"
      ]
    },
    {
      "cell_type": "markdown",
      "metadata": {
        "id": "CjXgpPmtJTZQ"
      },
      "source": [
        "### 1.Qual é o número médio de vezes que é necessário fazer uma matéria para passar nela? \n",
        "\n",
        "Variáveis de interesse: nome do estudante, disciplina, menção, período. \n",
        "\n",
        "Método: Fazer média para cada disciplina (focar nas que tem maior índice de reprovação) e também média geral. \n",
        "\n",
        "Obs.: criar variável de aprovação (sim ou não). "
      ]
    },
    {
      "cell_type": "code",
      "metadata": {
        "colab": {
          "base_uri": "https://localhost:8080/",
          "height": 419
        },
        "id": "QYWyJQqfavPu",
        "outputId": "6cf41ae0-27ef-43e0-e0f9-b6fad97b789e"
      },
      "source": [
        "# Criando um novo DB contendo a variável número de vezes cursas de cada disciplina\n",
        "# por aluno e por status de aprovação:\n",
        "db_1 = db.copy()\n",
        "db_1 = db_1.reset_index()\n",
        "db_1 = db_1.groupby([\"NOME\", \"APROVACAO\", \"DISCIPLINA\"]).size().reset_index(name='VEZES_POR_APROVACAO')                                                    \n",
        "db_1 = db_1.rename({\"CURSO\" : \"VEZES\"}, axis= 1)"
      ],
      "execution_count": 26,
      "outputs": [
        {
          "output_type": "execute_result",
          "data": {
            "text/html": [
              "<div>\n",
              "<style scoped>\n",
              "    .dataframe tbody tr th:only-of-type {\n",
              "        vertical-align: middle;\n",
              "    }\n",
              "\n",
              "    .dataframe tbody tr th {\n",
              "        vertical-align: top;\n",
              "    }\n",
              "\n",
              "    .dataframe thead th {\n",
              "        text-align: right;\n",
              "    }\n",
              "</style>\n",
              "<table border=\"1\" class=\"dataframe\">\n",
              "  <thead>\n",
              "    <tr style=\"text-align: right;\">\n",
              "      <th></th>\n",
              "      <th>NOME</th>\n",
              "      <th>APROVACAO</th>\n",
              "      <th>DISCIPLINA</th>\n",
              "      <th>VEZES_POR_APROVACAO</th>\n",
              "    </tr>\n",
              "  </thead>\n",
              "  <tbody>\n",
              "    <tr>\n",
              "      <th>0</th>\n",
              "      <td>0EGIGTFLKROVKFSATOF</td>\n",
              "      <td>NAO</td>\n",
              "      <td>CALCULO 3</td>\n",
              "      <td>5</td>\n",
              "    </tr>\n",
              "    <tr>\n",
              "      <th>1</th>\n",
              "      <td>0EGIGTFLKROVKFSATOF</td>\n",
              "      <td>NAO</td>\n",
              "      <td>CALCULO NUMERICO</td>\n",
              "      <td>2</td>\n",
              "    </tr>\n",
              "    <tr>\n",
              "      <th>2</th>\n",
              "      <td>0EGIGTFLKROVKFSATOF</td>\n",
              "      <td>SIM</td>\n",
              "      <td>CALCULO 1</td>\n",
              "      <td>1</td>\n",
              "    </tr>\n",
              "    <tr>\n",
              "      <th>3</th>\n",
              "      <td>0EGIGTFLKROVKFSATOF</td>\n",
              "      <td>SIM</td>\n",
              "      <td>CALCULO 2</td>\n",
              "      <td>1</td>\n",
              "    </tr>\n",
              "    <tr>\n",
              "      <th>4</th>\n",
              "      <td>0EGIGTFLKROVKFSATOF</td>\n",
              "      <td>SIM</td>\n",
              "      <td>CALCULO 3</td>\n",
              "      <td>1</td>\n",
              "    </tr>\n",
              "    <tr>\n",
              "      <th>...</th>\n",
              "      <td>...</td>\n",
              "      <td>...</td>\n",
              "      <td>...</td>\n",
              "      <td>...</td>\n",
              "    </tr>\n",
              "    <tr>\n",
              "      <th>232887</th>\n",
              "      <td>ZXKBUXFLAXZGJUFYUAFG</td>\n",
              "      <td>SIM</td>\n",
              "      <td>CALCULO 3</td>\n",
              "      <td>1</td>\n",
              "    </tr>\n",
              "    <tr>\n",
              "      <th>232888</th>\n",
              "      <td>ZXKBUXFLAXZGJUFYUAFG</td>\n",
              "      <td>SIM</td>\n",
              "      <td>INTRODUCAO A ALGEBRA LINEAR</td>\n",
              "      <td>1</td>\n",
              "    </tr>\n",
              "    <tr>\n",
              "      <th>232889</th>\n",
              "      <td>ZXKBUXFLAXZGJUFYUAFG</td>\n",
              "      <td>SIM</td>\n",
              "      <td>PROBABILIDADE E ESTATISTICA</td>\n",
              "      <td>1</td>\n",
              "    </tr>\n",
              "    <tr>\n",
              "      <th>232890</th>\n",
              "      <td>ZXOIOGFXOHKOXUFJUYFYGTZUY</td>\n",
              "      <td>NAO</td>\n",
              "      <td>ESTATISTICA APLICADA</td>\n",
              "      <td>1</td>\n",
              "    </tr>\n",
              "    <tr>\n",
              "      <th>232891</th>\n",
              "      <td>ZXOIOGFXOHKOXUFJUYFYGTZUY</td>\n",
              "      <td>SIM</td>\n",
              "      <td>ESTATISTICA APLICADA</td>\n",
              "      <td>1</td>\n",
              "    </tr>\n",
              "  </tbody>\n",
              "</table>\n",
              "<p>232892 rows × 4 columns</p>\n",
              "</div>"
            ],
            "text/plain": [
              "                             NOME  ... VEZES_POR_APROVACAO\n",
              "0             0EGIGTFLKROVKFSATOF  ...                   5\n",
              "1             0EGIGTFLKROVKFSATOF  ...                   2\n",
              "2             0EGIGTFLKROVKFSATOF  ...                   1\n",
              "3             0EGIGTFLKROVKFSATOF  ...                   1\n",
              "4             0EGIGTFLKROVKFSATOF  ...                   1\n",
              "...                           ...  ...                 ...\n",
              "232887       ZXKBUXFLAXZGJUFYUAFG  ...                   1\n",
              "232888       ZXKBUXFLAXZGJUFYUAFG  ...                   1\n",
              "232889       ZXKBUXFLAXZGJUFYUAFG  ...                   1\n",
              "232890  ZXOIOGFXOHKOXUFJUYFYGTZUY  ...                   1\n",
              "232891  ZXOIOGFXOHKOXUFJUYFYGTZUY  ...                   1\n",
              "\n",
              "[232892 rows x 4 columns]"
            ]
          },
          "metadata": {},
          "execution_count": 26
        }
      ]
    },
    {
      "cell_type": "code",
      "metadata": {
        "colab": {
          "base_uri": "https://localhost:8080/",
          "height": 419
        },
        "id": "H75iyUFVK-RJ",
        "outputId": "d888d4d5-40ae-4b84-8bca-bad4fd1dfd92"
      },
      "source": [
        "# Criando um novo DB contendo a variável número de vezes cursas totais de cada disciplina\n",
        "# por aluno:\n",
        "db_2 = db.copy()\n",
        "db_2 = db_2.reset_index()\n",
        "db_2 = db_2.groupby([\"NOME\", \"DISCIPLINA\"]).size().reset_index(name='VEZES_CURSADAS_TOTAIS')"
      ],
      "execution_count": 27,
      "outputs": [
        {
          "output_type": "execute_result",
          "data": {
            "text/html": [
              "<div>\n",
              "<style scoped>\n",
              "    .dataframe tbody tr th:only-of-type {\n",
              "        vertical-align: middle;\n",
              "    }\n",
              "\n",
              "    .dataframe tbody tr th {\n",
              "        vertical-align: top;\n",
              "    }\n",
              "\n",
              "    .dataframe thead th {\n",
              "        text-align: right;\n",
              "    }\n",
              "</style>\n",
              "<table border=\"1\" class=\"dataframe\">\n",
              "  <thead>\n",
              "    <tr style=\"text-align: right;\">\n",
              "      <th></th>\n",
              "      <th>NOME</th>\n",
              "      <th>DISCIPLINA</th>\n",
              "      <th>VEZES_CURSADAS_TOTAIS</th>\n",
              "    </tr>\n",
              "  </thead>\n",
              "  <tbody>\n",
              "    <tr>\n",
              "      <th>0</th>\n",
              "      <td>0EGIGTFLKROVKFSATOF</td>\n",
              "      <td>CALCULO 1</td>\n",
              "      <td>1</td>\n",
              "    </tr>\n",
              "    <tr>\n",
              "      <th>1</th>\n",
              "      <td>0EGIGTFLKROVKFSATOF</td>\n",
              "      <td>CALCULO 2</td>\n",
              "      <td>1</td>\n",
              "    </tr>\n",
              "    <tr>\n",
              "      <th>2</th>\n",
              "      <td>0EGIGTFLKROVKFSATOF</td>\n",
              "      <td>CALCULO 3</td>\n",
              "      <td>6</td>\n",
              "    </tr>\n",
              "    <tr>\n",
              "      <th>3</th>\n",
              "      <td>0EGIGTFLKROVKFSATOF</td>\n",
              "      <td>CALCULO NUMERICO</td>\n",
              "      <td>3</td>\n",
              "    </tr>\n",
              "    <tr>\n",
              "      <th>4</th>\n",
              "      <td>0EGIGTFLKROVKFSATOF</td>\n",
              "      <td>PROBABILIDADE E ESTATISTICA</td>\n",
              "      <td>1</td>\n",
              "    </tr>\n",
              "    <tr>\n",
              "      <th>...</th>\n",
              "      <td>...</td>\n",
              "      <td>...</td>\n",
              "      <td>...</td>\n",
              "    </tr>\n",
              "    <tr>\n",
              "      <th>190691</th>\n",
              "      <td>ZXKBUXFLAXZGJUFYUAFG</td>\n",
              "      <td>CALCULO 2</td>\n",
              "      <td>1</td>\n",
              "    </tr>\n",
              "    <tr>\n",
              "      <th>190692</th>\n",
              "      <td>ZXKBUXFLAXZGJUFYUAFG</td>\n",
              "      <td>CALCULO 3</td>\n",
              "      <td>1</td>\n",
              "    </tr>\n",
              "    <tr>\n",
              "      <th>190693</th>\n",
              "      <td>ZXKBUXFLAXZGJUFYUAFG</td>\n",
              "      <td>INTRODUCAO A ALGEBRA LINEAR</td>\n",
              "      <td>1</td>\n",
              "    </tr>\n",
              "    <tr>\n",
              "      <th>190694</th>\n",
              "      <td>ZXKBUXFLAXZGJUFYUAFG</td>\n",
              "      <td>PROBABILIDADE E ESTATISTICA</td>\n",
              "      <td>2</td>\n",
              "    </tr>\n",
              "    <tr>\n",
              "      <th>190695</th>\n",
              "      <td>ZXOIOGFXOHKOXUFJUYFYGTZUY</td>\n",
              "      <td>ESTATISTICA APLICADA</td>\n",
              "      <td>2</td>\n",
              "    </tr>\n",
              "  </tbody>\n",
              "</table>\n",
              "<p>190696 rows × 3 columns</p>\n",
              "</div>"
            ],
            "text/plain": [
              "                             NOME  ... VEZES_CURSADAS_TOTAIS\n",
              "0             0EGIGTFLKROVKFSATOF  ...                     1\n",
              "1             0EGIGTFLKROVKFSATOF  ...                     1\n",
              "2             0EGIGTFLKROVKFSATOF  ...                     6\n",
              "3             0EGIGTFLKROVKFSATOF  ...                     3\n",
              "4             0EGIGTFLKROVKFSATOF  ...                     1\n",
              "...                           ...  ...                   ...\n",
              "190691       ZXKBUXFLAXZGJUFYUAFG  ...                     1\n",
              "190692       ZXKBUXFLAXZGJUFYUAFG  ...                     1\n",
              "190693       ZXKBUXFLAXZGJUFYUAFG  ...                     1\n",
              "190694       ZXKBUXFLAXZGJUFYUAFG  ...                     2\n",
              "190695  ZXOIOGFXOHKOXUFJUYFYGTZUY  ...                     2\n",
              "\n",
              "[190696 rows x 3 columns]"
            ]
          },
          "metadata": {},
          "execution_count": 27
        }
      ]
    },
    {
      "cell_type": "code",
      "metadata": {
        "colab": {
          "base_uri": "https://localhost:8080/",
          "height": 436
        },
        "id": "j8S41z4fLrGU",
        "outputId": "7939d5aa-4325-437b-8ce2-cc81cf5382a9"
      },
      "source": [
        "# Unificando  os dois DBs criados acima:\n",
        "db_3 = pd.merge(db_1, db_2, on = [\"NOME\", \"DISCIPLINA\"], how=\"outer\")"
      ],
      "execution_count": 28,
      "outputs": [
        {
          "output_type": "execute_result",
          "data": {
            "text/html": [
              "<div>\n",
              "<style scoped>\n",
              "    .dataframe tbody tr th:only-of-type {\n",
              "        vertical-align: middle;\n",
              "    }\n",
              "\n",
              "    .dataframe tbody tr th {\n",
              "        vertical-align: top;\n",
              "    }\n",
              "\n",
              "    .dataframe thead th {\n",
              "        text-align: right;\n",
              "    }\n",
              "</style>\n",
              "<table border=\"1\" class=\"dataframe\">\n",
              "  <thead>\n",
              "    <tr style=\"text-align: right;\">\n",
              "      <th></th>\n",
              "      <th>NOME</th>\n",
              "      <th>APROVACAO</th>\n",
              "      <th>DISCIPLINA</th>\n",
              "      <th>VEZES_POR_APROVACAO</th>\n",
              "      <th>VEZES_CURSADAS_TOTAIS</th>\n",
              "    </tr>\n",
              "  </thead>\n",
              "  <tbody>\n",
              "    <tr>\n",
              "      <th>0</th>\n",
              "      <td>0EGIGTFLKROVKFSATOF</td>\n",
              "      <td>NAO</td>\n",
              "      <td>CALCULO 3</td>\n",
              "      <td>5</td>\n",
              "      <td>6</td>\n",
              "    </tr>\n",
              "    <tr>\n",
              "      <th>1</th>\n",
              "      <td>0EGIGTFLKROVKFSATOF</td>\n",
              "      <td>SIM</td>\n",
              "      <td>CALCULO 3</td>\n",
              "      <td>1</td>\n",
              "      <td>6</td>\n",
              "    </tr>\n",
              "    <tr>\n",
              "      <th>2</th>\n",
              "      <td>0EGIGTFLKROVKFSATOF</td>\n",
              "      <td>NAO</td>\n",
              "      <td>CALCULO NUMERICO</td>\n",
              "      <td>2</td>\n",
              "      <td>3</td>\n",
              "    </tr>\n",
              "    <tr>\n",
              "      <th>3</th>\n",
              "      <td>0EGIGTFLKROVKFSATOF</td>\n",
              "      <td>SIM</td>\n",
              "      <td>CALCULO NUMERICO</td>\n",
              "      <td>1</td>\n",
              "      <td>3</td>\n",
              "    </tr>\n",
              "    <tr>\n",
              "      <th>4</th>\n",
              "      <td>0EGIGTFLKROVKFSATOF</td>\n",
              "      <td>SIM</td>\n",
              "      <td>CALCULO 1</td>\n",
              "      <td>1</td>\n",
              "      <td>1</td>\n",
              "    </tr>\n",
              "    <tr>\n",
              "      <th>...</th>\n",
              "      <td>...</td>\n",
              "      <td>...</td>\n",
              "      <td>...</td>\n",
              "      <td>...</td>\n",
              "      <td>...</td>\n",
              "    </tr>\n",
              "    <tr>\n",
              "      <th>232887</th>\n",
              "      <td>ZXKBUXFLAXZGJUFYUAFG</td>\n",
              "      <td>SIM</td>\n",
              "      <td>CALCULO 2</td>\n",
              "      <td>1</td>\n",
              "      <td>1</td>\n",
              "    </tr>\n",
              "    <tr>\n",
              "      <th>232888</th>\n",
              "      <td>ZXKBUXFLAXZGJUFYUAFG</td>\n",
              "      <td>SIM</td>\n",
              "      <td>CALCULO 3</td>\n",
              "      <td>1</td>\n",
              "      <td>1</td>\n",
              "    </tr>\n",
              "    <tr>\n",
              "      <th>232889</th>\n",
              "      <td>ZXKBUXFLAXZGJUFYUAFG</td>\n",
              "      <td>SIM</td>\n",
              "      <td>INTRODUCAO A ALGEBRA LINEAR</td>\n",
              "      <td>1</td>\n",
              "      <td>1</td>\n",
              "    </tr>\n",
              "    <tr>\n",
              "      <th>232890</th>\n",
              "      <td>ZXOIOGFXOHKOXUFJUYFYGTZUY</td>\n",
              "      <td>NAO</td>\n",
              "      <td>ESTATISTICA APLICADA</td>\n",
              "      <td>1</td>\n",
              "      <td>2</td>\n",
              "    </tr>\n",
              "    <tr>\n",
              "      <th>232891</th>\n",
              "      <td>ZXOIOGFXOHKOXUFJUYFYGTZUY</td>\n",
              "      <td>SIM</td>\n",
              "      <td>ESTATISTICA APLICADA</td>\n",
              "      <td>1</td>\n",
              "      <td>2</td>\n",
              "    </tr>\n",
              "  </tbody>\n",
              "</table>\n",
              "<p>232892 rows × 5 columns</p>\n",
              "</div>"
            ],
            "text/plain": [
              "                             NOME  ... VEZES_CURSADAS_TOTAIS\n",
              "0             0EGIGTFLKROVKFSATOF  ...                     6\n",
              "1             0EGIGTFLKROVKFSATOF  ...                     6\n",
              "2             0EGIGTFLKROVKFSATOF  ...                     3\n",
              "3             0EGIGTFLKROVKFSATOF  ...                     3\n",
              "4             0EGIGTFLKROVKFSATOF  ...                     1\n",
              "...                           ...  ...                   ...\n",
              "232887       ZXKBUXFLAXZGJUFYUAFG  ...                     1\n",
              "232888       ZXKBUXFLAXZGJUFYUAFG  ...                     1\n",
              "232889       ZXKBUXFLAXZGJUFYUAFG  ...                     1\n",
              "232890  ZXOIOGFXOHKOXUFJUYFYGTZUY  ...                     2\n",
              "232891  ZXOIOGFXOHKOXUFJUYFYGTZUY  ...                     2\n",
              "\n",
              "[232892 rows x 5 columns]"
            ]
          },
          "metadata": {},
          "execution_count": 28
        }
      ]
    },
    {
      "cell_type": "code",
      "metadata": {
        "colab": {
          "base_uri": "https://localhost:8080/",
          "height": 1000
        },
        "id": "92YQUdHjQFG1",
        "outputId": "c329823b-54ea-4a9f-b2fe-e381d463ad26"
      },
      "source": [
        "# Criando um novo DB contendo a variável número de vezes cursas totais de cada disciplina,\n",
        "# total de aprovações e méia de vezes de quantas vezes se precisa fazer uma disciplina\n",
        "# até se passar nela:\n",
        "db_4 = db_3.copy()\n",
        "db_4 = db_4[db_4.APROVACAO == \"SIM\"].groupby(\"DISCIPLINA\").sum() \n",
        "db_4[\"MEDIA_VEZES_ATE_PASSAR\"] = round(db_4.VEZES_CURSADAS_TOTAIS / db_4.VEZES_POR_APROVACAO, 3)\n",
        "db_4.sort_values(\"MEDIA_VEZES_ATE_PASSAR\", ascending = False) "
      ],
      "execution_count": 29,
      "outputs": [
        {
          "output_type": "execute_result",
          "data": {
            "text/html": [
              "<div>\n",
              "<style scoped>\n",
              "    .dataframe tbody tr th:only-of-type {\n",
              "        vertical-align: middle;\n",
              "    }\n",
              "\n",
              "    .dataframe tbody tr th {\n",
              "        vertical-align: top;\n",
              "    }\n",
              "\n",
              "    .dataframe thead th {\n",
              "        text-align: right;\n",
              "    }\n",
              "</style>\n",
              "<table border=\"1\" class=\"dataframe\">\n",
              "  <thead>\n",
              "    <tr style=\"text-align: right;\">\n",
              "      <th></th>\n",
              "      <th>VEZES_POR_APROVACAO</th>\n",
              "      <th>VEZES_CURSADAS_TOTAIS</th>\n",
              "      <th>MEDIA_VEZES_ATE_PASSAR</th>\n",
              "    </tr>\n",
              "    <tr>\n",
              "      <th>DISCIPLINA</th>\n",
              "      <th></th>\n",
              "      <th></th>\n",
              "      <th></th>\n",
              "    </tr>\n",
              "  </thead>\n",
              "  <tbody>\n",
              "    <tr>\n",
              "      <th>CALCULO 3</th>\n",
              "      <td>16689</td>\n",
              "      <td>23505</td>\n",
              "      <td>1.408</td>\n",
              "    </tr>\n",
              "    <tr>\n",
              "      <th>CALCULO 2</th>\n",
              "      <td>23841</td>\n",
              "      <td>33012</td>\n",
              "      <td>1.385</td>\n",
              "    </tr>\n",
              "    <tr>\n",
              "      <th>INTRODUCAO A ALGEBRA LINEAR</th>\n",
              "      <td>20856</td>\n",
              "      <td>28627</td>\n",
              "      <td>1.373</td>\n",
              "    </tr>\n",
              "    <tr>\n",
              "      <th>CALCULO 1</th>\n",
              "      <td>31191</td>\n",
              "      <td>41580</td>\n",
              "      <td>1.333</td>\n",
              "    </tr>\n",
              "    <tr>\n",
              "      <th>ESTATISTICA APLICADA</th>\n",
              "      <td>20811</td>\n",
              "      <td>27269</td>\n",
              "      <td>1.310</td>\n",
              "    </tr>\n",
              "    <tr>\n",
              "      <th>CALCULO DE PROBABILIDADE 1</th>\n",
              "      <td>1423</td>\n",
              "      <td>1848</td>\n",
              "      <td>1.299</td>\n",
              "    </tr>\n",
              "    <tr>\n",
              "      <th>CALCULO DE PROBABILIDADE 2</th>\n",
              "      <td>780</td>\n",
              "      <td>1000</td>\n",
              "      <td>1.282</td>\n",
              "    </tr>\n",
              "    <tr>\n",
              "      <th>BIOESTATISTICA</th>\n",
              "      <td>6223</td>\n",
              "      <td>7929</td>\n",
              "      <td>1.274</td>\n",
              "    </tr>\n",
              "    <tr>\n",
              "      <th>COMPUTACAO EM ESTATISTICA 2</th>\n",
              "      <td>448</td>\n",
              "      <td>569</td>\n",
              "      <td>1.270</td>\n",
              "    </tr>\n",
              "    <tr>\n",
              "      <th>PROBABILIDADE E ESTATISTICA</th>\n",
              "      <td>14268</td>\n",
              "      <td>17954</td>\n",
              "      <td>1.258</td>\n",
              "    </tr>\n",
              "    <tr>\n",
              "      <th>INTRODUCAO A PROBABILIDADE</th>\n",
              "      <td>1175</td>\n",
              "      <td>1469</td>\n",
              "      <td>1.250</td>\n",
              "    </tr>\n",
              "    <tr>\n",
              "      <th>CALCULO NUMERICO</th>\n",
              "      <td>10695</td>\n",
              "      <td>13314</td>\n",
              "      <td>1.245</td>\n",
              "    </tr>\n",
              "    <tr>\n",
              "      <th>METODOS ESTATISTICOS 1</th>\n",
              "      <td>1041</td>\n",
              "      <td>1239</td>\n",
              "      <td>1.190</td>\n",
              "    </tr>\n",
              "    <tr>\n",
              "      <th>INFERENCIA ESTATISTICA</th>\n",
              "      <td>792</td>\n",
              "      <td>931</td>\n",
              "      <td>1.176</td>\n",
              "    </tr>\n",
              "    <tr>\n",
              "      <th>DELINEAMENTO E ANALISE DE EXPERIMENTOS</th>\n",
              "      <td>273</td>\n",
              "      <td>314</td>\n",
              "      <td>1.150</td>\n",
              "    </tr>\n",
              "    <tr>\n",
              "      <th>METODOS ESTATISTICOS 2</th>\n",
              "      <td>718</td>\n",
              "      <td>820</td>\n",
              "      <td>1.142</td>\n",
              "    </tr>\n",
              "    <tr>\n",
              "      <th>APLICACOES DA ESTATISTICA 1</th>\n",
              "      <td>601</td>\n",
              "      <td>683</td>\n",
              "      <td>1.136</td>\n",
              "    </tr>\n",
              "    <tr>\n",
              "      <th>ESTATISTICA EXPLORATORIA</th>\n",
              "      <td>493</td>\n",
              "      <td>556</td>\n",
              "      <td>1.128</td>\n",
              "    </tr>\n",
              "    <tr>\n",
              "      <th>ESTATISTICA EXPLORATORIA 2</th>\n",
              "      <td>798</td>\n",
              "      <td>894</td>\n",
              "      <td>1.120</td>\n",
              "    </tr>\n",
              "    <tr>\n",
              "      <th>ANALISE DE REGRESSAO LINEAR</th>\n",
              "      <td>280</td>\n",
              "      <td>309</td>\n",
              "      <td>1.104</td>\n",
              "    </tr>\n",
              "    <tr>\n",
              "      <th>ESTATISTICA ESPACIAL</th>\n",
              "      <td>10</td>\n",
              "      <td>11</td>\n",
              "      <td>1.100</td>\n",
              "    </tr>\n",
              "    <tr>\n",
              "      <th>ESTATISTICA EXPLORATORIA 1</th>\n",
              "      <td>984</td>\n",
              "      <td>1081</td>\n",
              "      <td>1.099</td>\n",
              "    </tr>\n",
              "    <tr>\n",
              "      <th>PESQUISA OPERACIONAL 1</th>\n",
              "      <td>595</td>\n",
              "      <td>649</td>\n",
              "      <td>1.091</td>\n",
              "    </tr>\n",
              "    <tr>\n",
              "      <th>DEMOGRAFIA</th>\n",
              "      <td>850</td>\n",
              "      <td>927</td>\n",
              "      <td>1.091</td>\n",
              "    </tr>\n",
              "    <tr>\n",
              "      <th>COMPUTACAO EM ESTATISTICA 1</th>\n",
              "      <td>586</td>\n",
              "      <td>636</td>\n",
              "      <td>1.085</td>\n",
              "    </tr>\n",
              "    <tr>\n",
              "      <th>INFERENCIA BAYESIANA</th>\n",
              "      <td>152</td>\n",
              "      <td>164</td>\n",
              "      <td>1.079</td>\n",
              "    </tr>\n",
              "    <tr>\n",
              "      <th>TECNICAS DE AMOSTRAGEM</th>\n",
              "      <td>784</td>\n",
              "      <td>843</td>\n",
              "      <td>1.075</td>\n",
              "    </tr>\n",
              "    <tr>\n",
              "      <th>ANALISE MULTIVARIADA 1</th>\n",
              "      <td>702</td>\n",
              "      <td>743</td>\n",
              "      <td>1.058</td>\n",
              "    </tr>\n",
              "    <tr>\n",
              "      <th>ESTATISTICA COMPUTACIONAL</th>\n",
              "      <td>181</td>\n",
              "      <td>191</td>\n",
              "      <td>1.055</td>\n",
              "    </tr>\n",
              "    <tr>\n",
              "      <th>ESTAGIO SUPERVISIONADO EM ESTATISTICA 2</th>\n",
              "      <td>406</td>\n",
              "      <td>428</td>\n",
              "      <td>1.054</td>\n",
              "    </tr>\n",
              "    <tr>\n",
              "      <th>MEDIDAS DE INFORMACAO E APLICACOES</th>\n",
              "      <td>328</td>\n",
              "      <td>343</td>\n",
              "      <td>1.046</td>\n",
              "    </tr>\n",
              "    <tr>\n",
              "      <th>PLANEJAMENTO E PESQUISA 1</th>\n",
              "      <td>473</td>\n",
              "      <td>494</td>\n",
              "      <td>1.044</td>\n",
              "    </tr>\n",
              "    <tr>\n",
              "      <th>TRABALHO DE CONCLUSAO DE CURSO 2</th>\n",
              "      <td>232</td>\n",
              "      <td>241</td>\n",
              "      <td>1.039</td>\n",
              "    </tr>\n",
              "    <tr>\n",
              "      <th>CONTROLE ESTATISTICO DE QUALIDADE</th>\n",
              "      <td>719</td>\n",
              "      <td>747</td>\n",
              "      <td>1.039</td>\n",
              "    </tr>\n",
              "    <tr>\n",
              "      <th>ANALISE DE DADOS CATEGORIZADOS</th>\n",
              "      <td>500</td>\n",
              "      <td>518</td>\n",
              "      <td>1.036</td>\n",
              "    </tr>\n",
              "    <tr>\n",
              "      <th>TOPICOS EM ESTATISTICA 1</th>\n",
              "      <td>90</td>\n",
              "      <td>93</td>\n",
              "      <td>1.033</td>\n",
              "    </tr>\n",
              "    <tr>\n",
              "      <th>ANALISE DE SOBREVIVENCIA</th>\n",
              "      <td>161</td>\n",
              "      <td>166</td>\n",
              "      <td>1.031</td>\n",
              "    </tr>\n",
              "    <tr>\n",
              "      <th>ESTAGIO SUPERVISIONADO EM ESTATISTICA 1</th>\n",
              "      <td>435</td>\n",
              "      <td>447</td>\n",
              "      <td>1.028</td>\n",
              "    </tr>\n",
              "    <tr>\n",
              "      <th>ANALISE MULTIVARIADA 2</th>\n",
              "      <td>299</td>\n",
              "      <td>307</td>\n",
              "      <td>1.027</td>\n",
              "    </tr>\n",
              "    <tr>\n",
              "      <th>ANALISE DE SERIES TEMPORAIS</th>\n",
              "      <td>510</td>\n",
              "      <td>521</td>\n",
              "      <td>1.022</td>\n",
              "    </tr>\n",
              "    <tr>\n",
              "      <th>INTRODUCAO A ANALISE DE SOBREVIVENCIA</th>\n",
              "      <td>49</td>\n",
              "      <td>50</td>\n",
              "      <td>1.020</td>\n",
              "    </tr>\n",
              "    <tr>\n",
              "      <th>PROBABILIDADE E ESTATISTICA 2</th>\n",
              "      <td>52</td>\n",
              "      <td>53</td>\n",
              "      <td>1.019</td>\n",
              "    </tr>\n",
              "    <tr>\n",
              "      <th>TOPICOS EM ESTATISTICA 2</th>\n",
              "      <td>71</td>\n",
              "      <td>72</td>\n",
              "      <td>1.014</td>\n",
              "    </tr>\n",
              "    <tr>\n",
              "      <th>TRABALHO DE CONCLUSAO DE CURSO 1</th>\n",
              "      <td>242</td>\n",
              "      <td>245</td>\n",
              "      <td>1.012</td>\n",
              "    </tr>\n",
              "    <tr>\n",
              "      <th>PESQUISA OPERACIONAL 2</th>\n",
              "      <td>80</td>\n",
              "      <td>81</td>\n",
              "      <td>1.012</td>\n",
              "    </tr>\n",
              "    <tr>\n",
              "      <th>APLICACOES DA ESTATISTICA 2</th>\n",
              "      <td>191</td>\n",
              "      <td>193</td>\n",
              "      <td>1.010</td>\n",
              "    </tr>\n",
              "    <tr>\n",
              "      <th>PLANEJAMENTO E PESQUISA 2</th>\n",
              "      <td>198</td>\n",
              "      <td>200</td>\n",
              "      <td>1.010</td>\n",
              "    </tr>\n",
              "    <tr>\n",
              "      <th>MODELOS LINEARES GENERALIZADOS</th>\n",
              "      <td>34</td>\n",
              "      <td>34</td>\n",
              "      <td>1.000</td>\n",
              "    </tr>\n",
              "    <tr>\n",
              "      <th>ANALISE DE SERIES TEMPORAIS 2</th>\n",
              "      <td>6</td>\n",
              "      <td>6</td>\n",
              "      <td>1.000</td>\n",
              "    </tr>\n",
              "    <tr>\n",
              "      <th>CONSULTORIA</th>\n",
              "      <td>39</td>\n",
              "      <td>39</td>\n",
              "      <td>1.000</td>\n",
              "    </tr>\n",
              "    <tr>\n",
              "      <th>PROCESSOS ESTOCASTICOS</th>\n",
              "      <td>44</td>\n",
              "      <td>44</td>\n",
              "      <td>1.000</td>\n",
              "    </tr>\n",
              "    <tr>\n",
              "      <th>METODOS APLICADOS</th>\n",
              "      <td>44</td>\n",
              "      <td>44</td>\n",
              "      <td>1.000</td>\n",
              "    </tr>\n",
              "    <tr>\n",
              "      <th>TEORIA DA RESPOSTA AO ITEM</th>\n",
              "      <td>99</td>\n",
              "      <td>99</td>\n",
              "      <td>1.000</td>\n",
              "    </tr>\n",
              "    <tr>\n",
              "      <th>LABORATORIO DE ESTATISTICA 2</th>\n",
              "      <td>15</td>\n",
              "      <td>15</td>\n",
              "      <td>1.000</td>\n",
              "    </tr>\n",
              "    <tr>\n",
              "      <th>LABORATORIO DE ESTATISTICA 1</th>\n",
              "      <td>90</td>\n",
              "      <td>90</td>\n",
              "      <td>1.000</td>\n",
              "    </tr>\n",
              "    <tr>\n",
              "      <th>DELINEAMENTO E ANALISE DE EXPERIMENTOS 2</th>\n",
              "      <td>22</td>\n",
              "      <td>22</td>\n",
              "      <td>1.000</td>\n",
              "    </tr>\n",
              "    <tr>\n",
              "      <th>HISTORIA DA ESTATISTICA</th>\n",
              "      <td>37</td>\n",
              "      <td>37</td>\n",
              "      <td>1.000</td>\n",
              "    </tr>\n",
              "  </tbody>\n",
              "</table>\n",
              "</div>"
            ],
            "text/plain": [
              "                                          VEZES_POR_APROVACAO  ...  MEDIA_VEZES_ATE_PASSAR\n",
              "DISCIPLINA                                                     ...                        \n",
              "CALCULO 3                                               16689  ...                   1.408\n",
              "CALCULO 2                                               23841  ...                   1.385\n",
              "INTRODUCAO A ALGEBRA LINEAR                             20856  ...                   1.373\n",
              "CALCULO 1                                               31191  ...                   1.333\n",
              "ESTATISTICA APLICADA                                    20811  ...                   1.310\n",
              "CALCULO DE PROBABILIDADE 1                               1423  ...                   1.299\n",
              "CALCULO DE PROBABILIDADE 2                                780  ...                   1.282\n",
              "BIOESTATISTICA                                           6223  ...                   1.274\n",
              "COMPUTACAO EM ESTATISTICA 2                               448  ...                   1.270\n",
              "PROBABILIDADE E ESTATISTICA                             14268  ...                   1.258\n",
              "INTRODUCAO A PROBABILIDADE                               1175  ...                   1.250\n",
              "CALCULO NUMERICO                                        10695  ...                   1.245\n",
              "METODOS ESTATISTICOS 1                                   1041  ...                   1.190\n",
              "INFERENCIA ESTATISTICA                                    792  ...                   1.176\n",
              "DELINEAMENTO E ANALISE DE EXPERIMENTOS                    273  ...                   1.150\n",
              "METODOS ESTATISTICOS 2                                    718  ...                   1.142\n",
              "APLICACOES DA ESTATISTICA 1                               601  ...                   1.136\n",
              "ESTATISTICA EXPLORATORIA                                  493  ...                   1.128\n",
              "ESTATISTICA EXPLORATORIA 2                                798  ...                   1.120\n",
              "ANALISE DE REGRESSAO LINEAR                               280  ...                   1.104\n",
              "ESTATISTICA ESPACIAL                                       10  ...                   1.100\n",
              "ESTATISTICA EXPLORATORIA 1                                984  ...                   1.099\n",
              "PESQUISA OPERACIONAL 1                                    595  ...                   1.091\n",
              "DEMOGRAFIA                                                850  ...                   1.091\n",
              "COMPUTACAO EM ESTATISTICA 1                               586  ...                   1.085\n",
              "INFERENCIA BAYESIANA                                      152  ...                   1.079\n",
              "TECNICAS DE AMOSTRAGEM                                    784  ...                   1.075\n",
              "ANALISE MULTIVARIADA 1                                    702  ...                   1.058\n",
              "ESTATISTICA COMPUTACIONAL                                 181  ...                   1.055\n",
              "ESTAGIO SUPERVISIONADO EM ESTATISTICA 2                   406  ...                   1.054\n",
              "MEDIDAS DE INFORMACAO E APLICACOES                        328  ...                   1.046\n",
              "PLANEJAMENTO E PESQUISA 1                                 473  ...                   1.044\n",
              "TRABALHO DE CONCLUSAO DE CURSO 2                          232  ...                   1.039\n",
              "CONTROLE ESTATISTICO DE QUALIDADE                         719  ...                   1.039\n",
              "ANALISE DE DADOS CATEGORIZADOS                            500  ...                   1.036\n",
              "TOPICOS EM ESTATISTICA 1                                   90  ...                   1.033\n",
              "ANALISE DE SOBREVIVENCIA                                  161  ...                   1.031\n",
              "ESTAGIO SUPERVISIONADO EM ESTATISTICA 1                   435  ...                   1.028\n",
              "ANALISE MULTIVARIADA 2                                    299  ...                   1.027\n",
              "ANALISE DE SERIES TEMPORAIS                               510  ...                   1.022\n",
              "INTRODUCAO A ANALISE DE SOBREVIVENCIA                      49  ...                   1.020\n",
              "PROBABILIDADE E ESTATISTICA 2                              52  ...                   1.019\n",
              "TOPICOS EM ESTATISTICA 2                                   71  ...                   1.014\n",
              "TRABALHO DE CONCLUSAO DE CURSO 1                          242  ...                   1.012\n",
              "PESQUISA OPERACIONAL 2                                     80  ...                   1.012\n",
              "APLICACOES DA ESTATISTICA 2                               191  ...                   1.010\n",
              "PLANEJAMENTO E PESQUISA 2                                 198  ...                   1.010\n",
              "MODELOS LINEARES GENERALIZADOS                             34  ...                   1.000\n",
              "ANALISE DE SERIES TEMPORAIS 2                               6  ...                   1.000\n",
              "CONSULTORIA                                                39  ...                   1.000\n",
              "PROCESSOS ESTOCASTICOS                                     44  ...                   1.000\n",
              "METODOS APLICADOS                                          44  ...                   1.000\n",
              "TEORIA DA RESPOSTA AO ITEM                                 99  ...                   1.000\n",
              "LABORATORIO DE ESTATISTICA 2                               15  ...                   1.000\n",
              "LABORATORIO DE ESTATISTICA 1                               90  ...                   1.000\n",
              "DELINEAMENTO E ANALISE DE EXPERIMENTOS 2                   22  ...                   1.000\n",
              "HISTORIA DA ESTATISTICA                                    37  ...                   1.000\n",
              "\n",
              "[57 rows x 3 columns]"
            ]
          },
          "metadata": {},
          "execution_count": 29
        }
      ]
    },
    {
      "cell_type": "code",
      "metadata": {
        "colab": {
          "base_uri": "https://localhost:8080/",
          "height": 475
        },
        "id": "9TduqlOKyyd3",
        "outputId": "5da45911-ec09-4b67-f297-5ac7db4f50db"
      },
      "source": [
        "# Média de vezes que uma disciplina precisa ser feita até se passar:\n",
        "media_geral = round(sum(db_4.VEZES_CURSADAS_TOTAIS)/sum(db_4.VEZES_POR_APROVACAO), 3)\n",
        "\n",
        "\n",
        "# Gráfico de Colunas com as médias de vezes que uma disciplina precsa ser feita até se passar:\n",
        "%matplotlib inline\n",
        "\n",
        "plt.figure(figsize=(12, 7))\n",
        "\n",
        "db_4.sort_values(\"MEDIA_VEZES_ATE_PASSAR\", ascending = False)\\\n",
        "  [\"MEDIA_VEZES_ATE_PASSAR\"][0:4,].plot(kind=\"bar\",\n",
        "  color=[\"skyblue\", \"lightcoral\", \"limegreen\", \"moccasin\"], label = \"\")\n",
        "plt.xlabel(\"Disciplinas\")\n",
        "plt.ylabel(\"Vezes\")\n",
        "plt.title(\"Quantas vezes uma disciplina precisa ser feita até se passar?\")\n",
        "plt.ylim(1, 1.45)\n",
        "plt.xticks(rotation = 0)\n",
        "plt.axhline(y=media_geral,linewidth=1, color=\"k\", linestyle = \"--\", label = \"Média Geral\")\n",
        "plt.legend()\n",
        "plt.savefig('grafico_1.png')\n",
        "plt.show()\n",
        "plt.clf()"
      ],
      "execution_count": 80,
      "outputs": [
        {
          "output_type": "display_data",
          "data": {
            "image/png": "[encoded data removed]",
            "text/plain": [
              "<Figure size 864x504 with 1 Axes>"
            ]
          },
          "metadata": {
            "needs_background": "light"
          }
        },
        {
          "output_type": "display_data",
          "data": {
            "text/plain": [
              "<Figure size 432x288 with 0 Axes>"
            ]
          },
          "metadata": {}
        }
      ]
    },
    {
      "cell_type": "markdown",
      "metadata": {
        "id": "PVTsbg0GJh6d"
      },
      "source": [
        "### 2.Como as menções diferem entre os departamentos MAT e EST? \n",
        "\n",
        "Variáveis de interesse: menção, disciplina. \n",
        "\n",
        "Método: teste de independência e tabela de contingência/ gráfico de colunas colorido por departamento. \n",
        "\n",
        "Obs.: criar variável de departamento (MAT ou EST). "
      ]
    },
    {
      "cell_type": "code",
      "metadata": {
        "colab": {
          "base_uri": "https://localhost:8080/"
        },
        "id": "uKNxV_MuKdb6",
        "outputId": "8f9be8ff-f19e-4015-e626-ced49bf7d4cb"
      },
      "source": [
        "#Filtrando para menções relevantes\n",
        "db_mencoes = db[~db.MENCAO.isin([\"AP\", \"CC\", \"DP\", \"NAN\"])]\n",
        "\n",
        "#Ordenando menções\n",
        "db_mencoes[\"MENCAO\"] = db_mencoes[\"MENCAO\"].astype(\"category\")\n",
        "db_mencoes['MENCAO'] = db_mencoes['MENCAO'].cat.reorder_categories(['TJ', 'TR', 'SR', 'II', 'MI', 'MM', 'MS', 'SS'], ordered=True)"
      ],
      "execution_count": 31,
      "outputs": [
        {
          "output_type": "stream",
          "name": "stderr",
          "text": [
            "/usr/local/lib/python3.7/dist-packages/ipykernel_launcher.py:5: SettingWithCopyWarning: \n",
            "A value is trying to be set on a copy of a slice from a DataFrame.\n",
            "Try using .loc[row_indexer,col_indexer] = value instead\n",
            "\n",
            "See the caveats in the documentation: https://pandas.pydata.org/pandas-docs/stable/user_guide/indexing.html#returning-a-view-versus-a-copy\n",
            "  \"\"\"\n",
            "/usr/local/lib/python3.7/dist-packages/ipykernel_launcher.py:6: SettingWithCopyWarning: \n",
            "A value is trying to be set on a copy of a slice from a DataFrame.\n",
            "Try using .loc[row_indexer,col_indexer] = value instead\n",
            "\n",
            "See the caveats in the documentation: https://pandas.pydata.org/pandas-docs/stable/user_guide/indexing.html#returning-a-view-versus-a-copy\n",
            "  \n"
          ]
        }
      ]
    },
    {
      "cell_type": "code",
      "metadata": {
        "colab": {
          "base_uri": "https://localhost:8080/",
          "height": 173
        },
        "id": "_yidolY4Sqjx",
        "outputId": "6e935987-791b-4862-fa15-ab23f746ce7e"
      },
      "source": [
        "#Tabela de Contigência\n",
        "round(pd.crosstab(db_mencoes.OFERTANTE, db_mencoes.MENCAO, margins=True, normalize=\"index\", colnames=[\"Menção (%)\"], rownames=[\"Ofertante\"]).apply(lambda x : x*100), 2)"
      ],
      "execution_count": 32,
      "outputs": [
        {
          "output_type": "execute_result",
          "data": {
            "text/html": [
              "<div>\n",
              "<style scoped>\n",
              "    .dataframe tbody tr th:only-of-type {\n",
              "        vertical-align: middle;\n",
              "    }\n",
              "\n",
              "    .dataframe tbody tr th {\n",
              "        vertical-align: top;\n",
              "    }\n",
              "\n",
              "    .dataframe thead th {\n",
              "        text-align: right;\n",
              "    }\n",
              "</style>\n",
              "<table border=\"1\" class=\"dataframe\">\n",
              "  <thead>\n",
              "    <tr style=\"text-align: right;\">\n",
              "      <th>Menção (%)</th>\n",
              "      <th>TJ</th>\n",
              "      <th>TR</th>\n",
              "      <th>SR</th>\n",
              "      <th>II</th>\n",
              "      <th>MI</th>\n",
              "      <th>MM</th>\n",
              "      <th>MS</th>\n",
              "      <th>SS</th>\n",
              "    </tr>\n",
              "    <tr>\n",
              "      <th>Ofertante</th>\n",
              "      <th></th>\n",
              "      <th></th>\n",
              "      <th></th>\n",
              "      <th></th>\n",
              "      <th></th>\n",
              "      <th></th>\n",
              "      <th></th>\n",
              "      <th></th>\n",
              "    </tr>\n",
              "  </thead>\n",
              "  <tbody>\n",
              "    <tr>\n",
              "      <th>EST</th>\n",
              "      <td>0.64</td>\n",
              "      <td>4.67</td>\n",
              "      <td>9.20</td>\n",
              "      <td>6.49</td>\n",
              "      <td>7.45</td>\n",
              "      <td>36.74</td>\n",
              "      <td>24.02</td>\n",
              "      <td>10.80</td>\n",
              "    </tr>\n",
              "    <tr>\n",
              "      <th>MAT</th>\n",
              "      <td>1.01</td>\n",
              "      <td>4.71</td>\n",
              "      <td>10.44</td>\n",
              "      <td>12.56</td>\n",
              "      <td>11.27</td>\n",
              "      <td>33.44</td>\n",
              "      <td>18.98</td>\n",
              "      <td>7.60</td>\n",
              "    </tr>\n",
              "    <tr>\n",
              "      <th>All</th>\n",
              "      <td>0.89</td>\n",
              "      <td>4.70</td>\n",
              "      <td>10.05</td>\n",
              "      <td>10.64</td>\n",
              "      <td>10.06</td>\n",
              "      <td>34.48</td>\n",
              "      <td>20.57</td>\n",
              "      <td>8.61</td>\n",
              "    </tr>\n",
              "  </tbody>\n",
              "</table>\n",
              "</div>"
            ],
            "text/plain": [
              "Menção (%)    TJ    TR     SR     II     MI     MM     MS     SS\n",
              "Ofertante                                                       \n",
              "EST         0.64  4.67   9.20   6.49   7.45  36.74  24.02  10.80\n",
              "MAT         1.01  4.71  10.44  12.56  11.27  33.44  18.98   7.60\n",
              "All         0.89  4.70  10.05  10.64  10.06  34.48  20.57   8.61"
            ]
          },
          "metadata": {},
          "execution_count": 32
        }
      ]
    },
    {
      "cell_type": "code",
      "metadata": {
        "colab": {
          "base_uri": "https://localhost:8080/"
        },
        "id": "4GROGVMqdOXe",
        "outputId": "d0642dd8-49cf-41bb-e89c-6745f629ba63"
      },
      "source": [
        "#Teste de Independência\n",
        "scipy.stats.chi2_contingency(pd.crosstab(db_mencoes.OFERTANTE, db_mencoes.MENCAO))"
      ],
      "execution_count": 33,
      "outputs": [
        {
          "output_type": "execute_result",
          "data": {
            "text/plain": [
              "(4436.435643902576,\n",
              " 0.0,\n",
              " 7,\n",
              " array([[  725.34139142,  3821.01743456,  8175.59751568,  8658.84197672,\n",
              "          8186.04091268, 28060.14186433, 16740.76538601,  7006.25351861],\n",
              "        [ 1566.65860858,  8252.98256544, 17658.40248432, 18702.15802328,\n",
              "         17680.95908732, 60606.85813567, 36158.23461399, 15132.74648139]]))"
            ]
          },
          "metadata": {},
          "execution_count": 33
        }
      ]
    },
    {
      "cell_type": "code",
      "metadata": {
        "colab": {
          "base_uri": "https://localhost:8080/"
        },
        "id": "emtNd2ILjVfb",
        "outputId": "ab50137e-d5bd-4cc8-9aff-9c0d8b6b64e8"
      },
      "source": [
        "#Coeficiente de contingência modificado\n",
        "qui_quadrado = scipy.stats.chi2_contingency(pd.crosstab(db_mencoes.OFERTANTE, db_mencoes.MENCAO))[0]\n",
        "(2*qui_quadrado/(len(db_mencoes)+qui_quadrado))**0.5"
      ],
      "execution_count": 34,
      "outputs": [
        {
          "output_type": "execute_result",
          "data": {
            "text/plain": [
              "0.18417835643481428"
            ]
          },
          "metadata": {},
          "execution_count": 34
        }
      ]
    },
    {
      "cell_type": "code",
      "metadata": {
        "colab": {
          "base_uri": "https://localhost:8080/",
          "height": 458
        },
        "id": "hEzi7vbVgTux",
        "outputId": "c40fcd80-5ba9-4efb-eb69-56755af6f695"
      },
      "source": [
        "#Gráfico de colunas\n",
        "est_bar = (0.6366, 4.6710,\t9.1983,\t6.4886,\t7.4459,\t36.7415,\t24.0163,\t10.8020)\n",
        "mat_bar = (1.0093,\t4.7070,\t10.4399,\t12.5632,\t11.2700,\t33.4373,\t18.9783,\t7.5951)\n",
        "plt.figure(figsize=(12, 7))    \n",
        "plt.bar(np.arange(8), est_bar , 0.3, label='Estatística')\n",
        "plt.bar(np.arange(8) + 0.3, mat_bar, 0.3, label='Matemática')\n",
        "plt.xticks(np.arange(8) + 0.3 / 2, ('TJ', 'TR', 'SR', 'II', 'MI', 'MM', 'MS', 'SS'))\n",
        "plt.legend(loc='best')\n",
        "plt.xlabel(\"Menção\")\n",
        "plt.ylabel(\"%\")\n",
        "plt.title(\"Menções por Disciplinas da Matemática e da Estatística\")\n",
        "plt.savefig('grafico_2.png')\n",
        "plt.show()"
      ],
      "execution_count": 81,
      "outputs": [
        {
          "output_type": "display_data",
          "data": {
            "image/png": "[encoded data removed]",
            "text/plain": [
              "<Figure size 864x504 with 1 Axes>"
            ]
          },
          "metadata": {
            "needs_background": "light"
          }
        }
      ]
    },
    {
      "cell_type": "markdown",
      "metadata": {
        "id": "z3-eYD2aJiSH"
      },
      "source": [
        "### 3.Em qual semestre é mais comum que os alunos da Estatística saiam do curso? \n",
        "\n",
        "Variáveis de interesse: nome do aluno, disciplina, período, curso. \n",
        "\n",
        "Método: listar alunos que desistiram do curso e usar gráficos de colunas para visualizar os semestres de desistência. \n",
        "\n",
        "Obs.: filtrar os dados para alunos da estatística que sumiram do banco de dados sem ter aprovação no TCC2. Mapear o semestre em que o aluno está a partir do seu primeiro registro no banco de dados (para o semestre letivo) e a partir das suas disciplinas cursadas (para o semestre do fluxo). Criar variáveis para os semestres de desistência. "
      ]
    },
    {
      "cell_type": "code",
      "metadata": {
        "colab": {
          "base_uri": "https://localhost:8080/",
          "height": 475
        },
        "id": "TozqEM1RVFgn",
        "outputId": "43db5bf2-09fd-49fd-a4b5-c4c9c8caa4b7"
      },
      "source": [
        "# Novo DB com os alunos que ainda não formaram na Estatística,\n",
        "# usando como formandos aqueles que passaram em TCC2 e/ou estágio 2:\n",
        "formados_nomes = list(db[(db.DISCIPLINA == \"TRABALHO DE CONCLUSAO DE CURSO 2\") &\n",
        "                  (db.APROVACAO == \"SIM\") & (db.CURSO == \"ESTATISTICA\")].index)\n",
        "db_evasao = db[~db.index.isin(formados_nomes)]\n",
        "\n",
        "formados_nomes = list(db[(db.DISCIPLINA == \"ESTAGIO SUPERVISIONADO EM ESTATISTICA 2\") &\n",
        "                  (db.APROVACAO == \"SIM\") & (db.CURSO == \"ESTATISTICA\")].index)\n",
        "db_evasao = db_evasao[~db_evasao.index.isin(formados_nomes)]\n",
        "\n",
        "db_evasao = db_evasao[db_evasao.CURSO == \"ESTATISTICA\"]\n",
        "\n",
        "# Removendo as entradas que não se aplicam, referentes ao status de aprovação,\n",
        "# tais quais trancamento ou concessão de crédito:\n",
        "nao_aplicavel = list(db_evasao[db_evasao.APROVACAO == \"NAO_APLICAVEL\"].index)\n",
        "db_evasao = db_evasao[~db_evasao.index.isin(nao_aplicavel)]\n",
        "\n",
        "# Considerando que os alunos que se matricularam em ao menos menos uma matéria em\n",
        "# 2019 ou 2020 ou 2021 não saíram do curso (inclusive os prováveis formandos)\n",
        "# também retiramos os mesmos- são alunos regulares:\n",
        "# 2019\n",
        "alunos_ativos = list(db_evasao[db_evasao.ANO == 2019].index.unique())\n",
        "\n",
        "db_evasao = db_evasao[~db_evasao.index.isin(alunos_ativos)]\n",
        "\n",
        "# 2020\n",
        "alunos_ativos = list(db_evasao[db_evasao.ANO == 2020].index.unique())\n",
        "\n",
        "db_evasao = db_evasao[~db_evasao.index.isin(alunos_ativos)]\n",
        "\n",
        "# 2021\n",
        "alunos_ativos = list(db_evasao[db_evasao.ANO == 2021].index.unique())\n",
        "\n",
        "db_evasao = db_evasao[~db_evasao.index.isin(alunos_ativos)]\n",
        "\n",
        "#db_evasao = db_evasao.set_index(\"NOME\")\n",
        "\n",
        "# listas vazia a ser preenchida com o número de semestres cursados:\n",
        "semestre_abandono = []\n",
        "for name in db_evasao.index:\n",
        "    semestre_abandono.append(len(db_evasao[db_evasao.index == name]\\\n",
        "                                 [\"SEMESTRE\"].unique()))\n",
        "\n",
        "# Criando variável com semestre de abandono:\n",
        "db_evasao[\"SEMESTRE ABANDONO\"] = np.array(semestre_abandono)\n",
        "db_evasao = db_evasao.astype({\"SEMESTRE ABANDONO\" : str})\n",
        "db_evasao[\"SEMESTRE ABANDONO\"] = db_evasao[\"SEMESTRE ABANDONO\"]+\"º\"\n",
        "\n",
        "\n",
        "# Gráfico de Colunas com os semestres de abandono (período letivo):\n",
        "db_evasao_aluno = db_evasao.copy()\n",
        "db_evasao_aluno[\"NOME\"] = db_evasao_aluno.index\n",
        "db_evasao_aluno = db_evasao_aluno.drop_duplicates(subset=\"NOME\")\n",
        "\n",
        "%matplotlib inline\n",
        "freq = db_evasao_aluno[\"SEMESTRE ABANDONO\"].value_counts()\n",
        "plt.figure(figsize=(12, 7)) \n",
        "freq.reindex([\"1º\", \"2º\", \"3º\", \"4º\", \"5º\", \"6º\", \"7º\", \"8º\", \"9º\", \"10º\",\n",
        "              \"11º\", \"12º\", \"13º\", \"14º\", \"15º\", \"16º\", \"17º\"])\\\n",
        "              .plot(kind=\"bar\", color=\"skyblue\")\n",
        "plt.xlabel(\"Último Semestre do Aluno\")\n",
        "plt.ylabel(\"Ocorrências\")\n",
        "plt.title(\"Desistências por Semestre Letivo\")\n",
        "plt.xticks(rotation = 0)\n",
        "plt.savefig('grafico_3.png')\n",
        "plt.show()\n",
        "plt.clf()"
      ],
      "execution_count": 82,
      "outputs": [
        {
          "output_type": "display_data",
          "data": {
            "image/png": "[encoded data removed]",
            "text/plain": [
              "<Figure size 864x504 with 1 Axes>"
            ]
          },
          "metadata": {
            "needs_background": "light"
          }
        },
        {
          "output_type": "display_data",
          "data": {
            "text/plain": [
              "<Figure size 432x288 with 0 Axes>"
            ]
          },
          "metadata": {}
        }
      ]
    },
    {
      "cell_type": "code",
      "metadata": {
        "colab": {
          "base_uri": "https://localhost:8080/",
          "height": 492
        },
        "id": "u78qQlsVcTUf",
        "outputId": "f704f974-a7eb-4fd6-f7c0-4c1f176ea3d1"
      },
      "source": [
        "# Tomando somente de 2016 em diante (novo currículo):\n",
        "# Separando o último semestre do aluno no fluxo\n",
        "ultimo_semestre_fluxo =[]\n",
        "for nome in db_evasao[db_evasao.ANO >= 2016].index.unique():\n",
        "  ultimo_semestre_fluxo.append(max(db_evasao[db_evasao.index==nome]\\\n",
        "                                   [\"SEMESTRE FLUXO\"]))\n",
        "ultimo_semestre_fluxo = pd.Series(ultimo_semestre_fluxo)\n",
        "ultimo_semestre_fluxo = ultimo_semestre_fluxo.astype(\"str\")+\"º\"\n",
        "\n",
        "print(sum(ultimo_semestre_fluxo.value_counts()))\n",
        "\n",
        "# Gráfico de Colunas com os semestres de abandono (fluxo)\n",
        "%matplotlib inline\n",
        "freq = ultimo_semestre_fluxo.value_counts()\n",
        "plt.figure(figsize=(12, 7)) \n",
        "freq.reindex([\"1º\", \"2º\", \"3º\", \"4º\", \"5º\", \"6º\", \"7º\", \"8º\"])\\\n",
        ".plot(kind=\"bar\",color=\"skyblue\")\n",
        "plt.xlabel(\"Último Semestre do Aluno no Fluxo\")\n",
        "plt.ylabel(\"Ocorrências\")\n",
        "plt.title(\"Desistências por Semestre do Fluxo - A partir de 2016\")\n",
        "plt.xticks(rotation = 0)\n",
        "plt.savefig('grafico_4.png')\n",
        "plt.show()\n",
        "plt.clf()"
      ],
      "execution_count": 83,
      "outputs": [
        {
          "output_type": "stream",
          "name": "stdout",
          "text": [
            "83\n"
          ]
        },
        {
          "output_type": "display_data",
          "data": {
            "image/png": "[encoded data removed]",
            "text/plain": [
              "<Figure size 864x504 with 1 Axes>"
            ]
          },
          "metadata": {
            "needs_background": "light"
          }
        },
        {
          "output_type": "display_data",
          "data": {
            "text/plain": [
              "<Figure size 432x288 with 0 Axes>"
            ]
          },
          "metadata": {}
        }
      ]
    },
    {
      "cell_type": "markdown",
      "metadata": {
        "id": "17XuhC8DJieY"
      },
      "source": [
        "### 4.Como a taxa de evasão mudou ao longo dos anos? \n",
        "\n",
        "Variáveis de interesse: nome do aluno, disciplina, período, curso. \n",
        "\n",
        "Método: usar a mesma filtragem da pergunta anterior para calcular a proporção de alunos que saíram em cada ano (em relação ao total de matriculados na Estatística naquele ano). Fazer gráfico de linha para visualizar a evolução dessa taxa ao longo dos anos. "
      ]
    },
    {
      "cell_type": "code",
      "metadata": {
        "colab": {
          "base_uri": "https://localhost:8080/",
          "height": 419
        },
        "id": "fd-os7whlAG8",
        "outputId": "eab6eb71-11a6-454b-dbe4-c229b1c138ff"
      },
      "source": [
        "# Db com os alunos evadidos até 2019:\n",
        "alunos_evasao = list(db_evasao.index.unique())\n",
        "ano_entrada = []\n",
        "ano_saida = []\n",
        "for aluno in alunos_evasao:\n",
        "  ano_entrada.append(min(list(db_evasao[db_evasao.index == aluno][\"ANO\"])))\n",
        "  ano_saida.append(max(list(db_evasao[db_evasao.index == aluno][\"ANO\"])))\n",
        "\n",
        "db_evasao_anos = pd.DataFrame(data = {\"NOME\" : alunos_evasao,\n",
        "                                      \"ANO_ENTRADA\" : ano_entrada,\n",
        "                                      \"ANO_SAIDA\" : ano_saida})\n",
        "db_evasao_anos"
      ],
      "execution_count": 38,
      "outputs": [
        {
          "output_type": "execute_result",
          "data": {
            "text/html": [
              "<div>\n",
              "<style scoped>\n",
              "    .dataframe tbody tr th:only-of-type {\n",
              "        vertical-align: middle;\n",
              "    }\n",
              "\n",
              "    .dataframe tbody tr th {\n",
              "        vertical-align: top;\n",
              "    }\n",
              "\n",
              "    .dataframe thead th {\n",
              "        text-align: right;\n",
              "    }\n",
              "</style>\n",
              "<table border=\"1\" class=\"dataframe\">\n",
              "  <thead>\n",
              "    <tr style=\"text-align: right;\">\n",
              "      <th></th>\n",
              "      <th>NOME</th>\n",
              "      <th>ANO_ENTRADA</th>\n",
              "      <th>ANO_SAIDA</th>\n",
              "    </tr>\n",
              "  </thead>\n",
              "  <tbody>\n",
              "    <tr>\n",
              "      <th>0</th>\n",
              "      <td>GORZUTFGTJXGJK</td>\n",
              "      <td>1994</td>\n",
              "      <td>1995</td>\n",
              "    </tr>\n",
              "    <tr>\n",
              "      <th>1</th>\n",
              "      <td>GRKDGTJXKFJKFYUAFGFPATOUX</td>\n",
              "      <td>1994</td>\n",
              "      <td>1995</td>\n",
              "    </tr>\n",
              "    <tr>\n",
              "      <th>2</th>\n",
              "      <td>GRKDGTJXKFJUYFYGTZUYFYORBG</td>\n",
              "      <td>1994</td>\n",
              "      <td>1994</td>\n",
              "    </tr>\n",
              "    <tr>\n",
              "      <th>3</th>\n",
              "      <td>GRKDGTJXKFZNKUZUTOUFZKODKOXGFXOUY</td>\n",
              "      <td>1994</td>\n",
              "      <td>1994</td>\n",
              "    </tr>\n",
              "    <tr>\n",
              "      <th>4</th>\n",
              "      <td>GROIOUFLGHOUFHGXXUY</td>\n",
              "      <td>1994</td>\n",
              "      <td>1994</td>\n",
              "    </tr>\n",
              "    <tr>\n",
              "      <th>...</th>\n",
              "      <td>...</td>\n",
              "      <td>...</td>\n",
              "      <td>...</td>\n",
              "    </tr>\n",
              "    <tr>\n",
              "      <th>498</th>\n",
              "      <td>SGXOGFRAOYGFYORBGFMAOSGXGKYFSUXGOY</td>\n",
              "      <td>2018</td>\n",
              "      <td>2018</td>\n",
              "    </tr>\n",
              "    <tr>\n",
              "      <th>499</th>\n",
              "      <td>GTJXKFRAOYFHGXHUYGFJGFYORBGFZKRKY</td>\n",
              "      <td>2018</td>\n",
              "      <td>2018</td>\n",
              "    </tr>\n",
              "    <tr>\n",
              "      <th>500</th>\n",
              "      <td>VKJXUFXKHKYINOTOFLOMAKOXKJU</td>\n",
              "      <td>2018</td>\n",
              "      <td>2018</td>\n",
              "    </tr>\n",
              "    <tr>\n",
              "      <th>501</th>\n",
              "      <td>1OIZUXFNAMUFJKFVGOBGFSUXKTU</td>\n",
              "      <td>2018</td>\n",
              "      <td>2018</td>\n",
              "    </tr>\n",
              "    <tr>\n",
              "      <th>502</th>\n",
              "      <td>1OTOIOAYFYKGHXGFJKFIGXBGRNU</td>\n",
              "      <td>2018</td>\n",
              "      <td>2018</td>\n",
              "    </tr>\n",
              "  </tbody>\n",
              "</table>\n",
              "<p>503 rows × 3 columns</p>\n",
              "</div>"
            ],
            "text/plain": [
              "                                   NOME  ANO_ENTRADA  ANO_SAIDA\n",
              "0                        GORZUTFGTJXGJK         1994       1995\n",
              "1             GRKDGTJXKFJKFYUAFGFPATOUX         1994       1995\n",
              "2            GRKDGTJXKFJUYFYGTZUYFYORBG         1994       1994\n",
              "3     GRKDGTJXKFZNKUZUTOUFZKODKOXGFXOUY         1994       1994\n",
              "4                   GROIOUFLGHOUFHGXXUY         1994       1994\n",
              "..                                  ...          ...        ...\n",
              "498  SGXOGFRAOYGFYORBGFMAOSGXGKYFSUXGOY         2018       2018\n",
              "499   GTJXKFRAOYFHGXHUYGFJGFYORBGFZKRKY         2018       2018\n",
              "500         VKJXUFXKHKYINOTOFLOMAKOXKJU         2018       2018\n",
              "501         1OIZUXFNAMUFJKFVGOBGFSUXKTU         2018       2018\n",
              "502         1OTOIOAYFYKGHXGFJKFIGXBGRNU         2018       2018\n",
              "\n",
              "[503 rows x 3 columns]"
            ]
          },
          "metadata": {},
          "execution_count": 38
        }
      ]
    },
    {
      "cell_type": "code",
      "metadata": {
        "colab": {
          "base_uri": "https://localhost:8080/",
          "height": 824
        },
        "id": "AzGxEROG0Mf_",
        "outputId": "f29c28ce-66c5-4f87-ef38-7535c54022ba"
      },
      "source": [
        "# Abandonos por ano na EST\n",
        "db_evasao_anos = db_evasao_anos.groupby([\"ANO_SAIDA\"]).size().reset_index(name='ALUNOS_ABANDONO_POR_ANO')\n",
        "db_evasao_anos = db_evasao_anos.rename({\"ANO_SAIDA\": \"ANO\"},axis = 1)"
      ],
      "execution_count": 39,
      "outputs": [
        {
          "output_type": "execute_result",
          "data": {
            "text/html": [
              "<div>\n",
              "<style scoped>\n",
              "    .dataframe tbody tr th:only-of-type {\n",
              "        vertical-align: middle;\n",
              "    }\n",
              "\n",
              "    .dataframe tbody tr th {\n",
              "        vertical-align: top;\n",
              "    }\n",
              "\n",
              "    .dataframe thead th {\n",
              "        text-align: right;\n",
              "    }\n",
              "</style>\n",
              "<table border=\"1\" class=\"dataframe\">\n",
              "  <thead>\n",
              "    <tr style=\"text-align: right;\">\n",
              "      <th></th>\n",
              "      <th>ANO</th>\n",
              "      <th>ALUNOS_ABANDONO_POR_ANO</th>\n",
              "    </tr>\n",
              "  </thead>\n",
              "  <tbody>\n",
              "    <tr>\n",
              "      <th>0</th>\n",
              "      <td>1994</td>\n",
              "      <td>21</td>\n",
              "    </tr>\n",
              "    <tr>\n",
              "      <th>1</th>\n",
              "      <td>1995</td>\n",
              "      <td>21</td>\n",
              "    </tr>\n",
              "    <tr>\n",
              "      <th>2</th>\n",
              "      <td>1996</td>\n",
              "      <td>13</td>\n",
              "    </tr>\n",
              "    <tr>\n",
              "      <th>3</th>\n",
              "      <td>1997</td>\n",
              "      <td>10</td>\n",
              "    </tr>\n",
              "    <tr>\n",
              "      <th>4</th>\n",
              "      <td>1998</td>\n",
              "      <td>10</td>\n",
              "    </tr>\n",
              "    <tr>\n",
              "      <th>5</th>\n",
              "      <td>1999</td>\n",
              "      <td>14</td>\n",
              "    </tr>\n",
              "    <tr>\n",
              "      <th>6</th>\n",
              "      <td>2000</td>\n",
              "      <td>16</td>\n",
              "    </tr>\n",
              "    <tr>\n",
              "      <th>7</th>\n",
              "      <td>2001</td>\n",
              "      <td>18</td>\n",
              "    </tr>\n",
              "    <tr>\n",
              "      <th>8</th>\n",
              "      <td>2002</td>\n",
              "      <td>9</td>\n",
              "    </tr>\n",
              "    <tr>\n",
              "      <th>9</th>\n",
              "      <td>2003</td>\n",
              "      <td>11</td>\n",
              "    </tr>\n",
              "    <tr>\n",
              "      <th>10</th>\n",
              "      <td>2004</td>\n",
              "      <td>19</td>\n",
              "    </tr>\n",
              "    <tr>\n",
              "      <th>11</th>\n",
              "      <td>2005</td>\n",
              "      <td>16</td>\n",
              "    </tr>\n",
              "    <tr>\n",
              "      <th>12</th>\n",
              "      <td>2006</td>\n",
              "      <td>24</td>\n",
              "    </tr>\n",
              "    <tr>\n",
              "      <th>13</th>\n",
              "      <td>2007</td>\n",
              "      <td>16</td>\n",
              "    </tr>\n",
              "    <tr>\n",
              "      <th>14</th>\n",
              "      <td>2008</td>\n",
              "      <td>19</td>\n",
              "    </tr>\n",
              "    <tr>\n",
              "      <th>15</th>\n",
              "      <td>2009</td>\n",
              "      <td>22</td>\n",
              "    </tr>\n",
              "    <tr>\n",
              "      <th>16</th>\n",
              "      <td>2010</td>\n",
              "      <td>18</td>\n",
              "    </tr>\n",
              "    <tr>\n",
              "      <th>17</th>\n",
              "      <td>2011</td>\n",
              "      <td>31</td>\n",
              "    </tr>\n",
              "    <tr>\n",
              "      <th>18</th>\n",
              "      <td>2012</td>\n",
              "      <td>28</td>\n",
              "    </tr>\n",
              "    <tr>\n",
              "      <th>19</th>\n",
              "      <td>2013</td>\n",
              "      <td>25</td>\n",
              "    </tr>\n",
              "    <tr>\n",
              "      <th>20</th>\n",
              "      <td>2014</td>\n",
              "      <td>27</td>\n",
              "    </tr>\n",
              "    <tr>\n",
              "      <th>21</th>\n",
              "      <td>2015</td>\n",
              "      <td>32</td>\n",
              "    </tr>\n",
              "    <tr>\n",
              "      <th>22</th>\n",
              "      <td>2016</td>\n",
              "      <td>25</td>\n",
              "    </tr>\n",
              "    <tr>\n",
              "      <th>23</th>\n",
              "      <td>2017</td>\n",
              "      <td>33</td>\n",
              "    </tr>\n",
              "    <tr>\n",
              "      <th>24</th>\n",
              "      <td>2018</td>\n",
              "      <td>25</td>\n",
              "    </tr>\n",
              "  </tbody>\n",
              "</table>\n",
              "</div>"
            ],
            "text/plain": [
              "     ANO  ALUNOS_ABANDONO_POR_ANO\n",
              "0   1994                       21\n",
              "1   1995                       21\n",
              "2   1996                       13\n",
              "3   1997                       10\n",
              "4   1998                       10\n",
              "5   1999                       14\n",
              "6   2000                       16\n",
              "7   2001                       18\n",
              "8   2002                        9\n",
              "9   2003                       11\n",
              "10  2004                       19\n",
              "11  2005                       16\n",
              "12  2006                       24\n",
              "13  2007                       16\n",
              "14  2008                       19\n",
              "15  2009                       22\n",
              "16  2010                       18\n",
              "17  2011                       31\n",
              "18  2012                       28\n",
              "19  2013                       25\n",
              "20  2014                       27\n",
              "21  2015                       32\n",
              "22  2016                       25\n",
              "23  2017                       33\n",
              "24  2018                       25"
            ]
          },
          "metadata": {},
          "execution_count": 39
        }
      ]
    },
    {
      "cell_type": "code",
      "metadata": {
        "colab": {
          "base_uri": "https://localhost:8080/",
          "height": 917
        },
        "id": "llSBn9nShCS_",
        "outputId": "577f63ae-9c99-48bd-bad4-d6f01d05adeb"
      },
      "source": [
        "# Entrada por ano na EST\n",
        "db_test = db.reset_index()\n",
        "db_test = db_test[db_test.CURSO == \"ESTATISTICA\"]\n",
        "db_test = db_test.drop_duplicates(\"NOME\")\n",
        "\n",
        "\n",
        "db_test = db_test.groupby([\"ANO_ENTRADA\"]).size().reset_index(name='ENTRADA_ALUNO_POR_ANO')\n",
        "db_test = db_test.rename({\"ANO_ENTRADA\": \"ANO\"},axis = 1)"
      ],
      "execution_count": 40,
      "outputs": [
        {
          "output_type": "execute_result",
          "data": {
            "text/html": [
              "<div>\n",
              "<style scoped>\n",
              "    .dataframe tbody tr th:only-of-type {\n",
              "        vertical-align: middle;\n",
              "    }\n",
              "\n",
              "    .dataframe tbody tr th {\n",
              "        vertical-align: top;\n",
              "    }\n",
              "\n",
              "    .dataframe thead th {\n",
              "        text-align: right;\n",
              "    }\n",
              "</style>\n",
              "<table border=\"1\" class=\"dataframe\">\n",
              "  <thead>\n",
              "    <tr style=\"text-align: right;\">\n",
              "      <th></th>\n",
              "      <th>ANO</th>\n",
              "      <th>ENTRADA_ALUNO_POR_ANO</th>\n",
              "    </tr>\n",
              "  </thead>\n",
              "  <tbody>\n",
              "    <tr>\n",
              "      <th>0</th>\n",
              "      <td>1994</td>\n",
              "      <td>141</td>\n",
              "    </tr>\n",
              "    <tr>\n",
              "      <th>1</th>\n",
              "      <td>1995</td>\n",
              "      <td>60</td>\n",
              "    </tr>\n",
              "    <tr>\n",
              "      <th>2</th>\n",
              "      <td>1996</td>\n",
              "      <td>49</td>\n",
              "    </tr>\n",
              "    <tr>\n",
              "      <th>3</th>\n",
              "      <td>1997</td>\n",
              "      <td>42</td>\n",
              "    </tr>\n",
              "    <tr>\n",
              "      <th>4</th>\n",
              "      <td>1998</td>\n",
              "      <td>43</td>\n",
              "    </tr>\n",
              "    <tr>\n",
              "      <th>5</th>\n",
              "      <td>1999</td>\n",
              "      <td>45</td>\n",
              "    </tr>\n",
              "    <tr>\n",
              "      <th>6</th>\n",
              "      <td>2000</td>\n",
              "      <td>49</td>\n",
              "    </tr>\n",
              "    <tr>\n",
              "      <th>7</th>\n",
              "      <td>2001</td>\n",
              "      <td>48</td>\n",
              "    </tr>\n",
              "    <tr>\n",
              "      <th>8</th>\n",
              "      <td>2002</td>\n",
              "      <td>52</td>\n",
              "    </tr>\n",
              "    <tr>\n",
              "      <th>9</th>\n",
              "      <td>2003</td>\n",
              "      <td>58</td>\n",
              "    </tr>\n",
              "    <tr>\n",
              "      <th>10</th>\n",
              "      <td>2004</td>\n",
              "      <td>56</td>\n",
              "    </tr>\n",
              "    <tr>\n",
              "      <th>11</th>\n",
              "      <td>2005</td>\n",
              "      <td>66</td>\n",
              "    </tr>\n",
              "    <tr>\n",
              "      <th>12</th>\n",
              "      <td>2006</td>\n",
              "      <td>54</td>\n",
              "    </tr>\n",
              "    <tr>\n",
              "      <th>13</th>\n",
              "      <td>2007</td>\n",
              "      <td>50</td>\n",
              "    </tr>\n",
              "    <tr>\n",
              "      <th>14</th>\n",
              "      <td>2008</td>\n",
              "      <td>42</td>\n",
              "    </tr>\n",
              "    <tr>\n",
              "      <th>15</th>\n",
              "      <td>2009</td>\n",
              "      <td>67</td>\n",
              "    </tr>\n",
              "    <tr>\n",
              "      <th>16</th>\n",
              "      <td>2010</td>\n",
              "      <td>74</td>\n",
              "    </tr>\n",
              "    <tr>\n",
              "      <th>17</th>\n",
              "      <td>2011</td>\n",
              "      <td>78</td>\n",
              "    </tr>\n",
              "    <tr>\n",
              "      <th>18</th>\n",
              "      <td>2012</td>\n",
              "      <td>84</td>\n",
              "    </tr>\n",
              "    <tr>\n",
              "      <th>19</th>\n",
              "      <td>2013</td>\n",
              "      <td>71</td>\n",
              "    </tr>\n",
              "    <tr>\n",
              "      <th>20</th>\n",
              "      <td>2014</td>\n",
              "      <td>73</td>\n",
              "    </tr>\n",
              "    <tr>\n",
              "      <th>21</th>\n",
              "      <td>2015</td>\n",
              "      <td>67</td>\n",
              "    </tr>\n",
              "    <tr>\n",
              "      <th>22</th>\n",
              "      <td>2016</td>\n",
              "      <td>68</td>\n",
              "    </tr>\n",
              "    <tr>\n",
              "      <th>23</th>\n",
              "      <td>2017</td>\n",
              "      <td>78</td>\n",
              "    </tr>\n",
              "    <tr>\n",
              "      <th>24</th>\n",
              "      <td>2018</td>\n",
              "      <td>77</td>\n",
              "    </tr>\n",
              "    <tr>\n",
              "      <th>25</th>\n",
              "      <td>2019</td>\n",
              "      <td>76</td>\n",
              "    </tr>\n",
              "    <tr>\n",
              "      <th>26</th>\n",
              "      <td>2020</td>\n",
              "      <td>60</td>\n",
              "    </tr>\n",
              "    <tr>\n",
              "      <th>27</th>\n",
              "      <td>2021</td>\n",
              "      <td>4</td>\n",
              "    </tr>\n",
              "  </tbody>\n",
              "</table>\n",
              "</div>"
            ],
            "text/plain": [
              "     ANO  ENTRADA_ALUNO_POR_ANO\n",
              "0   1994                    141\n",
              "1   1995                     60\n",
              "2   1996                     49\n",
              "3   1997                     42\n",
              "4   1998                     43\n",
              "5   1999                     45\n",
              "6   2000                     49\n",
              "7   2001                     48\n",
              "8   2002                     52\n",
              "9   2003                     58\n",
              "10  2004                     56\n",
              "11  2005                     66\n",
              "12  2006                     54\n",
              "13  2007                     50\n",
              "14  2008                     42\n",
              "15  2009                     67\n",
              "16  2010                     74\n",
              "17  2011                     78\n",
              "18  2012                     84\n",
              "19  2013                     71\n",
              "20  2014                     73\n",
              "21  2015                     67\n",
              "22  2016                     68\n",
              "23  2017                     78\n",
              "24  2018                     77\n",
              "25  2019                     76\n",
              "26  2020                     60\n",
              "27  2021                      4"
            ]
          },
          "metadata": {},
          "execution_count": 40
        }
      ]
    },
    {
      "cell_type": "code",
      "metadata": {
        "colab": {
          "base_uri": "https://localhost:8080/",
          "height": 824
        },
        "id": "Pn5BKWHlJaHM",
        "outputId": "166c2160-989c-47b3-f829-8719f19a2b68"
      },
      "source": [
        "# Unificando os DBs\n",
        "db_evasao_anos  = db_evasao_anos.merge(db_test, how=\"left\", on = \"ANO\")\n",
        "\n",
        "# Retirando as entradas referentes a 2019 até 2021:\n",
        "db_evasao_anos = db_evasao_anos[db_evasao_anos.ANO <= 2018]\n",
        "\n",
        "# Retirando o ano de 1994 (contém não somente entrada mas alunos que já estavam anteriormente):\n",
        "db_evasao_anos = db_evasao_anos[db_evasao_anos.ANO > 1994]\n",
        "# Criando variável taxa de abandono por ano:\n",
        "db_evasao_anos[\"TAXA_ABANDONO_POR_ANO\"] = round((db_evasao_anos[\"ALUNOS_ABANDONO_POR_ANO\"]\\\n",
        "                                           / db_evasao_anos[\"ENTRADA_ALUNO_POR_ANO\"]) * 100, 2)\n",
        "\n",
        "db_evasao_anos = db_evasao_anos.set_index(\"ANO\")\n",
        "\n",
        "db_evasao_anos"
      ],
      "execution_count": 41,
      "outputs": [
        {
          "output_type": "execute_result",
          "data": {
            "text/html": [
              "<div>\n",
              "<style scoped>\n",
              "    .dataframe tbody tr th:only-of-type {\n",
              "        vertical-align: middle;\n",
              "    }\n",
              "\n",
              "    .dataframe tbody tr th {\n",
              "        vertical-align: top;\n",
              "    }\n",
              "\n",
              "    .dataframe thead th {\n",
              "        text-align: right;\n",
              "    }\n",
              "</style>\n",
              "<table border=\"1\" class=\"dataframe\">\n",
              "  <thead>\n",
              "    <tr style=\"text-align: right;\">\n",
              "      <th></th>\n",
              "      <th>ALUNOS_ABANDONO_POR_ANO</th>\n",
              "      <th>ENTRADA_ALUNO_POR_ANO</th>\n",
              "      <th>TAXA_ABANDONO_POR_ANO</th>\n",
              "    </tr>\n",
              "    <tr>\n",
              "      <th>ANO</th>\n",
              "      <th></th>\n",
              "      <th></th>\n",
              "      <th></th>\n",
              "    </tr>\n",
              "  </thead>\n",
              "  <tbody>\n",
              "    <tr>\n",
              "      <th>1995</th>\n",
              "      <td>21</td>\n",
              "      <td>60</td>\n",
              "      <td>35.00</td>\n",
              "    </tr>\n",
              "    <tr>\n",
              "      <th>1996</th>\n",
              "      <td>13</td>\n",
              "      <td>49</td>\n",
              "      <td>26.53</td>\n",
              "    </tr>\n",
              "    <tr>\n",
              "      <th>1997</th>\n",
              "      <td>10</td>\n",
              "      <td>42</td>\n",
              "      <td>23.81</td>\n",
              "    </tr>\n",
              "    <tr>\n",
              "      <th>1998</th>\n",
              "      <td>10</td>\n",
              "      <td>43</td>\n",
              "      <td>23.26</td>\n",
              "    </tr>\n",
              "    <tr>\n",
              "      <th>1999</th>\n",
              "      <td>14</td>\n",
              "      <td>45</td>\n",
              "      <td>31.11</td>\n",
              "    </tr>\n",
              "    <tr>\n",
              "      <th>2000</th>\n",
              "      <td>16</td>\n",
              "      <td>49</td>\n",
              "      <td>32.65</td>\n",
              "    </tr>\n",
              "    <tr>\n",
              "      <th>2001</th>\n",
              "      <td>18</td>\n",
              "      <td>48</td>\n",
              "      <td>37.50</td>\n",
              "    </tr>\n",
              "    <tr>\n",
              "      <th>2002</th>\n",
              "      <td>9</td>\n",
              "      <td>52</td>\n",
              "      <td>17.31</td>\n",
              "    </tr>\n",
              "    <tr>\n",
              "      <th>2003</th>\n",
              "      <td>11</td>\n",
              "      <td>58</td>\n",
              "      <td>18.97</td>\n",
              "    </tr>\n",
              "    <tr>\n",
              "      <th>2004</th>\n",
              "      <td>19</td>\n",
              "      <td>56</td>\n",
              "      <td>33.93</td>\n",
              "    </tr>\n",
              "    <tr>\n",
              "      <th>2005</th>\n",
              "      <td>16</td>\n",
              "      <td>66</td>\n",
              "      <td>24.24</td>\n",
              "    </tr>\n",
              "    <tr>\n",
              "      <th>2006</th>\n",
              "      <td>24</td>\n",
              "      <td>54</td>\n",
              "      <td>44.44</td>\n",
              "    </tr>\n",
              "    <tr>\n",
              "      <th>2007</th>\n",
              "      <td>16</td>\n",
              "      <td>50</td>\n",
              "      <td>32.00</td>\n",
              "    </tr>\n",
              "    <tr>\n",
              "      <th>2008</th>\n",
              "      <td>19</td>\n",
              "      <td>42</td>\n",
              "      <td>45.24</td>\n",
              "    </tr>\n",
              "    <tr>\n",
              "      <th>2009</th>\n",
              "      <td>22</td>\n",
              "      <td>67</td>\n",
              "      <td>32.84</td>\n",
              "    </tr>\n",
              "    <tr>\n",
              "      <th>2010</th>\n",
              "      <td>18</td>\n",
              "      <td>74</td>\n",
              "      <td>24.32</td>\n",
              "    </tr>\n",
              "    <tr>\n",
              "      <th>2011</th>\n",
              "      <td>31</td>\n",
              "      <td>78</td>\n",
              "      <td>39.74</td>\n",
              "    </tr>\n",
              "    <tr>\n",
              "      <th>2012</th>\n",
              "      <td>28</td>\n",
              "      <td>84</td>\n",
              "      <td>33.33</td>\n",
              "    </tr>\n",
              "    <tr>\n",
              "      <th>2013</th>\n",
              "      <td>25</td>\n",
              "      <td>71</td>\n",
              "      <td>35.21</td>\n",
              "    </tr>\n",
              "    <tr>\n",
              "      <th>2014</th>\n",
              "      <td>27</td>\n",
              "      <td>73</td>\n",
              "      <td>36.99</td>\n",
              "    </tr>\n",
              "    <tr>\n",
              "      <th>2015</th>\n",
              "      <td>32</td>\n",
              "      <td>67</td>\n",
              "      <td>47.76</td>\n",
              "    </tr>\n",
              "    <tr>\n",
              "      <th>2016</th>\n",
              "      <td>25</td>\n",
              "      <td>68</td>\n",
              "      <td>36.76</td>\n",
              "    </tr>\n",
              "    <tr>\n",
              "      <th>2017</th>\n",
              "      <td>33</td>\n",
              "      <td>78</td>\n",
              "      <td>42.31</td>\n",
              "    </tr>\n",
              "    <tr>\n",
              "      <th>2018</th>\n",
              "      <td>25</td>\n",
              "      <td>77</td>\n",
              "      <td>32.47</td>\n",
              "    </tr>\n",
              "  </tbody>\n",
              "</table>\n",
              "</div>"
            ],
            "text/plain": [
              "      ALUNOS_ABANDONO_POR_ANO  ENTRADA_ALUNO_POR_ANO  TAXA_ABANDONO_POR_ANO\n",
              "ANO                                                                        \n",
              "1995                       21                     60                  35.00\n",
              "1996                       13                     49                  26.53\n",
              "1997                       10                     42                  23.81\n",
              "1998                       10                     43                  23.26\n",
              "1999                       14                     45                  31.11\n",
              "2000                       16                     49                  32.65\n",
              "2001                       18                     48                  37.50\n",
              "2002                        9                     52                  17.31\n",
              "2003                       11                     58                  18.97\n",
              "2004                       19                     56                  33.93\n",
              "2005                       16                     66                  24.24\n",
              "2006                       24                     54                  44.44\n",
              "2007                       16                     50                  32.00\n",
              "2008                       19                     42                  45.24\n",
              "2009                       22                     67                  32.84\n",
              "2010                       18                     74                  24.32\n",
              "2011                       31                     78                  39.74\n",
              "2012                       28                     84                  33.33\n",
              "2013                       25                     71                  35.21\n",
              "2014                       27                     73                  36.99\n",
              "2015                       32                     67                  47.76\n",
              "2016                       25                     68                  36.76\n",
              "2017                       33                     78                  42.31\n",
              "2018                       25                     77                  32.47"
            ]
          },
          "metadata": {},
          "execution_count": 41
        }
      ]
    },
    {
      "cell_type": "code",
      "metadata": {
        "colab": {
          "base_uri": "https://localhost:8080/",
          "height": 475
        },
        "id": "nMpeq2KBF_mG",
        "outputId": "7462cc40-3cee-47c3-9915-ba01ccd66aeb"
      },
      "source": [
        "# Gráfico da Série Temporal da evolução da Taxa de Abandono do EST 1995-2018:\n",
        "%matplotlib inline\n",
        "\n",
        "plt.figure(figsize=(12, 7))\n",
        "db_evasao_anos[\"TAXA_ABANDONO_POR_ANO\"].plot(color = \"skyblue\")\n",
        "plt.xlabel(\"Ano\")\n",
        "plt.ylabel(\"Porcentagem\")\n",
        "plt.title(\"Evolução da Taxa de Abandono do EST (1995-2018)\")\n",
        "plt.xticks(rotation = 0)\n",
        "plt.savefig('grafico_5.png')\n",
        "plt.show()\n",
        "plt.clf()"
      ],
      "execution_count": 84,
      "outputs": [
        {
          "output_type": "display_data",
          "data": {
            "image/png": "[encoded data removed]",
            "text/plain": [
              "<Figure size 864x504 with 1 Axes>"
            ]
          },
          "metadata": {
            "needs_background": "light"
          }
        },
        {
          "output_type": "display_data",
          "data": {
            "text/plain": [
              "<Figure size 432x288 with 0 Axes>"
            ]
          },
          "metadata": {}
        }
      ]
    },
    {
      "cell_type": "markdown",
      "metadata": {
        "id": "tSK78c0eJiqg"
      },
      "source": [
        "### 5.Como as notas em PE mudaram depois que houve a unificação da disciplina? \n",
        "\n",
        "Variáveis de interesse: período, menção, professor. \n",
        "\n",
        "Método: fazer gráficos de colunas para comparar as proporções das menções (antes e depois da unificação). Fazer gráficos de barras superpostas para comparar as menções entre professores (antes e depois da unificação). \n",
        "\n",
        "Obs.: Criar variável do ano a partir do período. "
      ]
    },
    {
      "cell_type": "code",
      "metadata": {
        "colab": {
          "base_uri": "https://localhost:8080/"
        },
        "id": "3yRNynLOuJHu",
        "outputId": "cba8fa4c-2a0a-44e2-d308-d0d2de2cedc1"
      },
      "source": [
        "# Filtrando para menções relevantes\n",
        "db_mencoes = db[~db.MENCAO.isin([\"AP\", \"CC\", \"DP\", \"NAN\", \"TJ\", \"TR\"])]\n",
        "\n",
        "# Ordenando menções\n",
        "db_mencoes[\"MENCAO\"] = db_mencoes[\"MENCAO\"].astype(\"category\")\n",
        "db_mencoes['MENCAO'] = db_mencoes['MENCAO'].cat.reorder_categories(['SR', 'II', 'MI', 'MM', 'MS', 'SS'], ordered=True)"
      ],
      "execution_count": 43,
      "outputs": [
        {
          "output_type": "stream",
          "name": "stderr",
          "text": [
            "/usr/local/lib/python3.7/dist-packages/ipykernel_launcher.py:5: SettingWithCopyWarning: \n",
            "A value is trying to be set on a copy of a slice from a DataFrame.\n",
            "Try using .loc[row_indexer,col_indexer] = value instead\n",
            "\n",
            "See the caveats in the documentation: https://pandas.pydata.org/pandas-docs/stable/user_guide/indexing.html#returning-a-view-versus-a-copy\n",
            "  \"\"\"\n",
            "/usr/local/lib/python3.7/dist-packages/ipykernel_launcher.py:6: SettingWithCopyWarning: \n",
            "A value is trying to be set on a copy of a slice from a DataFrame.\n",
            "Try using .loc[row_indexer,col_indexer] = value instead\n",
            "\n",
            "See the caveats in the documentation: https://pandas.pydata.org/pandas-docs/stable/user_guide/indexing.html#returning-a-view-versus-a-copy\n",
            "  \n"
          ]
        }
      ]
    },
    {
      "cell_type": "code",
      "metadata": {
        "colab": {
          "base_uri": "https://localhost:8080/"
        },
        "id": "y2ZXQlECvzFW",
        "outputId": "8e2f35d8-1e36-4971-a1fb-b2aaf745a974"
      },
      "source": [
        "# Criando variável ano\n",
        "db_mencoes[\"ANO\"] = db_mencoes[\"SEMESTRE\"]\n",
        "db_mencoes[\"ANO\"] = db_mencoes[\"ANO\"].astype(\"object\")\n",
        "anos = []\n",
        "for linha in db_mencoes[\"ANO\"]:\n",
        "  anos.append(linha[0:4])\n",
        "db_mencoes[\"ANO\"] = anos\n",
        "db_mencoes[\"ANO\"] = db_mencoes[\"ANO\"].astype(\"int64\")"
      ],
      "execution_count": 44,
      "outputs": [
        {
          "output_type": "stream",
          "name": "stderr",
          "text": [
            "/usr/local/lib/python3.7/dist-packages/ipykernel_launcher.py:2: SettingWithCopyWarning: \n",
            "A value is trying to be set on a copy of a slice from a DataFrame.\n",
            "Try using .loc[row_indexer,col_indexer] = value instead\n",
            "\n",
            "See the caveats in the documentation: https://pandas.pydata.org/pandas-docs/stable/user_guide/indexing.html#returning-a-view-versus-a-copy\n",
            "  \n",
            "/usr/local/lib/python3.7/dist-packages/ipykernel_launcher.py:3: SettingWithCopyWarning: \n",
            "A value is trying to be set on a copy of a slice from a DataFrame.\n",
            "Try using .loc[row_indexer,col_indexer] = value instead\n",
            "\n",
            "See the caveats in the documentation: https://pandas.pydata.org/pandas-docs/stable/user_guide/indexing.html#returning-a-view-versus-a-copy\n",
            "  This is separate from the ipykernel package so we can avoid doing imports until\n",
            "/usr/local/lib/python3.7/dist-packages/ipykernel_launcher.py:7: SettingWithCopyWarning: \n",
            "A value is trying to be set on a copy of a slice from a DataFrame.\n",
            "Try using .loc[row_indexer,col_indexer] = value instead\n",
            "\n",
            "See the caveats in the documentation: https://pandas.pydata.org/pandas-docs/stable/user_guide/indexing.html#returning-a-view-versus-a-copy\n",
            "  import sys\n",
            "/usr/local/lib/python3.7/dist-packages/ipykernel_launcher.py:8: SettingWithCopyWarning: \n",
            "A value is trying to be set on a copy of a slice from a DataFrame.\n",
            "Try using .loc[row_indexer,col_indexer] = value instead\n",
            "\n",
            "See the caveats in the documentation: https://pandas.pydata.org/pandas-docs/stable/user_guide/indexing.html#returning-a-view-versus-a-copy\n",
            "  \n"
          ]
        }
      ]
    },
    {
      "cell_type": "code",
      "metadata": {
        "colab": {
          "base_uri": "https://localhost:8080/"
        },
        "id": "qGywFMGFtZPb",
        "outputId": "8862c9db-a498-42bb-b858-5da66d7cbe50"
      },
      "source": [
        "# Menções de PE antes da unificação\n",
        "db_mencoes[(db_mencoes[\"ANO\"]<2018) & (db_mencoes[\"DISCIPLINA\"]==\"PROBABILIDADE E ESTATISTICA\")].MENCAO.value_counts()/sum(db_mencoes[(db_mencoes[\"ANO\"]<2018) & (db_mencoes[\"DISCIPLINA\"]==\"PROBABILIDADE E ESTATISTICA\")].MENCAO.value_counts())"
      ],
      "execution_count": 45,
      "outputs": [
        {
          "output_type": "execute_result",
          "data": {
            "text/plain": [
              "MM    0.427904\n",
              "MS    0.219533\n",
              "SR    0.104034\n",
              "SS    0.090810\n",
              "MI    0.087231\n",
              "II    0.070488\n",
              "Name: MENCAO, dtype: float64"
            ]
          },
          "metadata": {},
          "execution_count": 45
        }
      ]
    },
    {
      "cell_type": "code",
      "metadata": {
        "colab": {
          "base_uri": "https://localhost:8080/"
        },
        "id": "VIWJdheKtzq6",
        "outputId": "9ba58a2f-03c8-43ea-d08a-562287a8826a"
      },
      "source": [
        "# Menções de PE depois da unificação\n",
        "db_mencoes[(db_mencoes[\"ANO\"]>=2018) & (db_mencoes[\"DISCIPLINA\"]==\"PROBABILIDADE E ESTATISTICA\")].MENCAO.value_counts()/sum(db_mencoes[(db_mencoes[\"ANO\"]>=2018) & (db_mencoes[\"DISCIPLINA\"]==\"PROBABILIDADE E ESTATISTICA\")].MENCAO.value_counts())"
      ],
      "execution_count": 46,
      "outputs": [
        {
          "output_type": "execute_result",
          "data": {
            "text/plain": [
              "MM    0.415898\n",
              "MS    0.248048\n",
              "MI    0.099716\n",
              "SR    0.090135\n",
              "SS    0.080554\n",
              "II    0.065649\n",
              "Name: MENCAO, dtype: float64"
            ]
          },
          "metadata": {},
          "execution_count": 46
        }
      ]
    },
    {
      "cell_type": "code",
      "metadata": {
        "colab": {
          "base_uri": "https://localhost:8080/",
          "height": 475
        },
        "id": "mPOPlsX2vH0e",
        "outputId": "a53c70ec-86b7-45ba-a0f7-792da0276fff"
      },
      "source": [
        "# Gráfico de colunas\n",
        "sns.set_palette(sns.color_palette(\"Set2\"))\n",
        "antes = (10.4034, 7.0488, 8.7231, 42.7904, 21.9533, 9.0810)\n",
        "depois = (9.0135, 6.5649, 9.9716, 41.5898, 24.8048, 8.0554)\n",
        "plt.figure(figsize=(12, 7))    \n",
        "plt.bar(np.arange(6), antes , 0.3, label='Antes')\n",
        "plt.bar(np.arange(6) + 0.3, depois, 0.3, label='Depois')\n",
        "plt.xticks(np.arange(6) + 0.3 / 2, ('SR', 'II', 'MI', 'MM', 'MS', 'SS'))\n",
        "plt.legend(loc='best')\n",
        "plt.xlabel(\"Menção\")\n",
        "plt.ylabel(\"%\")\n",
        "plt.title(\"Menções de PE Antes e Depois da Unificação\")\n",
        "plt.savefig('grafico_6.png')\n",
        "plt.show()\n",
        "plt.clf()"
      ],
      "execution_count": 88,
      "outputs": [
        {
          "output_type": "display_data",
          "data": {
            "image/png": "[encoded data removed]",
            "text/plain": [
              "<Figure size 864x504 with 1 Axes>"
            ]
          },
          "metadata": {
            "needs_background": "light"
          }
        },
        {
          "output_type": "display_data",
          "data": {
            "text/plain": [
              "<Figure size 432x288 with 0 Axes>"
            ]
          },
          "metadata": {}
        }
      ]
    },
    {
      "cell_type": "code",
      "metadata": {
        "id": "2MWNf2iVIvc2"
      },
      "source": [
        "#Preparação para o gráfico de barras superpostas (antes)\n",
        "lista_professores = db_mencoes[(db_mencoes[\"ANO\"]<2018) & (db_mencoes[\"DISCIPLINA\"]==\"PROBABILIDADE E ESTATISTICA\")].PROFESSOR.unique()\n",
        "\n",
        "#SR\n",
        "lista_SR = []\n",
        "for professor in lista_professores:\n",
        "  lista_SR.append(len(db_mencoes[(db_mencoes[\"ANO\"]<2018) & (db_mencoes[\"DISCIPLINA\"]==\"PROBABILIDADE E ESTATISTICA\") & (db_mencoes[\"PROFESSOR\"]==professor) & (db_mencoes[\"MENCAO\"]==\"SR\")])/len(db_mencoes[(db_mencoes[\"ANO\"]<2018) & (db_mencoes[\"DISCIPLINA\"]==\"PROBABILIDADE E ESTATISTICA\") & (db_mencoes[\"PROFESSOR\"]==professor)]))\n",
        "\n",
        "#II\n",
        "lista_II = []\n",
        "for professor in lista_professores:\n",
        "  lista_II.append(len(db_mencoes[(db_mencoes[\"ANO\"]<2018) & (db_mencoes[\"DISCIPLINA\"]==\"PROBABILIDADE E ESTATISTICA\") & (db_mencoes[\"PROFESSOR\"]==professor) & (db_mencoes[\"MENCAO\"]==\"II\")])/len(db_mencoes[(db_mencoes[\"ANO\"]<2018) & (db_mencoes[\"DISCIPLINA\"]==\"PROBABILIDADE E ESTATISTICA\") & (db_mencoes[\"PROFESSOR\"]==professor)]))\n",
        "\n",
        "#MI\n",
        "lista_MI = []\n",
        "for professor in lista_professores:\n",
        "  lista_MI.append(len(db_mencoes[(db_mencoes[\"ANO\"]<2018) & (db_mencoes[\"DISCIPLINA\"]==\"PROBABILIDADE E ESTATISTICA\") & (db_mencoes[\"PROFESSOR\"]==professor) & (db_mencoes[\"MENCAO\"]==\"MI\")])/len(db_mencoes[(db_mencoes[\"ANO\"]<2018) & (db_mencoes[\"DISCIPLINA\"]==\"PROBABILIDADE E ESTATISTICA\") & (db_mencoes[\"PROFESSOR\"]==professor)]))\n",
        "\n",
        "#MM\n",
        "lista_MM = []\n",
        "for professor in lista_professores:\n",
        "  lista_MM.append(len(db_mencoes[(db_mencoes[\"ANO\"]<2018) & (db_mencoes[\"DISCIPLINA\"]==\"PROBABILIDADE E ESTATISTICA\") & (db_mencoes[\"PROFESSOR\"]==professor) & (db_mencoes[\"MENCAO\"]==\"MM\")])/len(db_mencoes[(db_mencoes[\"ANO\"]<2018) & (db_mencoes[\"DISCIPLINA\"]==\"PROBABILIDADE E ESTATISTICA\") & (db_mencoes[\"PROFESSOR\"]==professor)]))\n",
        "\n",
        "#MS\n",
        "lista_MS = []\n",
        "for professor in lista_professores:\n",
        "  lista_MS.append(len(db_mencoes[(db_mencoes[\"ANO\"]<2018) & (db_mencoes[\"DISCIPLINA\"]==\"PROBABILIDADE E ESTATISTICA\") & (db_mencoes[\"PROFESSOR\"]==professor) & (db_mencoes[\"MENCAO\"]==\"MS\")])/len(db_mencoes[(db_mencoes[\"ANO\"]<2018) & (db_mencoes[\"DISCIPLINA\"]==\"PROBABILIDADE E ESTATISTICA\") & (db_mencoes[\"PROFESSOR\"]==professor)]))\n",
        "\n",
        "#SS\n",
        "lista_SS = []\n",
        "for professor in lista_professores:\n",
        "  lista_SS.append(len(db_mencoes[(db_mencoes[\"ANO\"]<2018) & (db_mencoes[\"DISCIPLINA\"]==\"PROBABILIDADE E ESTATISTICA\") & (db_mencoes[\"PROFESSOR\"]==professor) & (db_mencoes[\"MENCAO\"]==\"SS\")])/len(db_mencoes[(db_mencoes[\"ANO\"]<2018) & (db_mencoes[\"DISCIPLINA\"]==\"PROBABILIDADE E ESTATISTICA\") & (db_mencoes[\"PROFESSOR\"]==professor)]))"
      ],
      "execution_count": 48,
      "outputs": []
    },
    {
      "cell_type": "code",
      "metadata": {
        "id": "rSoahnOSOq9a"
      },
      "source": [
        "#Ordenando por maior proporção de SS\n",
        "df = {\"Professor\" : lista_professores, \"SR\" : lista_SR, \"II\" : lista_II, \"MI\" : lista_MI, \"MM\" : lista_MM, \"MS\" : lista_MS, \"SS\" : lista_SS}\n",
        "df = pd.DataFrame(df)\n",
        "df = df.sort_values('SS')\n",
        "lista_professores = df.Professor\n",
        "lista_SS = df.SS\n",
        "lista_MS = df.MS\n",
        "lista_MM = df.MM\n",
        "lista_MI = df.MI\n",
        "lista_II = df.II\n",
        "lista_SR = df.SR"
      ],
      "execution_count": 49,
      "outputs": []
    },
    {
      "cell_type": "code",
      "metadata": {
        "colab": {
          "base_uri": "https://localhost:8080/",
          "height": 638
        },
        "id": "vz19mr1LIW43",
        "outputId": "e72028e3-9ff5-47e5-b143-c7a1271300a2"
      },
      "source": [
        "#Gráfico das menções de PE por professor (antes da unificação)\n",
        "plt.figure(figsize=(12,10))\n",
        "plt.barh(lista_professores, lista_SR, color=\"maroon\", label=\"SR\")\n",
        "plt.barh(lista_professores, lista_II, color=\"firebrick\", left=lista_SR, label=\"II\")\n",
        "plt.barh(lista_professores, lista_MI, color=\"indianred\", left=[sum(data) for data in zip(lista_II, lista_SR)], label=\"MI\")\n",
        "plt.barh(lista_professores, lista_MM, color=\"limegreen\", left=[sum(data) for data in zip(lista_MI, lista_II, lista_SR)], label=\"MM\")\n",
        "plt.barh(lista_professores, lista_MS, color=\"forestgreen\", left=[sum(data) for data in zip(lista_MM, lista_MI, lista_II, lista_SR)], label=\"MS\")\n",
        "plt.barh(lista_professores, lista_SS, color=\"darkgreen\", left=[sum(data) for data in zip(lista_MS, lista_MM, lista_MI, lista_II, lista_SR)], label=\"SS\")\n",
        "plt.yticks([])\n",
        "plt.xlabel(\"Proporção das Menções\")\n",
        "plt.ylabel(\"Professores\")\n",
        "plt.title(\"Menções de PE por Professor Antes da Unificação\")\n",
        "plt.legend(loc=\"best\",bbox_to_anchor=(1.0,1.0))\n",
        "plt.savefig('grafico_7.png')\n",
        "plt.show()\n",
        "plt.clf()"
      ],
      "execution_count": 85,
      "outputs": [
        {
          "output_type": "display_data",
          "data": {
            "image/png": "[encoded data removed]",
            "text/plain": [
              "<Figure size 864x720 with 1 Axes>"
            ]
          },
          "metadata": {
            "needs_background": "light"
          }
        },
        {
          "output_type": "display_data",
          "data": {
            "text/plain": [
              "<Figure size 432x288 with 0 Axes>"
            ]
          },
          "metadata": {}
        }
      ]
    },
    {
      "cell_type": "code",
      "metadata": {
        "id": "8kxKCqGx-aGa"
      },
      "source": [
        "#Preparação para o gráfico de barras superpostas (depois)\n",
        "lista_professores1 = db_mencoes[(db_mencoes[\"ANO\"]>=2018) & (db_mencoes[\"DISCIPLINA\"]==\"PROBABILIDADE E ESTATISTICA\")].PROFESSOR.unique()\n",
        "\n",
        "#SR\n",
        "lista_SR1 = []\n",
        "for professor in lista_professores1:\n",
        "  lista_SR1.append(len(db_mencoes[(db_mencoes[\"ANO\"]>=2018) & (db_mencoes[\"DISCIPLINA\"]==\"PROBABILIDADE E ESTATISTICA\") & (db_mencoes[\"PROFESSOR\"]==professor) & (db_mencoes[\"MENCAO\"]==\"SR\")])/len(db_mencoes[(db_mencoes[\"ANO\"]>=2018) & (db_mencoes[\"DISCIPLINA\"]==\"PROBABILIDADE E ESTATISTICA\") & (db_mencoes[\"PROFESSOR\"]==professor)]))\n",
        "\n",
        "#II\n",
        "lista_II1 = []\n",
        "for professor in lista_professores1:\n",
        "  lista_II1.append(len(db_mencoes[(db_mencoes[\"ANO\"]>=2018) & (db_mencoes[\"DISCIPLINA\"]==\"PROBABILIDADE E ESTATISTICA\") & (db_mencoes[\"PROFESSOR\"]==professor) & (db_mencoes[\"MENCAO\"]==\"II\")])/len(db_mencoes[(db_mencoes[\"ANO\"]>=2018) & (db_mencoes[\"DISCIPLINA\"]==\"PROBABILIDADE E ESTATISTICA\") & (db_mencoes[\"PROFESSOR\"]==professor)]))\n",
        "\n",
        "#MI\n",
        "lista_MI1 = []\n",
        "for professor in lista_professores1:\n",
        "  lista_MI1.append(len(db_mencoes[(db_mencoes[\"ANO\"]>=2018) & (db_mencoes[\"DISCIPLINA\"]==\"PROBABILIDADE E ESTATISTICA\") & (db_mencoes[\"PROFESSOR\"]==professor) & (db_mencoes[\"MENCAO\"]==\"MI\")])/len(db_mencoes[(db_mencoes[\"ANO\"]>=2018) & (db_mencoes[\"DISCIPLINA\"]==\"PROBABILIDADE E ESTATISTICA\") & (db_mencoes[\"PROFESSOR\"]==professor)]))\n",
        "\n",
        "#MM\n",
        "lista_MM1 = []\n",
        "for professor in lista_professores1:\n",
        "  lista_MM1.append(len(db_mencoes[(db_mencoes[\"ANO\"]>=2018) & (db_mencoes[\"DISCIPLINA\"]==\"PROBABILIDADE E ESTATISTICA\") & (db_mencoes[\"PROFESSOR\"]==professor) & (db_mencoes[\"MENCAO\"]==\"MM\")])/len(db_mencoes[(db_mencoes[\"ANO\"]>=2018) & (db_mencoes[\"DISCIPLINA\"]==\"PROBABILIDADE E ESTATISTICA\") & (db_mencoes[\"PROFESSOR\"]==professor)]))\n",
        "\n",
        "#MS\n",
        "lista_MS1 = []\n",
        "for professor in lista_professores1:\n",
        "  lista_MS1.append(len(db_mencoes[(db_mencoes[\"ANO\"]>=2018) & (db_mencoes[\"DISCIPLINA\"]==\"PROBABILIDADE E ESTATISTICA\") & (db_mencoes[\"PROFESSOR\"]==professor) & (db_mencoes[\"MENCAO\"]==\"MS\")])/len(db_mencoes[(db_mencoes[\"ANO\"]>=2018) & (db_mencoes[\"DISCIPLINA\"]==\"PROBABILIDADE E ESTATISTICA\") & (db_mencoes[\"PROFESSOR\"]==professor)]))\n",
        "\n",
        "#SS\n",
        "lista_SS1 = []\n",
        "for professor in lista_professores1:\n",
        "  lista_SS1.append(len(db_mencoes[(db_mencoes[\"ANO\"]>=2018) & (db_mencoes[\"DISCIPLINA\"]==\"PROBABILIDADE E ESTATISTICA\") & (db_mencoes[\"PROFESSOR\"]==professor) & (db_mencoes[\"MENCAO\"]==\"SS\")])/len(db_mencoes[(db_mencoes[\"ANO\"]>=2018) & (db_mencoes[\"DISCIPLINA\"]==\"PROBABILIDADE E ESTATISTICA\") & (db_mencoes[\"PROFESSOR\"]==professor)]))"
      ],
      "execution_count": 51,
      "outputs": []
    },
    {
      "cell_type": "code",
      "metadata": {
        "id": "fpeOWzopoqTC"
      },
      "source": [
        "#Ordenando por maior proporção de SS\n",
        "df1 = {\"Professor\" : lista_professores1, \"SR\" : lista_SR1, \"II\" : lista_II1, \"MI\" : lista_MI1, \"MM\" : lista_MM1, \"MS\" : lista_MS1, \"SS\" : lista_SS1}\n",
        "df1 = pd.DataFrame(df1)\n",
        "df1 = df1.sort_values('SS')\n",
        "lista_professores1 = df1.Professor\n",
        "lista_SS1 = df1.SS\n",
        "lista_MS1 = df1.MS\n",
        "lista_MM1 = df1.MM\n",
        "lista_MI1 = df1.MI\n",
        "lista_II1 = df1.II\n",
        "lista_SR1 = df1.SR"
      ],
      "execution_count": 52,
      "outputs": []
    },
    {
      "cell_type": "code",
      "metadata": {
        "colab": {
          "base_uri": "https://localhost:8080/",
          "height": 638
        },
        "id": "WEKCNoky-u8a",
        "outputId": "9cbf270d-49a6-41f1-ad2d-44c792ad38d5"
      },
      "source": [
        "#Gráfico das menções de PE por professor (depois da unificação)\n",
        "plt.figure(figsize=(12,10))\n",
        "plt.barh(lista_professores1, lista_SR1, color=\"maroon\", label=\"SR\")\n",
        "plt.barh(lista_professores1, lista_II1, color=\"firebrick\", left=lista_SR1, label=\"II\")\n",
        "plt.barh(lista_professores1, lista_MI1, color=\"indianred\", left=[sum(data) for data in zip(lista_II1, lista_SR1)], label=\"MI\")\n",
        "plt.barh(lista_professores1, lista_MM1, color=\"limegreen\", left=[sum(data) for data in zip(lista_MI1, lista_II1, lista_SR1)], label=\"MM\")\n",
        "plt.barh(lista_professores1, lista_MS1, color=\"forestgreen\", left=[sum(data) for data in zip(lista_MM1, lista_MI1, lista_II1, lista_SR1)], label=\"MS\")\n",
        "plt.barh(lista_professores1, lista_SS1, color=\"darkgreen\", left=[sum(data) for data in zip(lista_MS1, lista_MM1, lista_MI1, lista_II1, lista_SR1)], label=\"SS\")\n",
        "plt.yticks([])\n",
        "plt.xlabel(\"Proporção das Menções\")\n",
        "plt.ylabel(\"Professores\")\n",
        "plt.title(\"Menções de PE por Professor Depois da Unificação\")\n",
        "plt.legend(loc=\"best\",bbox_to_anchor=(1.0,1.0))\n",
        "plt.savefig('grafico_8.png')\n",
        "plt.show()\n",
        "plt.clf()"
      ],
      "execution_count": 86,
      "outputs": [
        {
          "output_type": "display_data",
          "data": {
            "image/png": "[encoded data removed]",
            "text/plain": [
              "<Figure size 864x720 with 1 Axes>"
            ]
          },
          "metadata": {
            "needs_background": "light"
          }
        },
        {
          "output_type": "display_data",
          "data": {
            "text/plain": [
              "<Figure size 432x288 with 0 Axes>"
            ]
          },
          "metadata": {}
        }
      ]
    },
    {
      "cell_type": "markdown",
      "metadata": {
        "id": "XAQWTZFeJi1n"
      },
      "source": [
        "### 6.O professor influencia significativamente no rendimento dos alunos? \n",
        "\n",
        "Variáveis de interesse: menção, disciplina, professor. \n",
        "\n",
        "Método: comparar professores dentro de cada disciplina usando barras superpostas das menções dos alunos com cada professor (um gráfico para cada disciplina de interesse)."
      ]
    },
    {
      "cell_type": "code",
      "metadata": {
        "id": "gsMKWv9WDobY"
      },
      "source": [
        "#Preparação para o gráfico de barras superpostas (CP1)\n",
        "lista_professores2 = db_mencoes[(db_mencoes[\"DISCIPLINA\"]==\"CALCULO DE PROBABILIDADE 1\")].PROFESSOR.unique()\n",
        "\n",
        "#SR\n",
        "lista_SR2 = []\n",
        "for professor in lista_professores2:\n",
        "  lista_SR2.append(len(db_mencoes[(db_mencoes[\"DISCIPLINA\"]==\"CALCULO DE PROBABILIDADE 1\") & (db_mencoes[\"PROFESSOR\"]==professor) & (db_mencoes[\"MENCAO\"]==\"SR\")])/len(db_mencoes[(db_mencoes[\"DISCIPLINA\"]==\"CALCULO DE PROBABILIDADE 1\") & (db_mencoes[\"PROFESSOR\"]==professor)]))\n",
        "\n",
        "#II\n",
        "lista_II2 = []\n",
        "for professor in lista_professores2:\n",
        "  lista_II2.append(len(db_mencoes[(db_mencoes[\"DISCIPLINA\"]==\"CALCULO DE PROBABILIDADE 1\") & (db_mencoes[\"PROFESSOR\"]==professor) & (db_mencoes[\"MENCAO\"]==\"II\")])/len(db_mencoes[(db_mencoes[\"DISCIPLINA\"]==\"CALCULO DE PROBABILIDADE 1\") & (db_mencoes[\"PROFESSOR\"]==professor)]))\n",
        "\n",
        "#MI\n",
        "lista_MI2 = []\n",
        "for professor in lista_professores2:\n",
        "  lista_MI2.append(len(db_mencoes[(db_mencoes[\"DISCIPLINA\"]==\"CALCULO DE PROBABILIDADE 1\") & (db_mencoes[\"PROFESSOR\"]==professor) & (db_mencoes[\"MENCAO\"]==\"MI\")])/len(db_mencoes[(db_mencoes[\"DISCIPLINA\"]==\"CALCULO DE PROBABILIDADE 1\") & (db_mencoes[\"PROFESSOR\"]==professor)]))\n",
        "\n",
        "#MM\n",
        "lista_MM2 = []\n",
        "for professor in lista_professores2:\n",
        "  lista_MM2.append(len(db_mencoes[(db_mencoes[\"DISCIPLINA\"]==\"CALCULO DE PROBABILIDADE 1\") & (db_mencoes[\"PROFESSOR\"]==professor) & (db_mencoes[\"MENCAO\"]==\"MM\")])/len(db_mencoes[(db_mencoes[\"DISCIPLINA\"]==\"CALCULO DE PROBABILIDADE 1\") & (db_mencoes[\"PROFESSOR\"]==professor)]))\n",
        "\n",
        "#MS\n",
        "lista_MS2 = []\n",
        "for professor in lista_professores2:\n",
        "  lista_MS2.append(len(db_mencoes[(db_mencoes[\"DISCIPLINA\"]==\"CALCULO DE PROBABILIDADE 1\") & (db_mencoes[\"PROFESSOR\"]==professor) & (db_mencoes[\"MENCAO\"]==\"MS\")])/len(db_mencoes[(db_mencoes[\"DISCIPLINA\"]==\"CALCULO DE PROBABILIDADE 1\") & (db_mencoes[\"PROFESSOR\"]==professor)]))\n",
        "\n",
        "#SS\n",
        "lista_SS2 = []\n",
        "for professor in lista_professores2:\n",
        "  lista_SS2.append(len(db_mencoes[(db_mencoes[\"DISCIPLINA\"]==\"CALCULO DE PROBABILIDADE 1\") & (db_mencoes[\"PROFESSOR\"]==professor) & (db_mencoes[\"MENCAO\"]==\"SS\")])/len(db_mencoes[(db_mencoes[\"DISCIPLINA\"]==\"CALCULO DE PROBABILIDADE 1\") & (db_mencoes[\"PROFESSOR\"]==professor)]))"
      ],
      "execution_count": 54,
      "outputs": []
    },
    {
      "cell_type": "code",
      "metadata": {
        "id": "2mFt9bQdxHKa"
      },
      "source": [
        "#Ordenando por maior proporção de SS\n",
        "df2 = {\"Professor\" : lista_professores2, \"SR\" : lista_SR2, \"II\" : lista_II2, \"MI\" : lista_MI2, \"MM\" : lista_MM2, \"MS\" : lista_MS2, \"SS\" : lista_SS2}\n",
        "df2 = pd.DataFrame(df2)\n",
        "df2 = df2.sort_values('SS')\n",
        "lista_professores2 = df2.Professor\n",
        "lista_SS2 = df2.SS\n",
        "lista_MS2 = df2.MS\n",
        "lista_MM2 = df2.MM\n",
        "lista_MI2 = df2.MI\n",
        "lista_II2 = df2.II\n",
        "lista_SR2 = df2.SR"
      ],
      "execution_count": 55,
      "outputs": []
    },
    {
      "cell_type": "code",
      "metadata": {
        "colab": {
          "base_uri": "https://localhost:8080/",
          "height": 638
        },
        "id": "65ebG2z0F-ZQ",
        "outputId": "076f2b5d-8ca9-4b09-81e9-023b128ed400"
      },
      "source": [
        "#Gráfico das menções de CP1 por professor\n",
        "plt.figure(figsize=(12,10))\n",
        "plt.barh(lista_professores2, lista_SR2, color=\"maroon\", label=\"SR\")\n",
        "plt.barh(lista_professores2, lista_II2, color=\"firebrick\", left=lista_SR2, label=\"II\")\n",
        "plt.barh(lista_professores2, lista_MI2, color=\"indianred\", left=[sum(data) for data in zip(lista_II2, lista_SR2)], label=\"MI\")\n",
        "plt.barh(lista_professores2, lista_MM2, color=\"limegreen\", left=[sum(data) for data in zip(lista_MI2, lista_II2, lista_SR2)], label=\"MM\")\n",
        "plt.barh(lista_professores2, lista_MS2, color=\"forestgreen\", left=[sum(data) for data in zip(lista_MM2, lista_MI2, lista_II2, lista_SR2)], label=\"MS\")\n",
        "plt.barh(lista_professores2, lista_SS2, color=\"darkgreen\", left=[sum(data) for data in zip(lista_MS2, lista_MM2, lista_MI2, lista_II2, lista_SR2)], label=\"SS\")\n",
        "plt.yticks([])\n",
        "plt.xlabel(\"Proporção das Menções\")\n",
        "plt.ylabel(\"Professores\")\n",
        "plt.title(\"Menções de CP1 por Professor\")\n",
        "plt.legend(loc=\"best\",bbox_to_anchor=(1.0,1.0))\n",
        "plt.savefig('grafico_9.png')\n",
        "plt.show()\n",
        "plt.clf()"
      ],
      "execution_count": 87,
      "outputs": [
        {
          "output_type": "display_data",
          "data": {
            "image/png": "[encoded data removed]",
            "text/plain": [
              "<Figure size 864x720 with 1 Axes>"
            ]
          },
          "metadata": {
            "needs_background": "light"
          }
        },
        {
          "output_type": "display_data",
          "data": {
            "text/plain": [
              "<Figure size 432x288 with 0 Axes>"
            ]
          },
          "metadata": {}
        }
      ]
    },
    {
      "cell_type": "code",
      "metadata": {
        "id": "dlsFUS8kHiEa"
      },
      "source": [
        "#Preparação para o gráfico de barras superpostas (CP2)\n",
        "lista_professores3 = db_mencoes[(db_mencoes[\"DISCIPLINA\"]==\"CALCULO DE PROBABILIDADE 2\")].PROFESSOR.unique()\n",
        "\n",
        "#SR\n",
        "lista_SR3 = []\n",
        "for professor in lista_professores3:\n",
        "  lista_SR3.append(len(db_mencoes[(db_mencoes[\"DISCIPLINA\"]==\"CALCULO DE PROBABILIDADE 2\") & (db_mencoes[\"PROFESSOR\"]==professor) & (db_mencoes[\"MENCAO\"]==\"SR\")])/len(db_mencoes[(db_mencoes[\"DISCIPLINA\"]==\"CALCULO DE PROBABILIDADE 2\") & (db_mencoes[\"PROFESSOR\"]==professor)]))\n",
        "\n",
        "#II\n",
        "lista_II3 = []\n",
        "for professor in lista_professores3:\n",
        "  lista_II3.append(len(db_mencoes[(db_mencoes[\"DISCIPLINA\"]==\"CALCULO DE PROBABILIDADE 2\") & (db_mencoes[\"PROFESSOR\"]==professor) & (db_mencoes[\"MENCAO\"]==\"II\")])/len(db_mencoes[(db_mencoes[\"DISCIPLINA\"]==\"CALCULO DE PROBABILIDADE 2\") & (db_mencoes[\"PROFESSOR\"]==professor)]))\n",
        "\n",
        "#MI\n",
        "lista_MI3 = []\n",
        "for professor in lista_professores3:\n",
        "  lista_MI3.append(len(db_mencoes[(db_mencoes[\"DISCIPLINA\"]==\"CALCULO DE PROBABILIDADE 2\") & (db_mencoes[\"PROFESSOR\"]==professor) & (db_mencoes[\"MENCAO\"]==\"MI\")])/len(db_mencoes[(db_mencoes[\"DISCIPLINA\"]==\"CALCULO DE PROBABILIDADE 2\") & (db_mencoes[\"PROFESSOR\"]==professor)]))\n",
        "\n",
        "#MM\n",
        "lista_MM3 = []\n",
        "for professor in lista_professores3:\n",
        "  lista_MM3.append(len(db_mencoes[(db_mencoes[\"DISCIPLINA\"]==\"CALCULO DE PROBABILIDADE 2\") & (db_mencoes[\"PROFESSOR\"]==professor) & (db_mencoes[\"MENCAO\"]==\"MM\")])/len(db_mencoes[(db_mencoes[\"DISCIPLINA\"]==\"CALCULO DE PROBABILIDADE 2\") & (db_mencoes[\"PROFESSOR\"]==professor)]))\n",
        "\n",
        "#MS\n",
        "lista_MS3 = []\n",
        "for professor in lista_professores3:\n",
        "  lista_MS3.append(len(db_mencoes[(db_mencoes[\"DISCIPLINA\"]==\"CALCULO DE PROBABILIDADE 2\") & (db_mencoes[\"PROFESSOR\"]==professor) & (db_mencoes[\"MENCAO\"]==\"MS\")])/len(db_mencoes[(db_mencoes[\"DISCIPLINA\"]==\"CALCULO DE PROBABILIDADE 2\") & (db_mencoes[\"PROFESSOR\"]==professor)]))\n",
        "\n",
        "#SS\n",
        "lista_SS3 = []\n",
        "for professor in lista_professores3:\n",
        "  lista_SS3.append(len(db_mencoes[(db_mencoes[\"DISCIPLINA\"]==\"CALCULO DE PROBABILIDADE 2\") & (db_mencoes[\"PROFESSOR\"]==professor) & (db_mencoes[\"MENCAO\"]==\"SS\")])/len(db_mencoes[(db_mencoes[\"DISCIPLINA\"]==\"CALCULO DE PROBABILIDADE 2\") & (db_mencoes[\"PROFESSOR\"]==professor)]))"
      ],
      "execution_count": 57,
      "outputs": []
    },
    {
      "cell_type": "code",
      "metadata": {
        "id": "_3sztlRs0EZu"
      },
      "source": [
        "#Ordenando por maior proporção de SS\n",
        "df3 = {\"Professor\" : lista_professores3, \"SR\" : lista_SR3, \"II\" : lista_II3, \"MI\" : lista_MI3, \"MM\" : lista_MM3, \"MS\" : lista_MS3, \"SS\" : lista_SS3}\n",
        "df3 = pd.DataFrame(df3)\n",
        "df3 = df3.sort_values('SS')\n",
        "lista_professores3 = df3.Professor\n",
        "lista_SS3 = df3.SS\n",
        "lista_MS3 = df3.MS\n",
        "lista_MM3 = df3.MM\n",
        "lista_MI3 = df3.MI\n",
        "lista_II3 = df3.II\n",
        "lista_SR3 = df3.SR"
      ],
      "execution_count": 58,
      "outputs": []
    },
    {
      "cell_type": "code",
      "metadata": {
        "colab": {
          "base_uri": "https://localhost:8080/",
          "height": 638
        },
        "id": "2HWGy-mZIuC4",
        "outputId": "c7e6ba8e-14d2-4562-fe88-ba46104c7392"
      },
      "source": [
        "#Gráfico das menções de CP2 por professor\n",
        "plt.figure(figsize=(12,10))\n",
        "plt.barh(lista_professores3, lista_SR3, color=\"maroon\", label=\"SR\")\n",
        "plt.barh(lista_professores3, lista_II3, color=\"firebrick\", left=lista_SR3, label=\"II\")\n",
        "plt.barh(lista_professores3, lista_MI3, color=\"indianred\", left=[sum(data) for data in zip(lista_II3, lista_SR3)], label=\"MI\")\n",
        "plt.barh(lista_professores3, lista_MM3, color=\"limegreen\", left=[sum(data) for data in zip(lista_MI3, lista_II3, lista_SR3)], label=\"MM\")\n",
        "plt.barh(lista_professores3, lista_MS3, color=\"forestgreen\", left=[sum(data) for data in zip(lista_MM3, lista_MI3, lista_II3, lista_SR3)], label=\"MS\")\n",
        "plt.barh(lista_professores3, lista_SS3, color=\"darkgreen\", left=[sum(data) for data in zip(lista_MS3, lista_MM3, lista_MI3, lista_II3, lista_SR3)], label=\"SS\")\n",
        "plt.yticks([])\n",
        "plt.xlabel(\"Proporção das Menções\")\n",
        "plt.ylabel(\"Professores\")\n",
        "plt.title(\"Menções de CP2 por Professor\")\n",
        "plt.legend(loc=\"best\",bbox_to_anchor=(1.0,1.0))\n",
        "plt.savefig('grafico_10.png')\n",
        "plt.show()\n",
        "plt.clf()"
      ],
      "execution_count": 89,
      "outputs": [
        {
          "output_type": "display_data",
          "data": {
            "image/png": "[encoded data removed]",
            "text/plain": [
              "<Figure size 864x720 with 1 Axes>"
            ]
          },
          "metadata": {
            "needs_background": "light"
          }
        },
        {
          "output_type": "display_data",
          "data": {
            "text/plain": [
              "<Figure size 432x288 with 0 Axes>"
            ]
          },
          "metadata": {}
        }
      ]
    },
    {
      "cell_type": "code",
      "metadata": {
        "id": "QRC729HA07Zx"
      },
      "source": [
        "#Preparação para o gráfico de barras superpostas (C1)\n",
        "lista_professores4 = db_mencoes[(db_mencoes[\"DISCIPLINA\"]==\"CALCULO 1\")].PROFESSOR.unique()\n",
        "\n",
        "#SR\n",
        "lista_SR4 = []\n",
        "for professor in lista_professores4:\n",
        "  lista_SR4.append(len(db_mencoes[(db_mencoes[\"DISCIPLINA\"]==\"CALCULO 1\") & (db_mencoes[\"PROFESSOR\"]==professor) & (db_mencoes[\"MENCAO\"]==\"SR\")])/len(db_mencoes[(db_mencoes[\"DISCIPLINA\"]==\"CALCULO 1\") & (db_mencoes[\"PROFESSOR\"]==professor)]))\n",
        "\n",
        "#II\n",
        "lista_II4 = []\n",
        "for professor in lista_professores4:\n",
        "  lista_II4.append(len(db_mencoes[(db_mencoes[\"DISCIPLINA\"]==\"CALCULO 1\") & (db_mencoes[\"PROFESSOR\"]==professor) & (db_mencoes[\"MENCAO\"]==\"II\")])/len(db_mencoes[(db_mencoes[\"DISCIPLINA\"]==\"CALCULO 1\") & (db_mencoes[\"PROFESSOR\"]==professor)]))\n",
        "\n",
        "#MI\n",
        "lista_MI4 = []\n",
        "for professor in lista_professores4:\n",
        "  lista_MI4.append(len(db_mencoes[(db_mencoes[\"DISCIPLINA\"]==\"CALCULO 1\") & (db_mencoes[\"PROFESSOR\"]==professor) & (db_mencoes[\"MENCAO\"]==\"MI\")])/len(db_mencoes[(db_mencoes[\"DISCIPLINA\"]==\"CALCULO 1\") & (db_mencoes[\"PROFESSOR\"]==professor)]))\n",
        "\n",
        "#MM\n",
        "lista_MM4 = []\n",
        "for professor in lista_professores4:\n",
        "  lista_MM4.append(len(db_mencoes[(db_mencoes[\"DISCIPLINA\"]==\"CALCULO 1\") & (db_mencoes[\"PROFESSOR\"]==professor) & (db_mencoes[\"MENCAO\"]==\"MM\")])/len(db_mencoes[(db_mencoes[\"DISCIPLINA\"]==\"CALCULO 1\") & (db_mencoes[\"PROFESSOR\"]==professor)]))\n",
        "\n",
        "#MS\n",
        "lista_MS4 = []\n",
        "for professor in lista_professores4:\n",
        "  lista_MS4.append(len(db_mencoes[(db_mencoes[\"DISCIPLINA\"]==\"CALCULO 1\") & (db_mencoes[\"PROFESSOR\"]==professor) & (db_mencoes[\"MENCAO\"]==\"MS\")])/len(db_mencoes[(db_mencoes[\"DISCIPLINA\"]==\"CALCULO 1\") & (db_mencoes[\"PROFESSOR\"]==professor)]))\n",
        "\n",
        "#SS\n",
        "lista_SS4 = []\n",
        "for professor in lista_professores4:\n",
        "  lista_SS4.append(len(db_mencoes[(db_mencoes[\"DISCIPLINA\"]==\"CALCULO 1\") & (db_mencoes[\"PROFESSOR\"]==professor) & (db_mencoes[\"MENCAO\"]==\"SS\")])/len(db_mencoes[(db_mencoes[\"DISCIPLINA\"]==\"CALCULO 1\") & (db_mencoes[\"PROFESSOR\"]==professor)]))"
      ],
      "execution_count": 60,
      "outputs": []
    },
    {
      "cell_type": "code",
      "metadata": {
        "id": "rFZB_XHL1Y1a"
      },
      "source": [
        "#Ordenando por maior proporção de SS\n",
        "df4 = {\"Professor\" : lista_professores4, \"SR\" : lista_SR4, \"II\" : lista_II4, \"MI\" : lista_MI4, \"MM\" : lista_MM4, \"MS\" : lista_MS4, \"SS\" : lista_SS4}\n",
        "df4 = pd.DataFrame(df4)\n",
        "df4 = df4.sort_values('SS')\n",
        "lista_professores4 = df4.Professor\n",
        "lista_SS4 = df4.SS\n",
        "lista_MS4 = df4.MS\n",
        "lista_MM4 = df4.MM\n",
        "lista_MI4 = df4.MI\n",
        "lista_II4 = df4.II\n",
        "lista_SR4 = df4.SR"
      ],
      "execution_count": 61,
      "outputs": []
    },
    {
      "cell_type": "code",
      "metadata": {
        "colab": {
          "base_uri": "https://localhost:8080/",
          "height": 638
        },
        "id": "9wU0qH2g16-Y",
        "outputId": "ece1c592-4af2-40e0-ebbe-595eb31e268c"
      },
      "source": [
        "#Gráfico das menções de C1 por professor\n",
        "plt.figure(figsize=(12,10))\n",
        "plt.barh(lista_professores4, lista_SR4, color=\"maroon\", label=\"SR\")\n",
        "plt.barh(lista_professores4, lista_II4, color=\"firebrick\", left=lista_SR4, label=\"II\")\n",
        "plt.barh(lista_professores4, lista_MI4, color=\"indianred\", left=[sum(data) for data in zip(lista_II4, lista_SR4)], label=\"MI\")\n",
        "plt.barh(lista_professores4, lista_MM4, color=\"limegreen\", left=[sum(data) for data in zip(lista_MI4, lista_II4, lista_SR4)], label=\"MM\")\n",
        "plt.barh(lista_professores4, lista_MS4, color=\"forestgreen\", left=[sum(data) for data in zip(lista_MM4, lista_MI4, lista_II4, lista_SR4)], label=\"MS\")\n",
        "plt.barh(lista_professores4, lista_SS4, color=\"darkgreen\", left=[sum(data) for data in zip(lista_MS4, lista_MM4, lista_MI4, lista_II4, lista_SR4)], label=\"SS\")\n",
        "plt.yticks([])\n",
        "plt.xlabel(\"Proporção das Menções\")\n",
        "plt.ylabel(\"Professores\")\n",
        "plt.title(\"Menções de C1 por Professor\")\n",
        "plt.legend(loc=\"best\",bbox_to_anchor=(1.0,1.0))\n",
        "plt.savefig('grafico_11.png')\n",
        "plt.show()\n",
        "plt.clf()"
      ],
      "execution_count": 90,
      "outputs": [
        {
          "output_type": "display_data",
          "data": {
            "image/png": "[encoded data removed]",
            "text/plain": [
              "<Figure size 864x720 with 1 Axes>"
            ]
          },
          "metadata": {
            "needs_background": "light"
          }
        },
        {
          "output_type": "display_data",
          "data": {
            "text/plain": [
              "<Figure size 432x288 with 0 Axes>"
            ]
          },
          "metadata": {}
        }
      ]
    },
    {
      "cell_type": "code",
      "metadata": {
        "id": "8WIUVC2HGlxG"
      },
      "source": [
        "#Preparação para o gráfico de barras superpostas (C2)\n",
        "lista_professores5 = db_mencoes[(db_mencoes[\"DISCIPLINA\"]==\"CALCULO 2\")].PROFESSOR.unique()\n",
        "\n",
        "#SR\n",
        "lista_SR5 = []\n",
        "for professor in lista_professores5:\n",
        "  lista_SR5.append(len(db_mencoes[(db_mencoes[\"DISCIPLINA\"]==\"CALCULO 2\") & (db_mencoes[\"PROFESSOR\"]==professor) & (db_mencoes[\"MENCAO\"]==\"SR\")])/len(db_mencoes[(db_mencoes[\"DISCIPLINA\"]==\"CALCULO 2\") & (db_mencoes[\"PROFESSOR\"]==professor)]))\n",
        "\n",
        "#II\n",
        "lista_II5 = []\n",
        "for professor in lista_professores5:\n",
        "  lista_II5.append(len(db_mencoes[(db_mencoes[\"DISCIPLINA\"]==\"CALCULO 2\") & (db_mencoes[\"PROFESSOR\"]==professor) & (db_mencoes[\"MENCAO\"]==\"II\")])/len(db_mencoes[(db_mencoes[\"DISCIPLINA\"]==\"CALCULO 2\") & (db_mencoes[\"PROFESSOR\"]==professor)]))\n",
        "\n",
        "#MI\n",
        "lista_MI5 = []\n",
        "for professor in lista_professores5:\n",
        "  lista_MI5.append(len(db_mencoes[(db_mencoes[\"DISCIPLINA\"]==\"CALCULO 2\") & (db_mencoes[\"PROFESSOR\"]==professor) & (db_mencoes[\"MENCAO\"]==\"MI\")])/len(db_mencoes[(db_mencoes[\"DISCIPLINA\"]==\"CALCULO 2\") & (db_mencoes[\"PROFESSOR\"]==professor)]))\n",
        "\n",
        "#MM\n",
        "lista_MM5 = []\n",
        "for professor in lista_professores5:\n",
        "  lista_MM5.append(len(db_mencoes[(db_mencoes[\"DISCIPLINA\"]==\"CALCULO 2\") & (db_mencoes[\"PROFESSOR\"]==professor) & (db_mencoes[\"MENCAO\"]==\"MM\")])/len(db_mencoes[(db_mencoes[\"DISCIPLINA\"]==\"CALCULO 2\") & (db_mencoes[\"PROFESSOR\"]==professor)]))\n",
        "\n",
        "#MS\n",
        "lista_MS5 = []\n",
        "for professor in lista_professores5:\n",
        "  lista_MS5.append(len(db_mencoes[(db_mencoes[\"DISCIPLINA\"]==\"CALCULO 2\") & (db_mencoes[\"PROFESSOR\"]==professor) & (db_mencoes[\"MENCAO\"]==\"MS\")])/len(db_mencoes[(db_mencoes[\"DISCIPLINA\"]==\"CALCULO 2\") & (db_mencoes[\"PROFESSOR\"]==professor)]))\n",
        "\n",
        "#SS\n",
        "lista_SS5 = []\n",
        "for professor in lista_professores5:\n",
        "  lista_SS5.append(len(db_mencoes[(db_mencoes[\"DISCIPLINA\"]==\"CALCULO 2\") & (db_mencoes[\"PROFESSOR\"]==professor) & (db_mencoes[\"MENCAO\"]==\"SS\")])/len(db_mencoes[(db_mencoes[\"DISCIPLINA\"]==\"CALCULO 2\") & (db_mencoes[\"PROFESSOR\"]==professor)]))"
      ],
      "execution_count": 63,
      "outputs": []
    },
    {
      "cell_type": "code",
      "metadata": {
        "id": "7jplewH3zQxt"
      },
      "source": [
        "#Ordenando por maior proporção de SS\n",
        "df5 = {\"Professor\" : lista_professores5, \"SR\" : lista_SR5, \"II\" : lista_II5, \"MI\" : lista_MI5, \"MM\" : lista_MM5, \"MS\" : lista_MS5, \"SS\" : lista_SS5}\n",
        "df5 = pd.DataFrame(df5)\n",
        "df5 = df5.sort_values('SS')\n",
        "lista_professores5 = df5.Professor\n",
        "lista_SS5 = df5.SS\n",
        "lista_MS5 = df5.MS\n",
        "lista_MM5 = df5.MM\n",
        "lista_MI5 = df5.MI\n",
        "lista_II5 = df5.II\n",
        "lista_SR5 = df5.SR"
      ],
      "execution_count": 64,
      "outputs": []
    },
    {
      "cell_type": "code",
      "metadata": {
        "colab": {
          "base_uri": "https://localhost:8080/",
          "height": 638
        },
        "id": "fNh24n5MHEfx",
        "outputId": "9a8f827a-7cd7-42be-98b9-4c48543aba79"
      },
      "source": [
        "#Gráfico das menções de C2 por professor\n",
        "plt.figure(figsize=(12,10))\n",
        "plt.barh(lista_professores5, lista_SR5, color=\"maroon\", label=\"SR\")\n",
        "plt.barh(lista_professores5, lista_II5, color=\"firebrick\", left=lista_SR5, label=\"II\")\n",
        "plt.barh(lista_professores5, lista_MI5, color=\"indianred\", left=[sum(data) for data in zip(lista_II5, lista_SR5)], label=\"MI\")\n",
        "plt.barh(lista_professores5, lista_MM5, color=\"limegreen\", left=[sum(data) for data in zip(lista_MI5, lista_II5, lista_SR5)], label=\"MM\")\n",
        "plt.barh(lista_professores5, lista_MS5, color=\"forestgreen\", left=[sum(data) for data in zip(lista_MM5, lista_MI5, lista_II5, lista_SR5)], label=\"MS\")\n",
        "plt.barh(lista_professores5, lista_SS5, color=\"darkgreen\", left=[sum(data) for data in zip(lista_MS5, lista_MM5, lista_MI5, lista_II5, lista_SR5)], label=\"SS\")\n",
        "plt.yticks([])\n",
        "plt.xlabel(\"Proporção das Menções\")\n",
        "plt.ylabel(\"Professores\")\n",
        "plt.title(\"Menções de C2 por Professor\")\n",
        "plt.legend(loc=\"best\",bbox_to_anchor=(1.0,1.0))\n",
        "plt.savefig('grafico_12.png')\n",
        "plt.show()\n",
        "plt.clf()"
      ],
      "execution_count": 91,
      "outputs": [
        {
          "output_type": "display_data",
          "data": {
            "image/png": "[encoded data removed]",
            "text/plain": [
              "<Figure size 864x720 with 1 Axes>"
            ]
          },
          "metadata": {
            "needs_background": "light"
          }
        },
        {
          "output_type": "display_data",
          "data": {
            "text/plain": [
              "<Figure size 432x288 with 0 Axes>"
            ]
          },
          "metadata": {}
        }
      ]
    },
    {
      "cell_type": "code",
      "metadata": {
        "id": "_DJhKppnJLmZ"
      },
      "source": [
        "#Preparação para o gráfico de barras superpostas (IP)\n",
        "lista_professores6 = db_mencoes[(db_mencoes[\"DISCIPLINA\"]==\"INTRODUCAO A PROBABILIDADE\")].PROFESSOR.unique()\n",
        "\n",
        "#SR\n",
        "lista_SR6 = []\n",
        "for professor in lista_professores6:\n",
        "  lista_SR6.append(len(db_mencoes[(db_mencoes[\"DISCIPLINA\"]==\"INTRODUCAO A PROBABILIDADE\") & (db_mencoes[\"PROFESSOR\"]==professor) & (db_mencoes[\"MENCAO\"]==\"SR\")])/len(db_mencoes[(db_mencoes[\"DISCIPLINA\"]==\"INTRODUCAO A PROBABILIDADE\") & (db_mencoes[\"PROFESSOR\"]==professor)]))\n",
        "\n",
        "#II\n",
        "lista_II6 = []\n",
        "for professor in lista_professores6:\n",
        "  lista_II6.append(len(db_mencoes[(db_mencoes[\"DISCIPLINA\"]==\"INTRODUCAO A PROBABILIDADE\") & (db_mencoes[\"PROFESSOR\"]==professor) & (db_mencoes[\"MENCAO\"]==\"II\")])/len(db_mencoes[(db_mencoes[\"DISCIPLINA\"]==\"INTRODUCAO A PROBABILIDADE\") & (db_mencoes[\"PROFESSOR\"]==professor)]))\n",
        "\n",
        "#MI\n",
        "lista_MI6 = []\n",
        "for professor in lista_professores6:\n",
        "  lista_MI6.append(len(db_mencoes[(db_mencoes[\"DISCIPLINA\"]==\"INTRODUCAO A PROBABILIDADE\") & (db_mencoes[\"PROFESSOR\"]==professor) & (db_mencoes[\"MENCAO\"]==\"MI\")])/len(db_mencoes[(db_mencoes[\"DISCIPLINA\"]==\"INTRODUCAO A PROBABILIDADE\") & (db_mencoes[\"PROFESSOR\"]==professor)]))\n",
        "\n",
        "#MM\n",
        "lista_MM6 = []\n",
        "for professor in lista_professores6:\n",
        "  lista_MM6.append(len(db_mencoes[(db_mencoes[\"DISCIPLINA\"]==\"INTRODUCAO A PROBABILIDADE\") & (db_mencoes[\"PROFESSOR\"]==professor) & (db_mencoes[\"MENCAO\"]==\"MM\")])/len(db_mencoes[(db_mencoes[\"DISCIPLINA\"]==\"INTRODUCAO A PROBABILIDADE\") & (db_mencoes[\"PROFESSOR\"]==professor)]))\n",
        "\n",
        "#MS\n",
        "lista_MS6 = []\n",
        "for professor in lista_professores6:\n",
        "  lista_MS6.append(len(db_mencoes[(db_mencoes[\"DISCIPLINA\"]==\"INTRODUCAO A PROBABILIDADE\") & (db_mencoes[\"PROFESSOR\"]==professor) & (db_mencoes[\"MENCAO\"]==\"MS\")])/len(db_mencoes[(db_mencoes[\"DISCIPLINA\"]==\"INTRODUCAO A PROBABILIDADE\") & (db_mencoes[\"PROFESSOR\"]==professor)]))\n",
        "\n",
        "#SS\n",
        "lista_SS6 = []\n",
        "for professor in lista_professores6:\n",
        "  lista_SS6.append(len(db_mencoes[(db_mencoes[\"DISCIPLINA\"]==\"INTRODUCAO A PROBABILIDADE\") & (db_mencoes[\"PROFESSOR\"]==professor) & (db_mencoes[\"MENCAO\"]==\"SS\")])/len(db_mencoes[(db_mencoes[\"DISCIPLINA\"]==\"INTRODUCAO A PROBABILIDADE\") & (db_mencoes[\"PROFESSOR\"]==professor)]))"
      ],
      "execution_count": 66,
      "outputs": []
    },
    {
      "cell_type": "code",
      "metadata": {
        "id": "xHuLI6703de3"
      },
      "source": [
        "#Ordenando por maior proporção de SS\n",
        "df6 = {\"Professor\" : lista_professores6, \"SR\" : lista_SR6, \"II\" : lista_II6, \"MI\" : lista_MI6, \"MM\" : lista_MM6, \"MS\" : lista_MS6, \"SS\" : lista_SS6}\n",
        "df6 = pd.DataFrame(df6)\n",
        "df6 = df6.sort_values('SS')\n",
        "lista_professores6 = df6.Professor\n",
        "lista_SS6 = df6.SS\n",
        "lista_MS6 = df6.MS\n",
        "lista_MM6 = df6.MM\n",
        "lista_MI6 = df6.MI\n",
        "lista_II6 = df6.II\n",
        "lista_SR6 = df6.SR"
      ],
      "execution_count": 67,
      "outputs": []
    },
    {
      "cell_type": "code",
      "metadata": {
        "colab": {
          "base_uri": "https://localhost:8080/",
          "height": 638
        },
        "id": "gMJ2ZhodJL-c",
        "outputId": "19b3555b-1b92-43dc-ac7d-dd91d0aed2a4"
      },
      "source": [
        "#Gráfico das menções de IP por professor\n",
        "plt.figure(figsize=(12,10))\n",
        "plt.barh(lista_professores6, lista_SR6, color=\"maroon\", label=\"SR\")\n",
        "plt.barh(lista_professores6, lista_II6, color=\"firebrick\", left=lista_SR6, label=\"II\")\n",
        "plt.barh(lista_professores6, lista_MI6, color=\"indianred\", left=[sum(data) for data in zip(lista_II6, lista_SR6)], label=\"MI\")\n",
        "plt.barh(lista_professores6, lista_MM6, color=\"limegreen\", left=[sum(data) for data in zip(lista_MI6, lista_II6, lista_SR6)], label=\"MM\")\n",
        "plt.barh(lista_professores6, lista_MS6, color=\"forestgreen\", left=[sum(data) for data in zip(lista_MM6, lista_MI6, lista_II6, lista_SR6)], label=\"MS\")\n",
        "plt.barh(lista_professores6, lista_SS6, color=\"darkgreen\", left=[sum(data) for data in zip(lista_MS6, lista_MM6, lista_MI6, lista_II6, lista_SR6)], label=\"SS\")\n",
        "plt.yticks([])\n",
        "plt.xlabel(\"Proporção das Menções\")\n",
        "plt.ylabel(\"Professores\")\n",
        "plt.title(\"Menções de IP por Professor\")\n",
        "plt.legend(loc=\"best\",bbox_to_anchor=(1.0,1.0))\n",
        "plt.savefig('grafico_13.png')\n",
        "plt.show()\n",
        "plt.clf()"
      ],
      "execution_count": 92,
      "outputs": [
        {
          "output_type": "display_data",
          "data": {
            "image/png": "[encoded data removed]",
            "text/plain": [
              "<Figure size 864x720 with 1 Axes>"
            ]
          },
          "metadata": {
            "needs_background": "light"
          }
        },
        {
          "output_type": "display_data",
          "data": {
            "text/plain": [
              "<Figure size 432x288 with 0 Axes>"
            ]
          },
          "metadata": {}
        }
      ]
    },
    {
      "cell_type": "code",
      "metadata": {
        "id": "Je4_Pa2U38mx"
      },
      "source": [
        "#Preparação para o gráfico de barras superpostas (ME1)\n",
        "lista_professores7 = db_mencoes[(db_mencoes[\"DISCIPLINA\"]==\"METODOS ESTATISTICOS 1\")].PROFESSOR.unique()\n",
        "\n",
        "#SR\n",
        "lista_SR7 = []\n",
        "for professor in lista_professores7:\n",
        "  lista_SR7.append(len(db_mencoes[(db_mencoes[\"DISCIPLINA\"]==\"METODOS ESTATISTICOS 1\") & (db_mencoes[\"PROFESSOR\"]==professor) & (db_mencoes[\"MENCAO\"]==\"SR\")])/len(db_mencoes[(db_mencoes[\"DISCIPLINA\"]==\"METODOS ESTATISTICOS 1\") & (db_mencoes[\"PROFESSOR\"]==professor)]))\n",
        "\n",
        "#II\n",
        "lista_II7 = []\n",
        "for professor in lista_professores7:\n",
        "  lista_II7.append(len(db_mencoes[(db_mencoes[\"DISCIPLINA\"]==\"METODOS ESTATISTICOS 1\") & (db_mencoes[\"PROFESSOR\"]==professor) & (db_mencoes[\"MENCAO\"]==\"II\")])/len(db_mencoes[(db_mencoes[\"DISCIPLINA\"]==\"METODOS ESTATISTICOS 1\") & (db_mencoes[\"PROFESSOR\"]==professor)]))\n",
        "\n",
        "#MI\n",
        "lista_MI7 = []\n",
        "for professor in lista_professores7:\n",
        "  lista_MI7.append(len(db_mencoes[(db_mencoes[\"DISCIPLINA\"]==\"METODOS ESTATISTICOS 1\") & (db_mencoes[\"PROFESSOR\"]==professor) & (db_mencoes[\"MENCAO\"]==\"MI\")])/len(db_mencoes[(db_mencoes[\"DISCIPLINA\"]==\"METODOS ESTATISTICOS 1\") & (db_mencoes[\"PROFESSOR\"]==professor)]))\n",
        "\n",
        "#MM\n",
        "lista_MM7 = []\n",
        "for professor in lista_professores7:\n",
        "  lista_MM7.append(len(db_mencoes[(db_mencoes[\"DISCIPLINA\"]==\"METODOS ESTATISTICOS 1\") & (db_mencoes[\"PROFESSOR\"]==professor) & (db_mencoes[\"MENCAO\"]==\"MM\")])/len(db_mencoes[(db_mencoes[\"DISCIPLINA\"]==\"METODOS ESTATISTICOS 1\") & (db_mencoes[\"PROFESSOR\"]==professor)]))\n",
        "\n",
        "#MS\n",
        "lista_MS7 = []\n",
        "for professor in lista_professores7:\n",
        "  lista_MS7.append(len(db_mencoes[(db_mencoes[\"DISCIPLINA\"]==\"METODOS ESTATISTICOS 1\") & (db_mencoes[\"PROFESSOR\"]==professor) & (db_mencoes[\"MENCAO\"]==\"MS\")])/len(db_mencoes[(db_mencoes[\"DISCIPLINA\"]==\"METODOS ESTATISTICOS 1\") & (db_mencoes[\"PROFESSOR\"]==professor)]))\n",
        "\n",
        "#SS\n",
        "lista_SS7 = []\n",
        "for professor in lista_professores7:\n",
        "  lista_SS7.append(len(db_mencoes[(db_mencoes[\"DISCIPLINA\"]==\"METODOS ESTATISTICOS 1\") & (db_mencoes[\"PROFESSOR\"]==professor) & (db_mencoes[\"MENCAO\"]==\"SS\")])/len(db_mencoes[(db_mencoes[\"DISCIPLINA\"]==\"METODOS ESTATISTICOS 1\") & (db_mencoes[\"PROFESSOR\"]==professor)]))"
      ],
      "execution_count": 69,
      "outputs": []
    },
    {
      "cell_type": "code",
      "metadata": {
        "id": "07OnRDLq4pCo"
      },
      "source": [
        "#Ordenando por maior proporção de SS\n",
        "df7 = {\"Professor\" : lista_professores7, \"SR\" : lista_SR7, \"II\" : lista_II7, \"MI\" : lista_MI7, \"MM\" : lista_MM7, \"MS\" : lista_MS7, \"SS\" : lista_SS7}\n",
        "df7 = pd.DataFrame(df7)\n",
        "df7 = df7.sort_values('SS')\n",
        "lista_professores7 = df7.Professor\n",
        "lista_SS7 = df7.SS\n",
        "lista_MS7 = df7.MS\n",
        "lista_MM7 = df7.MM\n",
        "lista_MI7 = df7.MI\n",
        "lista_II7 = df7.II\n",
        "lista_SR7 = df7.SR"
      ],
      "execution_count": 70,
      "outputs": []
    },
    {
      "cell_type": "code",
      "metadata": {
        "colab": {
          "base_uri": "https://localhost:8080/",
          "height": 638
        },
        "id": "8KXWf8cd48re",
        "outputId": "13c26120-2132-4aa7-ba15-8d3b56338228"
      },
      "source": [
        "#Gráfico das menções de ME1 por professor\n",
        "plt.figure(figsize=(12,10))\n",
        "plt.barh(lista_professores7, lista_SR7, color=\"maroon\", label=\"SR\")\n",
        "plt.barh(lista_professores7, lista_II7, color=\"firebrick\", left=lista_SR7, label=\"II\")\n",
        "plt.barh(lista_professores7, lista_MI7, color=\"indianred\", left=[sum(data) for data in zip(lista_II7, lista_SR7)], label=\"MI\")\n",
        "plt.barh(lista_professores7, lista_MM7, color=\"limegreen\", left=[sum(data) for data in zip(lista_MI7, lista_II7, lista_SR7)], label=\"MM\")\n",
        "plt.barh(lista_professores7, lista_MS7, color=\"forestgreen\", left=[sum(data) for data in zip(lista_MM7, lista_MI7, lista_II7, lista_SR7)], label=\"MS\")\n",
        "plt.barh(lista_professores7, lista_SS7, color=\"darkgreen\", left=[sum(data) for data in zip(lista_MS7, lista_MM7, lista_MI7, lista_II7, lista_SR7)], label=\"SS\")\n",
        "plt.yticks([])\n",
        "plt.xlabel(\"Proporção das Menções\")\n",
        "plt.ylabel(\"Professores\")\n",
        "plt.title(\"Menções de ME1 por Professor\")\n",
        "plt.legend(loc=\"best\",bbox_to_anchor=(1.0,1.0))\n",
        "plt.savefig('grafico_14.png')\n",
        "plt.show()\n",
        "plt.clf()"
      ],
      "execution_count": 93,
      "outputs": [
        {
          "output_type": "display_data",
          "data": {
            "image/png": "[encoded data removed]",
            "text/plain": [
              "<Figure size 864x720 with 1 Axes>"
            ]
          },
          "metadata": {
            "needs_background": "light"
          }
        },
        {
          "output_type": "display_data",
          "data": {
            "text/plain": [
              "<Figure size 432x288 with 0 Axes>"
            ]
          },
          "metadata": {}
        }
      ]
    },
    {
      "cell_type": "code",
      "metadata": {
        "id": "pAPeTl7r5vSx"
      },
      "source": [
        "#Preparação para o gráfico de barras superpostas (ME2)\n",
        "lista_professores8 = db_mencoes[(db_mencoes[\"DISCIPLINA\"]==\"METODOS ESTATISTICOS 2\")].PROFESSOR.unique()\n",
        "\n",
        "#SR\n",
        "lista_SR8 = []\n",
        "for professor in lista_professores8:\n",
        "  lista_SR8.append(len(db_mencoes[(db_mencoes[\"DISCIPLINA\"]==\"METODOS ESTATISTICOS 2\") & (db_mencoes[\"PROFESSOR\"]==professor) & (db_mencoes[\"MENCAO\"]==\"SR\")])/len(db_mencoes[(db_mencoes[\"DISCIPLINA\"]==\"METODOS ESTATISTICOS 2\") & (db_mencoes[\"PROFESSOR\"]==professor)]))\n",
        "\n",
        "#II\n",
        "lista_II8 = []\n",
        "for professor in lista_professores8:\n",
        "  lista_II8.append(len(db_mencoes[(db_mencoes[\"DISCIPLINA\"]==\"METODOS ESTATISTICOS 2\") & (db_mencoes[\"PROFESSOR\"]==professor) & (db_mencoes[\"MENCAO\"]==\"II\")])/len(db_mencoes[(db_mencoes[\"DISCIPLINA\"]==\"METODOS ESTATISTICOS 2\") & (db_mencoes[\"PROFESSOR\"]==professor)]))\n",
        "\n",
        "#MI\n",
        "lista_MI8 = []\n",
        "for professor in lista_professores8:\n",
        "  lista_MI8.append(len(db_mencoes[(db_mencoes[\"DISCIPLINA\"]==\"METODOS ESTATISTICOS 2\") & (db_mencoes[\"PROFESSOR\"]==professor) & (db_mencoes[\"MENCAO\"]==\"MI\")])/len(db_mencoes[(db_mencoes[\"DISCIPLINA\"]==\"METODOS ESTATISTICOS 2\") & (db_mencoes[\"PROFESSOR\"]==professor)]))\n",
        "\n",
        "#MM\n",
        "lista_MM8 = []\n",
        "for professor in lista_professores8:\n",
        "  lista_MM8.append(len(db_mencoes[(db_mencoes[\"DISCIPLINA\"]==\"METODOS ESTATISTICOS 2\") & (db_mencoes[\"PROFESSOR\"]==professor) & (db_mencoes[\"MENCAO\"]==\"MM\")])/len(db_mencoes[(db_mencoes[\"DISCIPLINA\"]==\"METODOS ESTATISTICOS 2\") & (db_mencoes[\"PROFESSOR\"]==professor)]))\n",
        "\n",
        "#MS\n",
        "lista_MS8 = []\n",
        "for professor in lista_professores8:\n",
        "  lista_MS8.append(len(db_mencoes[(db_mencoes[\"DISCIPLINA\"]==\"METODOS ESTATISTICOS 2\") & (db_mencoes[\"PROFESSOR\"]==professor) & (db_mencoes[\"MENCAO\"]==\"MS\")])/len(db_mencoes[(db_mencoes[\"DISCIPLINA\"]==\"METODOS ESTATISTICOS 2\") & (db_mencoes[\"PROFESSOR\"]==professor)]))\n",
        "\n",
        "#SS\n",
        "lista_SS8 = []\n",
        "for professor in lista_professores8:\n",
        "  lista_SS8.append(len(db_mencoes[(db_mencoes[\"DISCIPLINA\"]==\"METODOS ESTATISTICOS 2\") & (db_mencoes[\"PROFESSOR\"]==professor) & (db_mencoes[\"MENCAO\"]==\"SS\")])/len(db_mencoes[(db_mencoes[\"DISCIPLINA\"]==\"METODOS ESTATISTICOS 2\") & (db_mencoes[\"PROFESSOR\"]==professor)]))"
      ],
      "execution_count": 72,
      "outputs": []
    },
    {
      "cell_type": "code",
      "metadata": {
        "id": "zORIz32j6gGe"
      },
      "source": [
        "#Ordenando por maior proporção de SS\n",
        "df8 = {\"Professor\" : lista_professores8, \"SR\" : lista_SR8, \"II\" : lista_II8, \"MI\" : lista_MI8, \"MM\" : lista_MM8, \"MS\" : lista_MS8, \"SS\" : lista_SS8}\n",
        "df8 = pd.DataFrame(df8)\n",
        "df8 = df8.sort_values('SS')\n",
        "lista_professores8 = df8.Professor\n",
        "lista_SS8 = df8.SS\n",
        "lista_MS8 = df8.MS\n",
        "lista_MM8 = df8.MM\n",
        "lista_MI8 = df8.MI\n",
        "lista_II8 = df8.II\n",
        "lista_SR8 = df8.SR"
      ],
      "execution_count": 73,
      "outputs": []
    },
    {
      "cell_type": "code",
      "metadata": {
        "colab": {
          "base_uri": "https://localhost:8080/",
          "height": 638
        },
        "id": "dmllkbEe6jt0",
        "outputId": "16888671-6fed-4c47-af4b-26f654be5503"
      },
      "source": [
        "#Gráfico das menções de ME2 por professor\n",
        "plt.figure(figsize=(12,10))\n",
        "plt.barh(lista_professores8, lista_SR8, color=\"maroon\", label=\"SR\")\n",
        "plt.barh(lista_professores8, lista_II8, color=\"firebrick\", left=lista_SR8, label=\"II\")\n",
        "plt.barh(lista_professores8, lista_MI8, color=\"indianred\", left=[sum(data) for data in zip(lista_II8, lista_SR8)], label=\"MI\")\n",
        "plt.barh(lista_professores8, lista_MM8, color=\"limegreen\", left=[sum(data) for data in zip(lista_MI8, lista_II8, lista_SR8)], label=\"MM\")\n",
        "plt.barh(lista_professores8, lista_MS8, color=\"forestgreen\", left=[sum(data) for data in zip(lista_MM8, lista_MI8, lista_II8, lista_SR8)], label=\"MS\")\n",
        "plt.barh(lista_professores8, lista_SS8, color=\"darkgreen\", left=[sum(data) for data in zip(lista_MS8, lista_MM8, lista_MI8, lista_II8, lista_SR8)], label=\"SS\")\n",
        "plt.yticks([])\n",
        "plt.xlabel(\"Proporção das Menções\")\n",
        "plt.ylabel(\"Professores\")\n",
        "plt.title(\"Menções de ME2 por Professor\")\n",
        "plt.legend(loc=\"best\",bbox_to_anchor=(1.0,1.0))\n",
        "plt.savefig('grafico_15.png')\n",
        "plt.show()\n",
        "plt.clf()"
      ],
      "execution_count": 94,
      "outputs": [
        {
          "output_type": "display_data",
          "data": {
            "image/png": "[encoded data removed]",
            "text/plain": [
              "<Figure size 864x720 with 1 Axes>"
            ]
          },
          "metadata": {
            "needs_background": "light"
          }
        },
        {
          "output_type": "display_data",
          "data": {
            "text/plain": [
              "<Figure size 432x288 with 0 Axes>"
            ]
          },
          "metadata": {}
        }
      ]
    },
    {
      "cell_type": "markdown",
      "metadata": {
        "id": "CBRXauyyKFkI"
      },
      "source": [
        "### 7.Quais disciplinas podem precisar de novas turmas? \n",
        "\n",
        "Variáveis de interesse: período, disciplina, menção. \n",
        "\n",
        "Método: localizar as disciplinas com maior taxa de reprovação e fazer a análise para cada uma delas. Usar gráfico de colunas transparentes e sobrepostas para comparar o número de matrículas em cada semestre e o número de estudantes que reprovaram a matéria no semestre anterior. \n",
        "\n",
        "Obs.: partir do pressuposto de que quem reprovou vai querer fazer a matéria de novo no semestre seguinte. Usar os dados dos últimos anos. Focar análise nos estudantes de estatística. "
      ]
    },
    {
      "cell_type": "code",
      "metadata": {
        "colab": {
          "base_uri": "https://localhost:8080/",
          "height": 349
        },
        "id": "u7_X-zt4Jfbr",
        "outputId": "16b531ea-7290-4ef3-afcc-25b439076697"
      },
      "source": [
        "#análise do semestre 2020.1 com base nas reprovações de 2019.2\n",
        "#Top 10 matérias com maiores valores de reprovação de 2019.2 \n",
        "semestre_20192 = db[db.SEMESTRE == '20192']\n",
        "semestre_est_20192 = semestre_20192[semestre_20192.CURSO == 'ESTATISTICA']\n",
        "reprovados_est_20192 = semestre_est_20192[semestre_est_20192.APROVACAO == 'NAO']\n",
        "reprovacao_por_disciplina = reprovados_est_20192.value_counts('DISCIPLINA')\n",
        "cont_reprovacoes_20192 = reprovacao_por_disciplina.head(10)\n",
        "a=cont_reprovacoes_20192.reset_index().values.tolist()\n",
        "a_df = pd.DataFrame(a)\n",
        "a_df.columns=['DISCIPLINA', 'QUANTIDADE']\n",
        "df_reprovacoes = a_df\n",
        "\n",
        "#Quantidade de matrículas nas matérias listadas acima no ano de 2020.1\n",
        "semestre_20201 = db[db.SEMESTRE == '20201']\n",
        "est_20201 = semestre_20201[semestre_20201.CURSO == 'ESTATISTICA']\n",
        "cont_matriculas_20201 = est_20201.value_counts('DISCIPLINA')\n",
        "\n",
        "\n",
        "#gráfico conjunto\n",
        "labels = df_reprovacoes['DISCIPLINA'].values.tolist()\n",
        "valor_reprovacoes = df_reprovacoes['QUANTIDADE'].values.tolist()\n",
        "valor_matriculas = [43,41,13,45,27,28,31,32,36,36]\n",
        "\n",
        "x = np.arange(len(labels))  # localização das legendas\n",
        "width = 0.35  # grossura das barras\n",
        "plt.figure(figsize=(12, 20))\n",
        "fig, ax = plt.subplots()\n",
        "rects1 = ax.bar(x - width/2, valor_reprovacoes, width, label='Reprovações', color='Red')\n",
        "rects2 = ax.bar(x + width/2, valor_matriculas, width, label='Matrículas', color='Green')\n",
        "\n",
        "# Adicionando textos e legendas e etc\n",
        "ax.set_ylabel('Quantidade de alunos')\n",
        "ax.set_title('Matrículas 2020.1 e Reprovações 2019.2 lado-a-lado')\n",
        "ax.set_xticks(x)\n",
        "ax.set_xticklabels(labels)\n",
        "plt.xticks(rotation=90)\n",
        "ax.legend()\n",
        "\n",
        "fig.tight_layout()\n",
        "plt.figure(figsize=(12, 7))\n",
        "plt.savefig('grafico_16.png')\n",
        "plt.show()\n",
        "plt.clf()\n",
        "#Fonte: UnB/Decanato de Graduação\n"
      ],
      "execution_count": 95,
      "outputs": [
        {
          "output_type": "display_data",
          "data": {
            "text/plain": [
              "<Figure size 864x1440 with 0 Axes>"
            ]
          },
          "metadata": {}
        },
        {
          "output_type": "display_data",
          "data": {
            "image/png": "[encoded data removed]",
            "text/plain": [
              "<Figure size 432x288 with 1 Axes>"
            ]
          },
          "metadata": {
            "needs_background": "light"
          }
        },
        {
          "output_type": "display_data",
          "data": {
            "text/plain": [
              "<Figure size 864x504 with 0 Axes>"
            ]
          },
          "metadata": {}
        },
        {
          "output_type": "display_data",
          "data": {
            "text/plain": [
              "<Figure size 432x288 with 0 Axes>"
            ]
          },
          "metadata": {}
        }
      ]
    },
    {
      "cell_type": "code",
      "metadata": {
        "colab": {
          "base_uri": "https://localhost:8080/",
          "height": 349
        },
        "id": "E92kGrzqTvSI",
        "outputId": "2fc6bb63-b70e-47ab-b7f3-d993311b2d47"
      },
      "source": [
        "#análise do semestre 2020.2 com base nas reprovações de 2020.1\n",
        "#Top 10 matérias com maiores valores de reprovação de 2020.1\n",
        "semestre_20201 = db[db.SEMESTRE == '20201']\n",
        "semestre_est_20201 = semestre_20201[semestre_20201.CURSO == 'ESTATISTICA']\n",
        "reprovados_est_20201 = semestre_est_20201[semestre_est_20201.APROVACAO == 'NAO']\n",
        "reprovacao_por_disciplina = reprovados_est_20201.value_counts('DISCIPLINA')\n",
        "cont_reprovacoes_20201 = reprovacao_por_disciplina.head(10)\n",
        "a=cont_reprovacoes_20201.reset_index().values.tolist()\n",
        "a_df = pd.DataFrame(a)\n",
        "a_df.columns=['DISCIPLINA', 'QUANTIDADE']\n",
        "df_reprovacoes = a_df\n",
        "\n",
        "#Quantidade de matrículas nas matérias listadas acima no ano de 2020.2\n",
        "semestre_20202 = db[db.SEMESTRE == '20202']\n",
        "est_20202 = semestre_20202[semestre_20202.CURSO == 'ESTATISTICA']\n",
        "cont_matriculas_20202 = est_20202.value_counts('DISCIPLINA')\n",
        "\n",
        "\n",
        "#gráfico conjunto\n",
        "labels = df_reprovacoes['DISCIPLINA'].values.tolist()\n",
        "valor_reprovacoes = df_reprovacoes['QUANTIDADE'].values.tolist()\n",
        "valor_matriculas = [23,34,22,31,31,41,30,25,12,15]\n",
        "\n",
        "x = np.arange(len(labels))  # localização das legendas\n",
        "width = 0.35  # grossura das barras\n",
        "\n",
        "fig, ax = plt.subplots()\n",
        "rects1 = ax.bar(x - width/2, valor_reprovacoes, width, label='Reprovações', color='Red')\n",
        "rects2 = ax.bar(x + width/2, valor_matriculas, width, label='Matrículas', color='Green')\n",
        "\n",
        "# Adicionando textos e legendas e etc\n",
        "ax.set_ylabel('Quantidade de alunos')\n",
        "ax.set_title('Matrículas 2020.1 e Reprovações 2020.1 lado-a-lado')\n",
        "ax.set_xticks(x)\n",
        "ax.set_xticklabels(labels)\n",
        "plt.xticks(rotation=90)\n",
        "ax.legend()\n",
        "\n",
        "fig.tight_layout()\n",
        "plt.figure(figsize=(12, 7))\n",
        "plt.savefig('grafico_17.png')\n",
        "plt.show()\n",
        "plt.clf()\n",
        "#Fonte: UnB/Decanato de Graduação"
      ],
      "execution_count": 96,
      "outputs": [
        {
          "output_type": "display_data",
          "data": {
            "image/png": "[encoded data removed]",
            "text/plain": [
              "<Figure size 432x288 with 1 Axes>"
            ]
          },
          "metadata": {
            "needs_background": "light"
          }
        },
        {
          "output_type": "display_data",
          "data": {
            "text/plain": [
              "<Figure size 864x504 with 0 Axes>"
            ]
          },
          "metadata": {}
        },
        {
          "output_type": "display_data",
          "data": {
            "text/plain": [
              "<Figure size 432x288 with 0 Axes>"
            ]
          },
          "metadata": {}
        }
      ]
    },
    {
      "cell_type": "markdown",
      "metadata": {
        "id": "jXfzRy6-KGVA"
      },
      "source": [
        "### 8.Como a porcentagem de reprovação em Cálculo de Probabilidade 1 muda quando o aluno cursa a matéria ao mesmo tempo que cursa Cálculo 3? \n",
        "\n",
        "Variáveis de interesse: período, disciplina, menção, aluno \n",
        "\n",
        "Método: Localizar todos os alunos que cursaram CP1 e Cálculo 3 e fazer a análise de reprovação para alunos que fizeram as matérias conjuntamente e separadamente. Usar uma tabela com os valores das porcentagens de reprovação para comparação das possíveis diferenças da taxa de reprovação. "
      ]
    },
    {
      "cell_type": "code",
      "metadata": {
        "id": "g6gpIXIwKEJq"
      },
      "source": [
        "#Entradas de alunos de Estatística que cursaram Cálculo de Probabilidade 1 e Cálculo 3 no mesmo semestre. \n",
        "#Selecionando alunos de Estatística\n",
        "alunos_est = db[db.CURSO == \"ESTATISTICA\"]\n",
        "\n",
        "#Selecionando alunos que cursaram CP1 ou C3\n",
        "c3 = alunos_est[alunos_est.DISCIPLINA == \"CALCULO 3\"]\n",
        "cp1 = alunos_est[alunos_est.DISCIPLINA == \"CALCULO DE PROBABILIDADE 1\"]\n",
        "c3_cp1 = pd.concat([c3, cp1], axis=0)\n",
        "\n",
        "#para cada semestre, vamos ver se o aluno aparece duas vezes. Se sim, significa que ele cursou CP1 e C3\n",
        "#ao mesmo tempo.\n",
        "\n",
        "x=c3_cp1.value_counts('MATRICULA')\n",
        "c3_cp1['CONTAGEM']=c3_cp1['MATRICULA'].map(x)\n",
        "\n",
        "#Taxa de reprovação de C3 dentro da condição: 0,476\n",
        "#Taxa de reprovação de CP1 dentro da condição: 0,351"
      ],
      "execution_count": 77,
      "outputs": []
    },
    {
      "cell_type": "code",
      "metadata": {
        "colab": {
          "base_uri": "https://localhost:8080/"
        },
        "id": "SKoEpUA5-TB6",
        "outputId": "74c18449-5695-4b10-9bb6-1db1002bc3a6"
      },
      "source": [
        "#Taxa geral de reprovação de Cálculo 3 entre os alunos de estatística\n",
        "db_est = db[db.CURSO == 'ESTATISTICA']\n",
        "x = 'CALCULO 3'\n",
        "db_est_c3 = db_est[db_est.DISCIPLINA == x]\n",
        "db_est_c3_rep = db_est_c3[db_est_c3.APROVACAO == 'NAO']\n",
        "taxa_reprovacao_c3 = len(db_est_c3_rep)/len(db_est_c3)\n",
        "print(taxa_reprovacao_c3)\n",
        "\n",
        "#Taxa geral de reprovação de Cálculo 3 entre os alunos de estatística\n",
        "db_est = db[db.CURSO == 'ESTATISTICA']\n",
        "x = 'CALCULO DE PROBABILIDADE 1'\n",
        "db_est_c3 = db_est[db_est.DISCIPLINA == x]\n",
        "db_est_c3_rep = db_est_c3[db_est_c3.APROVACAO == 'NAO']\n",
        "taxa_reprovacao_cp1 = len(db_est_c3_rep)/len(db_est_c3)\n",
        "print(taxa_reprovacao_cp1)\n",
        "\n",
        "#Taxa de reprovação geral de C3 entre alunos de Estatística: 0.375\n",
        "#Taxa de reprovação geral de CP1 entre alunos de Estatística: 0.287"
      ],
      "execution_count": 78,
      "outputs": [
        {
          "output_type": "stream",
          "name": "stdout",
          "text": [
            "0.3748271092669433\n",
            "0.2868085106382979\n"
          ]
        }
      ]
    },
    {
      "cell_type": "code",
      "metadata": {
        "colab": {
          "base_uri": "https://localhost:8080/"
        },
        "id": "-F-_9r2HVhrv",
        "outputId": "9bdb1493-2d72-4388-888e-172d0be47f36"
      },
      "source": [
        "#Tabela dos valores\n",
        "\n",
        "df = pd.DataFrame({'Reprovação Simultânea' : [0.476, 0.351],\n",
        "                   'Reprovação Separada' : [0.375, 0.287]})\n",
        "print(tabulate(df, headers='keys', tablefmt='psql'))\n",
        "\n",
        "#Fonte: UnB/Decanato de Graduação"
      ],
      "execution_count": 79,
      "outputs": [
        {
          "output_type": "stream",
          "name": "stdout",
          "text": [
            "+----+-------------------------+-----------------------+\n",
            "|    |   Reprovação Simultânea |   Reprovação Separada |\n",
            "|----+-------------------------+-----------------------|\n",
            "|  0 |                   0.476 |                 0.375 |\n",
            "|  1 |                   0.351 |                 0.287 |\n",
            "+----+-------------------------+-----------------------+\n"
          ]
        }
      ]
    }
  ]
}